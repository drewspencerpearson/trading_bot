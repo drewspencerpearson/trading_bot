{
 "cells": [
  {
   "cell_type": "code",
   "execution_count": 1,
   "metadata": {},
   "outputs": [],
   "source": [
    "import pandas as pd\n",
    "import json\n",
    "import os"
   ]
  },
  {
   "cell_type": "code",
   "execution_count": 6,
   "metadata": {},
   "outputs": [],
   "source": [
    "#Tickers = ['PINS', 'SFIX', 'AMD', 'CSTM', 'WFC', 'T', 'CGNX', 'NCLH', 'MAR', 'INTC']\n",
    "Tickers = os.listdir('../version_2/data/')"
   ]
  },
  {
   "cell_type": "code",
   "execution_count": 20,
   "metadata": {},
   "outputs": [],
   "source": [
    "results = []\n",
    "for ticker in Tickers:\n",
    "    if os.path.exists('../version_2/data/{}/purchase_results.json'.format(ticker)):\n",
    "        with open('../version_2/data/{}/purchase_results.json'.format(ticker)) as json_file:\n",
    "                results.append(json.load(json_file))"
   ]
  },
  {
   "cell_type": "code",
   "execution_count": 19,
   "metadata": {},
   "outputs": [
    {
     "ename": "ValueError",
     "evalue": "I/O operation on closed file.",
     "output_type": "error",
     "traceback": [
      "\u001b[0;31m---------------------------------------------------------------------------\u001b[0m",
      "\u001b[0;31mValueError\u001b[0m                                Traceback (most recent call last)",
      "\u001b[0;32m<ipython-input-19-a4c58fec5f36>\u001b[0m in \u001b[0;36m<module>\u001b[0;34m\u001b[0m\n\u001b[0;32m----> 1\u001b[0;31m \u001b[0mjson\u001b[0m\u001b[0;34m.\u001b[0m\u001b[0mload\u001b[0m\u001b[0;34m(\u001b[0m\u001b[0mjson_file\u001b[0m\u001b[0;34m)\u001b[0m\u001b[0;34m\u001b[0m\u001b[0;34m\u001b[0m\u001b[0m\n\u001b[0m",
      "\u001b[0;32m~/anaconda3/lib/python3.6/json/__init__.py\u001b[0m in \u001b[0;36mload\u001b[0;34m(fp, cls, object_hook, parse_float, parse_int, parse_constant, object_pairs_hook, **kw)\u001b[0m\n\u001b[1;32m    294\u001b[0m \u001b[0;34m\u001b[0m\u001b[0m\n\u001b[1;32m    295\u001b[0m     \"\"\"\n\u001b[0;32m--> 296\u001b[0;31m     return loads(fp.read(),\n\u001b[0m\u001b[1;32m    297\u001b[0m         \u001b[0mcls\u001b[0m\u001b[0;34m=\u001b[0m\u001b[0mcls\u001b[0m\u001b[0;34m,\u001b[0m \u001b[0mobject_hook\u001b[0m\u001b[0;34m=\u001b[0m\u001b[0mobject_hook\u001b[0m\u001b[0;34m,\u001b[0m\u001b[0;34m\u001b[0m\u001b[0;34m\u001b[0m\u001b[0m\n\u001b[1;32m    298\u001b[0m         \u001b[0mparse_float\u001b[0m\u001b[0;34m=\u001b[0m\u001b[0mparse_float\u001b[0m\u001b[0;34m,\u001b[0m \u001b[0mparse_int\u001b[0m\u001b[0;34m=\u001b[0m\u001b[0mparse_int\u001b[0m\u001b[0;34m,\u001b[0m\u001b[0;34m\u001b[0m\u001b[0;34m\u001b[0m\u001b[0m\n",
      "\u001b[0;31mValueError\u001b[0m: I/O operation on closed file."
     ]
    }
   ],
   "source": [
    "json.load(json_file)"
   ]
  },
  {
   "cell_type": "code",
   "execution_count": 26,
   "metadata": {},
   "outputs": [],
   "source": [
    "purchased_results = []\n",
    "for r in results:\n",
    "   \n",
    "    if 'Purchases' in r:\n",
    "        continue\n",
    "    else:\n",
    "        purchased_results.append(r)\n",
    "    "
   ]
  },
  {
   "cell_type": "code",
   "execution_count": 28,
   "metadata": {},
   "outputs": [
    {
     "data": {
      "text/plain": [
       "[{'ticker': 'PINS',\n",
       "  'purchases': 1,\n",
       "  'classic_success': 1,\n",
       "  'classic_failures': 0,\n",
       "  'total_investment': 13.46,\n",
       "  'investment_success': 13.46,\n",
       "  'investment_failure': 0,\n",
       "  'dollar_success': 14.133000000000001,\n",
       "  'two_day_get_out': 0,\n",
       "  'hold_gains': 0,\n",
       "  'days_held': [],\n",
       "  'never_sold_closeout': 0,\n",
       "  'two_day_strategy': 14.133000000000001,\n",
       "  'two_day_strategy_roi': 0.05,\n",
       "  'hold_strategy': 14.133000000000001,\n",
       "  'hold_strategy_roi': 0.05},\n",
       " {'ticker': 'PTON',\n",
       "  'purchases': 22,\n",
       "  'classic_success': 10,\n",
       "  'classic_failures': 12,\n",
       "  'total_investment': 665.95,\n",
       "  'investment_success': 290.53000000000003,\n",
       "  'investment_failure': 375.41999999999996,\n",
       "  'dollar_success': 305.0565,\n",
       "  'two_day_get_out': 363.52,\n",
       "  'hold_gains': 394.191,\n",
       "  'days_held': [11, 4, 3, 3, 6, 20, 2, 13, 7, 32, 5, 10],\n",
       "  'never_sold_closeout': 0,\n",
       "  'two_day_strategy': 668.5765,\n",
       "  'two_day_strategy_roi': 0.0039439897890231465,\n",
       "  'hold_strategy': 699.2475,\n",
       "  'hold_strategy_roi': 0.04999999999999984},\n",
       " {'ticker': 'NCLH',\n",
       "  'purchases': 6,\n",
       "  'classic_success': 3,\n",
       "  'classic_failures': 3,\n",
       "  'total_investment': 66.52,\n",
       "  'investment_success': 28.200000000000003,\n",
       "  'investment_failure': 38.32,\n",
       "  'dollar_success': 29.610000000000003,\n",
       "  'two_day_get_out': 33.76,\n",
       "  'hold_gains': 40.236000000000004,\n",
       "  'days_held': [6, 10, 8],\n",
       "  'never_sold_closeout': 0,\n",
       "  'two_day_strategy': 63.370000000000005,\n",
       "  'two_day_strategy_roi': -0.04735417919422717,\n",
       "  'hold_strategy': 69.846,\n",
       "  'hold_strategy_roi': 0.05000000000000012},\n",
       " {'ticker': 'INTC',\n",
       "  'purchases': 8,\n",
       "  'classic_success': 4,\n",
       "  'classic_failures': 4,\n",
       "  'total_investment': 416.85,\n",
       "  'investment_success': 192.66,\n",
       "  'investment_failure': 224.19,\n",
       "  'dollar_success': 202.293,\n",
       "  'two_day_get_out': 219.43,\n",
       "  'hold_gains': 235.39950000000002,\n",
       "  'days_held': [5, 7, 22, 29],\n",
       "  'never_sold_closeout': 0,\n",
       "  'two_day_strategy': 421.723,\n",
       "  'two_day_strategy_roi': 0.011690056375194892,\n",
       "  'hold_strategy': 437.6925,\n",
       "  'hold_strategy_roi': 0.04999999999999993},\n",
       " {'ticker': 'UAA',\n",
       "  'purchases': 2,\n",
       "  'classic_success': 1,\n",
       "  'classic_failures': 1,\n",
       "  'total_investment': 25.45,\n",
       "  'investment_success': 16.15,\n",
       "  'investment_failure': 9.3,\n",
       "  'dollar_success': 16.9575,\n",
       "  'two_day_get_out': 8.06,\n",
       "  'hold_gains': 9.765,\n",
       "  'days_held': [4],\n",
       "  'never_sold_closeout': 0,\n",
       "  'two_day_strategy': 25.0175,\n",
       "  'two_day_strategy_roi': -0.016994106090373322,\n",
       "  'hold_strategy': 26.7225,\n",
       "  'hold_strategy_roi': 0.05000000000000004},\n",
       " {'ticker': 'WFC',\n",
       "  'purchases': 10,\n",
       "  'classic_success': 4,\n",
       "  'classic_failures': 6,\n",
       "  'total_investment': 269.03999999999996,\n",
       "  'investment_success': 105.18,\n",
       "  'investment_failure': 163.85999999999999,\n",
       "  'dollar_success': 110.43900000000001,\n",
       "  'two_day_get_out': 157.15,\n",
       "  'hold_gains': 111.75150000000001,\n",
       "  'days_held': [0, 11, 1, 0, 10, 4],\n",
       "  'never_sold_closeout': -4.909999999999997,\n",
       "  'two_day_strategy': 267.589,\n",
       "  'two_day_strategy_roi': -0.005393250074338259,\n",
       "  'hold_strategy': 222.19050000000001,\n",
       "  'hold_strategy_roi': -0.17413581623550384},\n",
       " {'ticker': 'AMD',\n",
       "  'purchases': 3,\n",
       "  'classic_success': 2,\n",
       "  'classic_failures': 1,\n",
       "  'total_investment': 51.79,\n",
       "  'investment_success': 27.43,\n",
       "  'investment_failure': 24.36,\n",
       "  'dollar_success': 28.8015,\n",
       "  'two_day_get_out': 24.89,\n",
       "  'hold_gains': 25.578,\n",
       "  'days_held': [2],\n",
       "  'never_sold_closeout': 0,\n",
       "  'two_day_strategy': 53.691500000000005,\n",
       "  'two_day_strategy_roi': 0.03671558215871801,\n",
       "  'hold_strategy': 54.3795,\n",
       "  'hold_strategy_roi': 0.050000000000000024},\n",
       " {'ticker': 'CSTM',\n",
       "  'purchases': 6,\n",
       "  'classic_success': 6,\n",
       "  'classic_failures': 0,\n",
       "  'total_investment': 33.74,\n",
       "  'investment_success': 33.74,\n",
       "  'investment_failure': 0,\n",
       "  'dollar_success': 35.427,\n",
       "  'two_day_get_out': 0,\n",
       "  'hold_gains': 0,\n",
       "  'days_held': [],\n",
       "  'never_sold_closeout': 0,\n",
       "  'two_day_strategy': 35.427,\n",
       "  'two_day_strategy_roi': 0.049999999999999926,\n",
       "  'hold_strategy': 35.427,\n",
       "  'hold_strategy_roi': 0.049999999999999926},\n",
       " {'ticker': 'KAR',\n",
       "  'purchases': 10,\n",
       "  'classic_success': 6,\n",
       "  'classic_failures': 4,\n",
       "  'total_investment': 121.16000000000001,\n",
       "  'investment_success': 68.54,\n",
       "  'investment_failure': 52.620000000000005,\n",
       "  'dollar_success': 71.96700000000001,\n",
       "  'two_day_get_out': 50.82,\n",
       "  'hold_gains': 39.2385,\n",
       "  'days_held': [6, 0, 8, 8],\n",
       "  'never_sold_closeout': -1.5999999999999996,\n",
       "  'two_day_strategy': 122.787,\n",
       "  'two_day_strategy_roi': 0.013428524265434097,\n",
       "  'hold_strategy': 111.20550000000001,\n",
       "  'hold_strategy_roi': -0.08215995378012542},\n",
       " {'ticker': 'SYF',\n",
       "  'purchases': 4,\n",
       "  'classic_success': 3,\n",
       "  'classic_failures': 1,\n",
       "  'total_investment': 69.17,\n",
       "  'investment_success': 52.89,\n",
       "  'investment_failure': 16.28,\n",
       "  'dollar_success': 55.53450000000001,\n",
       "  'two_day_get_out': 14.78,\n",
       "  'hold_gains': 17.094,\n",
       "  'days_held': [10],\n",
       "  'never_sold_closeout': 0,\n",
       "  'two_day_strategy': 70.31450000000001,\n",
       "  'two_day_strategy_roi': 0.016546190545034086,\n",
       "  'hold_strategy': 72.6285,\n",
       "  'hold_strategy_roi': 0.05000000000000001},\n",
       " {'ticker': 'SFIX',\n",
       "  'purchases': 11,\n",
       "  'classic_success': 8,\n",
       "  'classic_failures': 3,\n",
       "  'total_investment': 227.63000000000002,\n",
       "  'investment_success': 156.1,\n",
       "  'investment_failure': 71.53,\n",
       "  'dollar_success': 163.90500000000003,\n",
       "  'two_day_get_out': 67.44,\n",
       "  'hold_gains': 75.10650000000001,\n",
       "  'days_held': [5, 9, 9],\n",
       "  'never_sold_closeout': 0,\n",
       "  'two_day_strategy': 231.34500000000003,\n",
       "  'two_day_strategy_roi': 0.016320344418574016,\n",
       "  'hold_strategy': 239.01150000000004,\n",
       "  'hold_strategy_roi': 0.050000000000000065},\n",
       " {'ticker': 'LUV',\n",
       "  'purchases': 9,\n",
       "  'classic_success': 3,\n",
       "  'classic_failures': 6,\n",
       "  'total_investment': 368.40000000000003,\n",
       "  'investment_success': 102.78,\n",
       "  'investment_failure': 265.62,\n",
       "  'dollar_success': 107.91900000000001,\n",
       "  'two_day_get_out': 262.83,\n",
       "  'hold_gains': 231.58799999999997,\n",
       "  'days_held': [5, 1, 13, 13, 0, 16],\n",
       "  'never_sold_closeout': -12.54,\n",
       "  'two_day_strategy': 370.749,\n",
       "  'two_day_strategy_roi': 0.0063762214983713065,\n",
       "  'hold_strategy': 339.50699999999995,\n",
       "  'hold_strategy_roi': -0.07842833876221521}]"
      ]
     },
     "execution_count": 28,
     "metadata": {},
     "output_type": "execute_result"
    }
   ],
   "source": [
    "purchased_results"
   ]
  },
  {
   "cell_type": "code",
   "execution_count": null,
   "metadata": {},
   "outputs": [],
   "source": []
  },
  {
   "cell_type": "code",
   "execution_count": 29,
   "metadata": {},
   "outputs": [],
   "source": [
    "overall_investment = sum([x['total_investment'] for x in purchased_results])\n",
    "hold_return = sum([x['hold_strategy'] for x in purchased_results])\n",
    "purchases = sum([x['purchases'] for x in purchased_results])\n",
    "good_return = sum(x['hold_strategy_roi']>.04 for x in purchased_results)"
   ]
  },
  {
   "cell_type": "code",
   "execution_count": 30,
   "metadata": {},
   "outputs": [
    {
     "data": {
      "text/plain": [
       "(2329.1600000000003, 2321.991, 92, 0.09782608695652174)"
      ]
     },
     "execution_count": 30,
     "metadata": {},
     "output_type": "execute_result"
    }
   ],
   "source": [
    "overall_investment, hold_return, purchases, good_return/purchases"
   ]
  },
  {
   "cell_type": "code",
   "execution_count": 38,
   "metadata": {},
   "outputs": [
    {
     "name": "stdout",
     "output_type": "stream",
     "text": [
      "{'ticker': 'NCLH', 'purchases': 6, 'classic_success': 3, 'classic_failures': 3, 'total_investment': 66.52, 'investment_success': 28.200000000000003, 'investment_failure': 38.32, 'dollar_success': 29.610000000000003, 'two_day_get_out': 33.76, 'hold_gains': 40.236000000000004, 'days_held': [6, 10, 8], 'never_sold_closeout': 0, 'two_day_strategy': 63.370000000000005, 'two_day_strategy_roi': -0.04735417919422717, 'hold_strategy': 69.846, 'hold_strategy_roi': 0.05000000000000012}\n",
      "8.0\n"
     ]
    }
   ],
   "source": [
    "import numpy as np\n",
    "for company in purchased_results:\n",
    "    if company['ticker'] == 'NCLH':\n",
    "        print (company)\n",
    "        print (np.average(company['days_held']))"
   ]
  },
  {
   "cell_type": "code",
   "execution_count": 35,
   "metadata": {},
   "outputs": [
    {
     "name": "stdout",
     "output_type": "stream",
     "text": [
      "PINS\n",
      "0.673\n",
      "0.05\n",
      "0.0\n",
      "PTON\n",
      "33.2974999999999\n",
      "0.04999999999999984\n",
      "0.5454545454545454\n",
      "NCLH\n",
      "3.3260000000000076\n",
      "0.05000000000000012\n",
      "0.5\n",
      "INTC\n",
      "20.842499999999973\n",
      "0.04999999999999993\n",
      "0.5\n",
      "UAA\n",
      "1.2725000000000009\n",
      "0.05000000000000004\n",
      "0.5\n",
      "WFC\n",
      "-46.84949999999995\n",
      "-0.17413581623550384\n",
      "0.6\n",
      "AMD\n",
      "2.589500000000001\n",
      "0.050000000000000024\n",
      "0.3333333333333333\n",
      "CSTM\n",
      "1.6869999999999976\n",
      "0.049999999999999926\n",
      "0.0\n",
      "KAR\n",
      "-9.954499999999996\n",
      "-0.08215995378012542\n",
      "0.4\n",
      "SYF\n",
      "3.458500000000001\n",
      "0.05000000000000001\n",
      "0.25\n",
      "SFIX\n",
      "11.381500000000017\n",
      "0.050000000000000065\n",
      "0.2727272727272727\n",
      "LUV\n",
      "-28.893000000000086\n",
      "-0.07842833876221521\n",
      "0.6666666666666666\n"
     ]
    }
   ],
   "source": [
    "for company in purchased_results:\n",
    "    print (company['ticker'])\n",
    "    print (company['hold_strategy']-company['total_investment'])\n",
    "    print (company['hold_strategy_roi'])\n",
    "    print (len(company['days_held'])/company['purchases'])\n",
    "    print ()\n",
    "    "
   ]
  },
  {
   "cell_type": "code",
   "execution_count": null,
   "metadata": {},
   "outputs": [],
   "source": []
  }
 ],
 "metadata": {
  "kernelspec": {
   "display_name": "Python 3",
   "language": "python",
   "name": "python3"
  },
  "language_info": {
   "codemirror_mode": {
    "name": "ipython",
    "version": 3
   },
   "file_extension": ".py",
   "mimetype": "text/x-python",
   "name": "python",
   "nbconvert_exporter": "python",
   "pygments_lexer": "ipython3",
   "version": "3.6.8"
  }
 },
 "nbformat": 4,
 "nbformat_minor": 2
}

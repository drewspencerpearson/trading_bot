{
 "cells": [
  {
   "cell_type": "code",
   "execution_count": 211,
   "metadata": {},
   "outputs": [],
   "source": [
    "import pandas as pd\n",
    "import pandas_datareader.data as web\n",
    "from datetime import datetime, timedelta\n",
    "import yfinance as yf\n",
    "import matplotlib.pyplot as plt\n",
    "import seaborn\n",
    "import scipy\n",
    "from scipy.signal import argrelextrema\n",
    "import numpy as np"
   ]
  },
  {
   "cell_type": "code",
   "execution_count": 212,
   "metadata": {},
   "outputs": [],
   "source": [
    "# 30 Days ago\n",
    "days_to_subtract = 365*3\n",
    "end_date = (datetime.today())# - timedelta(days=1))#.strftime('%Y-%m-%d')\n",
    "start_date = end_date-timedelta(days = days_to_subtract)\n",
    "\n",
    "end_date = end_date.strftime('%Y-%m-%d')\n",
    "start_date = start_date.strftime('%Y-%m-%d')"
   ]
  },
  {
   "cell_type": "code",
   "execution_count": 213,
   "metadata": {},
   "outputs": [
    {
     "data": {
      "text/plain": [
       "'2017-05-27'"
      ]
     },
     "execution_count": 213,
     "metadata": {},
     "output_type": "execute_result"
    }
   ],
   "source": [
    "start_date"
   ]
  },
  {
   "cell_type": "code",
   "execution_count": 214,
   "metadata": {},
   "outputs": [],
   "source": [
    "# closing_values = hist['Close'].values\n",
    "# max_indices = argrelextrema(closing_values, np.greater)\n",
    "# min_indices = argrelextrema(closing_values, np.less)"
   ]
  },
  {
   "cell_type": "markdown",
   "metadata": {},
   "source": [
    "Check previous 45 days. If on day 46 or 47, the high is greater than the 46 open by 5%, that is a postive. Else negative"
   ]
  },
  {
   "cell_type": "code",
   "execution_count": 215,
   "metadata": {},
   "outputs": [],
   "source": [
    "def calculate_percent_increase(open_price, high_price):\n",
    "    # Given an open price and a high price, calculate the percent increase\n",
    "    return (high_price-open_price)/open_price"
   ]
  },
  {
   "cell_type": "code",
   "execution_count": 216,
   "metadata": {},
   "outputs": [],
   "source": [
    "def create_model_df(historical_df):\n",
    "    # This function goes through every 47 period window in our historical dataframe. It keeps the 45 previous close prices\n",
    "    # As training data. It calculates the percent increase from the open on day 46 to the highest point on either day 46 or 47\n",
    "    # creates a data frame with the previous 45 days. The date of day 46. And the label either 1 for buy, 0 for no buy\n",
    "    open_prices = historical_df['Open'].values\n",
    "    close_prices = historical_df['Close'].values\n",
    "    high_prices = historical_df['High'].values\n",
    "    dates = historical_df.index\n",
    "    i = 0\n",
    "    for j in range(45,len(historical_df)-1):\n",
    "        prev_closes = close_prices[i:j]\n",
    "        # get the label\n",
    "        open_46 = open_prices[j]\n",
    "        high_46 = high_prices[j]\n",
    "        high_47 = high_prices[j+1]\n",
    "        \n",
    "        # get the highest price from either day 46 or day 47\n",
    "        if high_46 > high_47:\n",
    "            high_price = high_46\n",
    "        else:\n",
    "            high_price = high_47\n",
    "\n",
    "        # Get the percent increase and deterimine if it should be a positive label or negative\n",
    "        percent_increase = calculate_percent_increase(open_46, high_price)\n",
    "        if percent_increase >=.06:\n",
    "            label = 1\n",
    "        else:\n",
    "            label = 0\n",
    "\n",
    "        # Create our model_df\n",
    "        if i ==0:\n",
    "            model_df = pd.DataFrame(prev_closes)\n",
    "            model_df = model_df.T\n",
    "            model_df['date'] = dates[j]\n",
    "            model_df['label'] = label\n",
    "        else:\n",
    "            append_df = pd.DataFrame(prev_closes)\n",
    "            append_df = append_df.T\n",
    "            append_df['date'] = dates[j]\n",
    "            append_df['label'] = label\n",
    "            model_df = model_df.append(append_df)\n",
    "        i+=1\n",
    "    return model_df"
   ]
  },
  {
   "cell_type": "code",
   "execution_count": 217,
   "metadata": {},
   "outputs": [],
   "source": [
    "Tickers = [\"PINS\", 'MSFT', 'AMD', 'LULU', 'AMAT', 'CSTM', 'PTON','DIS','NCLH','CGNX', 'FTNT', 'NVDA', 'AAPL']\n",
    "\n",
    "# 3 Years of Data\n",
    "days_to_subtract = 365*3\n",
    "end_date = (datetime.today())\n",
    "start_date = end_date-timedelta(days=days_to_subtract)\n",
    "\n",
    "end_date = end_date.strftime('%Y-%m-%d')\n",
    "start_date = start_date.strftime('%Y-%m-%d')"
   ]
  },
  {
   "cell_type": "code",
   "execution_count": 218,
   "metadata": {},
   "outputs": [],
   "source": [
    "Tickers = ['PINS']"
   ]
  },
  {
   "cell_type": "code",
   "execution_count": 219,
   "metadata": {},
   "outputs": [],
   "source": [
    "for i, ticker in enumerate(Tickers):\n",
    "    company = yf.Ticker(ticker)\n",
    "    hist = company.history(period='1d', interval = '1d', start = start_date, end = end_date)\n",
    "    ticker_df = create_model_df(hist)\n",
    "    ticker_df['ticker'] = ticker\n",
    "    \n",
    "    if i ==0:\n",
    "        master_df = ticker_df\n",
    "    else:\n",
    "        master_df = master_df.append(ticker_df)"
   ]
  },
  {
   "cell_type": "code",
   "execution_count": 224,
   "metadata": {},
   "outputs": [],
   "source": [
    "test_data = master_df.iloc[0]"
   ]
  },
  {
   "cell_type": "code",
   "execution_count": 264,
   "metadata": {},
   "outputs": [],
   "source": [
    "test = master_df.iloc[1]"
   ]
  },
  {
   "cell_type": "code",
   "execution_count": 268,
   "metadata": {},
   "outputs": [],
   "source": [
    "prev_closes = test.values[:-3]"
   ]
  },
  {
   "cell_type": "code",
   "execution_count": 269,
   "metadata": {},
   "outputs": [
    {
     "data": {
      "text/plain": [
       "array([24.99, 25.85, 26.8, 28.8, 29.85, 34.26, 30.98, 31.23, 29.74, 28.36,\n",
       "       29.5, 28.69, 29.51, 28.75, 29.05, 26.63, 28.99, 28.63, 30.86, 26.7,\n",
       "       25.85, 25.41, 24.6, 23.8, 25.5, 25.8, 25.58, 25.51, 24.92, 24.4,\n",
       "       24.2, 24.94, 25.81, 27.61, 27.94, 26.48, 27.05, 26.95, 27.41,\n",
       "       27.85, 28.8, 28.09, 27.54, 27.98, 26.69], dtype=object)"
      ]
     },
     "execution_count": 269,
     "metadata": {},
     "output_type": "execute_result"
    }
   ],
   "source": [
    "#3est.iloc[:,:-3].rolling(window = 10, axis = 1).mean()\n",
    "prev_closes"
   ]
  },
  {
   "cell_type": "code",
   "execution_count": 270,
   "metadata": {},
   "outputs": [],
   "source": [
    "my_df = pd.DataFrame(prev_closes)"
   ]
  },
  {
   "cell_type": "code",
   "execution_count": 280,
   "metadata": {},
   "outputs": [
    {
     "data": {
      "text/html": [
       "<div>\n",
       "<style scoped>\n",
       "    .dataframe tbody tr th:only-of-type {\n",
       "        vertical-align: middle;\n",
       "    }\n",
       "\n",
       "    .dataframe tbody tr th {\n",
       "        vertical-align: top;\n",
       "    }\n",
       "\n",
       "    .dataframe thead th {\n",
       "        text-align: right;\n",
       "    }\n",
       "</style>\n",
       "<table border=\"1\" class=\"dataframe\">\n",
       "  <thead>\n",
       "    <tr style=\"text-align: right;\">\n",
       "      <th></th>\n",
       "      <th>0</th>\n",
       "      <th>1</th>\n",
       "      <th>2</th>\n",
       "      <th>3</th>\n",
       "      <th>4</th>\n",
       "      <th>5</th>\n",
       "      <th>6</th>\n",
       "      <th>7</th>\n",
       "      <th>8</th>\n",
       "      <th>9</th>\n",
       "      <th>...</th>\n",
       "      <th>35</th>\n",
       "      <th>36</th>\n",
       "      <th>37</th>\n",
       "      <th>38</th>\n",
       "      <th>39</th>\n",
       "      <th>40</th>\n",
       "      <th>41</th>\n",
       "      <th>42</th>\n",
       "      <th>43</th>\n",
       "      <th>44</th>\n",
       "    </tr>\n",
       "  </thead>\n",
       "  <tbody>\n",
       "    <tr>\n",
       "      <th>0</th>\n",
       "      <td>24.99</td>\n",
       "      <td>25.85</td>\n",
       "      <td>26.8</td>\n",
       "      <td>28.8</td>\n",
       "      <td>29.85</td>\n",
       "      <td>34.26</td>\n",
       "      <td>30.98</td>\n",
       "      <td>31.23</td>\n",
       "      <td>29.74</td>\n",
       "      <td>28.36</td>\n",
       "      <td>...</td>\n",
       "      <td>26.48</td>\n",
       "      <td>27.05</td>\n",
       "      <td>26.95</td>\n",
       "      <td>27.41</td>\n",
       "      <td>27.85</td>\n",
       "      <td>28.8</td>\n",
       "      <td>28.09</td>\n",
       "      <td>27.54</td>\n",
       "      <td>27.98</td>\n",
       "      <td>26.69</td>\n",
       "    </tr>\n",
       "  </tbody>\n",
       "</table>\n",
       "<p>1 rows × 45 columns</p>\n",
       "</div>"
      ],
      "text/plain": [
       "      0      1     2     3      4      5      6      7      8      9   ...  \\\n",
       "0  24.99  25.85  26.8  28.8  29.85  34.26  30.98  31.23  29.74  28.36  ...   \n",
       "\n",
       "      35     36     37     38     39    40     41     42     43     44  \n",
       "0  26.48  27.05  26.95  27.41  27.85  28.8  28.09  27.54  27.98  26.69  \n",
       "\n",
       "[1 rows x 45 columns]"
      ]
     },
     "execution_count": 280,
     "metadata": {},
     "output_type": "execute_result"
    }
   ],
   "source": [
    "my_df.T"
   ]
  },
  {
   "cell_type": "code",
   "execution_count": 304,
   "metadata": {},
   "outputs": [
    {
     "data": {
      "text/plain": [
       "array([[28.9085, 28.9515, 28.9295, 28.8195, 28.5695, 28.352 , 27.929 ,\n",
       "        27.659 , 27.373 , 27.132 , 26.934 , 26.669 , 26.4815, 26.2965,\n",
       "        26.2395, 26.184 , 26.1765, 26.0795, 25.9955, 25.823 , 25.8805,\n",
       "        26.028 , 26.162 , 26.309 , 26.518 , 26.5775]])"
      ]
     },
     "execution_count": 304,
     "metadata": {},
     "output_type": "execute_result"
    }
   ],
   "source": [
    "my_df.T.rolling(window = 20, axis = 1).mean().iloc[:,-26:].values"
   ]
  },
  {
   "cell_type": "code",
   "execution_count": 285,
   "metadata": {},
   "outputs": [],
   "source": [
    "my_df = pd.DataFrame(prev_closes)\n",
    "twenty = my_df.T.rolling(window = 20, axis = 1).mean().iloc[:,-26:].values[0]\n",
    "ten = my_df.T.rolling(window = 10, axis = 1).mean().iloc[:,-26:].values[0]"
   ]
  },
  {
   "cell_type": "code",
   "execution_count": 298,
   "metadata": {},
   "outputs": [],
   "source": [
    "twenty_over_ten = []\n",
    "for i in range(0,26):\n",
    "    if twenty[i]>ten[i]:\n",
    "        twenty_over_ten.append(0)\n",
    "    else:\n",
    "        twenty_over_ten.append(1)"
   ]
  },
  {
   "cell_type": "code",
   "execution_count": 302,
   "metadata": {},
   "outputs": [
    {
     "data": {
      "text/plain": [
       "18"
      ]
     },
     "execution_count": 302,
     "metadata": {},
     "output_type": "execute_result"
    }
   ],
   "source": [
    "first_up = twenty_over_ten.index(1)"
   ]
  },
  {
   "cell_type": "code",
   "execution_count": null,
   "metadata": {},
   "outputs": [],
   "source": [
    "if "
   ]
  },
  {
   "cell_type": "code",
   "execution_count": 299,
   "metadata": {},
   "outputs": [
    {
     "data": {
      "text/plain": [
       "[0, 0, 0, 0, 0, 0, 0, 0, 0, 0, 0, 0, 0, 0, 0, 0, 0, 0, 1, 1, 1, 1, 1, 1, 1, 1]"
      ]
     },
     "execution_count": 299,
     "metadata": {},
     "output_type": "execute_result"
    }
   ],
   "source": [
    "twenty_over_ten"
   ]
  },
  {
   "cell_type": "code",
   "execution_count": 297,
   "metadata": {},
   "outputs": [
    {
     "data": {
      "text/plain": [
       "[<matplotlib.lines.Line2D at 0x1c2204c470>]"
      ]
     },
     "execution_count": 297,
     "metadata": {},
     "output_type": "execute_result"
    },
    {
     "data": {
      "image/png": "[encoded data removed]",
      "text/plain": [
       "<Figure size 432x288 with 1 Axes>"
      ]
     },
     "metadata": {
      "needs_background": "light"
     },
     "output_type": "display_data"
    }
   ],
   "source": [
    "plt.plot(twenty)\n",
    "plt.plot(ten)"
   ]
  },
  {
   "cell_type": "code",
   "execution_count": 235,
   "metadata": {},
   "outputs": [
    {
     "data": {
      "text/html": [
       "<div>\n",
       "<style scoped>\n",
       "    .dataframe tbody tr th:only-of-type {\n",
       "        vertical-align: middle;\n",
       "    }\n",
       "\n",
       "    .dataframe tbody tr th {\n",
       "        vertical-align: top;\n",
       "    }\n",
       "\n",
       "    .dataframe thead th {\n",
       "        text-align: right;\n",
       "    }\n",
       "</style>\n",
       "<table border=\"1\" class=\"dataframe\">\n",
       "  <thead>\n",
       "    <tr style=\"text-align: right;\">\n",
       "      <th></th>\n",
       "      <th>35</th>\n",
       "      <th>36</th>\n",
       "      <th>37</th>\n",
       "      <th>38</th>\n",
       "      <th>39</th>\n",
       "      <th>40</th>\n",
       "      <th>41</th>\n",
       "      <th>42</th>\n",
       "      <th>43</th>\n",
       "      <th>44</th>\n",
       "      <th>date</th>\n",
       "      <th>label</th>\n",
       "      <th>ticker</th>\n",
       "    </tr>\n",
       "  </thead>\n",
       "  <tbody>\n",
       "    <tr>\n",
       "      <th>0</th>\n",
       "      <td>27.94</td>\n",
       "      <td>26.48</td>\n",
       "      <td>27.05</td>\n",
       "      <td>26.95</td>\n",
       "      <td>27.41</td>\n",
       "      <td>27.85</td>\n",
       "      <td>28.80</td>\n",
       "      <td>28.09</td>\n",
       "      <td>27.54</td>\n",
       "      <td>27.98</td>\n",
       "      <td>2019-06-24</td>\n",
       "      <td>0</td>\n",
       "      <td>PINS</td>\n",
       "    </tr>\n",
       "    <tr>\n",
       "      <th>0</th>\n",
       "      <td>26.48</td>\n",
       "      <td>27.05</td>\n",
       "      <td>26.95</td>\n",
       "      <td>27.41</td>\n",
       "      <td>27.85</td>\n",
       "      <td>28.80</td>\n",
       "      <td>28.09</td>\n",
       "      <td>27.54</td>\n",
       "      <td>27.98</td>\n",
       "      <td>26.69</td>\n",
       "      <td>2019-06-25</td>\n",
       "      <td>0</td>\n",
       "      <td>PINS</td>\n",
       "    </tr>\n",
       "    <tr>\n",
       "      <th>0</th>\n",
       "      <td>27.05</td>\n",
       "      <td>26.95</td>\n",
       "      <td>27.41</td>\n",
       "      <td>27.85</td>\n",
       "      <td>28.80</td>\n",
       "      <td>28.09</td>\n",
       "      <td>27.54</td>\n",
       "      <td>27.98</td>\n",
       "      <td>26.69</td>\n",
       "      <td>26.14</td>\n",
       "      <td>2019-06-26</td>\n",
       "      <td>0</td>\n",
       "      <td>PINS</td>\n",
       "    </tr>\n",
       "    <tr>\n",
       "      <th>0</th>\n",
       "      <td>26.95</td>\n",
       "      <td>27.41</td>\n",
       "      <td>27.85</td>\n",
       "      <td>28.80</td>\n",
       "      <td>28.09</td>\n",
       "      <td>27.54</td>\n",
       "      <td>27.98</td>\n",
       "      <td>26.69</td>\n",
       "      <td>26.14</td>\n",
       "      <td>26.23</td>\n",
       "      <td>2019-06-27</td>\n",
       "      <td>0</td>\n",
       "      <td>PINS</td>\n",
       "    </tr>\n",
       "    <tr>\n",
       "      <th>0</th>\n",
       "      <td>27.41</td>\n",
       "      <td>27.85</td>\n",
       "      <td>28.80</td>\n",
       "      <td>28.09</td>\n",
       "      <td>27.54</td>\n",
       "      <td>27.98</td>\n",
       "      <td>26.69</td>\n",
       "      <td>26.14</td>\n",
       "      <td>26.23</td>\n",
       "      <td>27.23</td>\n",
       "      <td>2019-06-28</td>\n",
       "      <td>0</td>\n",
       "      <td>PINS</td>\n",
       "    </tr>\n",
       "  </tbody>\n",
       "</table>\n",
       "</div>"
      ],
      "text/plain": [
       "      35     36     37     38     39     40     41     42     43     44  \\\n",
       "0  27.94  26.48  27.05  26.95  27.41  27.85  28.80  28.09  27.54  27.98   \n",
       "0  26.48  27.05  26.95  27.41  27.85  28.80  28.09  27.54  27.98  26.69   \n",
       "0  27.05  26.95  27.41  27.85  28.80  28.09  27.54  27.98  26.69  26.14   \n",
       "0  26.95  27.41  27.85  28.80  28.09  27.54  27.98  26.69  26.14  26.23   \n",
       "0  27.41  27.85  28.80  28.09  27.54  27.98  26.69  26.14  26.23  27.23   \n",
       "\n",
       "        date  label ticker  \n",
       "0 2019-06-24      0   PINS  \n",
       "0 2019-06-25      0   PINS  \n",
       "0 2019-06-26      0   PINS  \n",
       "0 2019-06-27      0   PINS  \n",
       "0 2019-06-28      0   PINS  "
      ]
     },
     "execution_count": 235,
     "metadata": {},
     "output_type": "execute_result"
    }
   ],
   "source": [
    "test.iloc[:,-13:]"
   ]
  },
  {
   "cell_type": "code",
   "execution_count": 239,
   "metadata": {},
   "outputs": [
    {
     "data": {
      "text/plain": [
       "27.608999999999998"
      ]
     },
     "execution_count": 239,
     "metadata": {},
     "output_type": "execute_result"
    }
   ],
   "source": [
    "np.sum([27.94,26.48,27.05,26.95,27.41,27.85,28.80,28.09,27.54,27.98])/10"
   ]
  },
  {
   "cell_type": "code",
   "execution_count": 225,
   "metadata": {},
   "outputs": [
    {
     "data": {
      "text/plain": [
       "0                        24.4\n",
       "1                       24.99\n",
       "2                       25.85\n",
       "3                        26.8\n",
       "4                        28.8\n",
       "5                       29.85\n",
       "6                       34.26\n",
       "7                       30.98\n",
       "8                       31.23\n",
       "9                       29.74\n",
       "10                      28.36\n",
       "11                       29.5\n",
       "12                      28.69\n",
       "13                      29.51\n",
       "14                      28.75\n",
       "15                      29.05\n",
       "16                      26.63\n",
       "17                      28.99\n",
       "18                      28.63\n",
       "19                      30.86\n",
       "20                       26.7\n",
       "21                      25.85\n",
       "22                      25.41\n",
       "23                       24.6\n",
       "24                       23.8\n",
       "25                       25.5\n",
       "26                       25.8\n",
       "27                      25.58\n",
       "28                      25.51\n",
       "29                      24.92\n",
       "30                       24.4\n",
       "31                       24.2\n",
       "32                      24.94\n",
       "33                      25.81\n",
       "34                      27.61\n",
       "35                      27.94\n",
       "36                      26.48\n",
       "37                      27.05\n",
       "38                      26.95\n",
       "39                      27.41\n",
       "40                      27.85\n",
       "41                       28.8\n",
       "42                      28.09\n",
       "43                      27.54\n",
       "44                      27.98\n",
       "date      2019-06-24 00:00:00\n",
       "label                       0\n",
       "ticker                   PINS\n",
       "Name: 0, dtype: object"
      ]
     },
     "execution_count": 225,
     "metadata": {},
     "output_type": "execute_result"
    }
   ],
   "source": [
    "test_data"
   ]
  },
  {
   "cell_type": "code",
   "execution_count": 158,
   "metadata": {},
   "outputs": [],
   "source": [
    "import xgboost as xgb\n",
    "import matplotlib.pyplot as plt\n",
    "from sklearn import  metrics\n",
    "from sklearn.model_selection import train_test_split"
   ]
  },
  {
   "cell_type": "code",
   "execution_count": 159,
   "metadata": {},
   "outputs": [],
   "source": [
    "from sklearn import svm"
   ]
  },
  {
   "cell_type": "code",
   "execution_count": 160,
   "metadata": {},
   "outputs": [],
   "source": [
    "data = master_df[master_df['ticker']=='CSTM']"
   ]
  },
  {
   "cell_type": "code",
   "execution_count": 161,
   "metadata": {},
   "outputs": [],
   "source": [
    "clf = svm.SVC(probability=True)"
   ]
  },
  {
   "cell_type": "code",
   "execution_count": 191,
   "metadata": {},
   "outputs": [],
   "source": [
    "train_X, test_X, train_y, test_y = train_test_split(data, data['label'], test_size = .2)"
   ]
  },
  {
   "cell_type": "code",
   "execution_count": 163,
   "metadata": {},
   "outputs": [
    {
     "name": "stderr",
     "output_type": "stream",
     "text": [
      "/Users/Drewpearson/anaconda3/lib/python3.6/site-packages/sklearn/svm/base.py:196: FutureWarning: The default value of gamma will change from 'auto' to 'scale' in version 0.22 to account better for unscaled features. Set gamma explicitly to 'auto' or 'scale' to avoid this warning.\n",
      "  \"avoid this warning.\", FutureWarning)\n"
     ]
    }
   ],
   "source": [
    "clf.fit(train_X.iloc[:,:-3], train_y)\n",
    "predictions = clf.predict_proba(test_X.iloc[:,:-3])"
   ]
  },
  {
   "cell_type": "code",
   "execution_count": 164,
   "metadata": {},
   "outputs": [
    {
     "name": "stderr",
     "output_type": "stream",
     "text": [
      "/Users/Drewpearson/anaconda3/lib/python3.6/site-packages/ipykernel_launcher.py:2: SettingWithCopyWarning: \n",
      "A value is trying to be set on a copy of a slice from a DataFrame.\n",
      "Try using .loc[row_indexer,col_indexer] = value instead\n",
      "\n",
      "See the caveats in the documentation: http://pandas.pydata.org/pandas-docs/stable/indexing.html#indexing-view-versus-copy\n",
      "  \n"
     ]
    }
   ],
   "source": [
    "aftermath = test_X\n",
    "aftermath['predictions'] = predictions[:,1]"
   ]
  },
  {
   "cell_type": "code",
   "execution_count": 182,
   "metadata": {},
   "outputs": [],
   "source": [
    "df = train_X.sample(frac=1).reset_index(drop=True)"
   ]
  },
  {
   "cell_type": "code",
   "execution_count": 185,
   "metadata": {},
   "outputs": [
    {
     "data": {
      "text/plain": [
       "113.0"
      ]
     },
     "execution_count": 185,
     "metadata": {},
     "output_type": "execute_result"
    }
   ],
   "source": [
    "train_X.sample()"
   ]
  },
  {
   "cell_type": "code",
   "execution_count": 192,
   "metadata": {},
   "outputs": [
    {
     "data": {
      "text/html": [
       "<div>\n",
       "<style scoped>\n",
       "    .dataframe tbody tr th:only-of-type {\n",
       "        vertical-align: middle;\n",
       "    }\n",
       "\n",
       "    .dataframe tbody tr th {\n",
       "        vertical-align: top;\n",
       "    }\n",
       "\n",
       "    .dataframe thead th {\n",
       "        text-align: right;\n",
       "    }\n",
       "</style>\n",
       "<table border=\"1\" class=\"dataframe\">\n",
       "  <thead>\n",
       "    <tr style=\"text-align: right;\">\n",
       "      <th></th>\n",
       "      <th>0</th>\n",
       "      <th>1</th>\n",
       "      <th>2</th>\n",
       "      <th>3</th>\n",
       "      <th>4</th>\n",
       "      <th>5</th>\n",
       "      <th>6</th>\n",
       "      <th>7</th>\n",
       "      <th>8</th>\n",
       "      <th>9</th>\n",
       "      <th>...</th>\n",
       "      <th>38</th>\n",
       "      <th>39</th>\n",
       "      <th>40</th>\n",
       "      <th>41</th>\n",
       "      <th>42</th>\n",
       "      <th>43</th>\n",
       "      <th>44</th>\n",
       "      <th>date</th>\n",
       "      <th>label</th>\n",
       "      <th>ticker</th>\n",
       "    </tr>\n",
       "  </thead>\n",
       "  <tbody>\n",
       "    <tr>\n",
       "      <th>0</th>\n",
       "      <td>11.50</td>\n",
       "      <td>10.60</td>\n",
       "      <td>10.65</td>\n",
       "      <td>10.60</td>\n",
       "      <td>10.25</td>\n",
       "      <td>10.30</td>\n",
       "      <td>10.30</td>\n",
       "      <td>10.20</td>\n",
       "      <td>10.90</td>\n",
       "      <td>10.85</td>\n",
       "      <td>...</td>\n",
       "      <td>11.25</td>\n",
       "      <td>11.30</td>\n",
       "      <td>11.40</td>\n",
       "      <td>11.60</td>\n",
       "      <td>11.50</td>\n",
       "      <td>11.25</td>\n",
       "      <td>11.75</td>\n",
       "      <td>2018-08-27</td>\n",
       "      <td>0</td>\n",
       "      <td>CSTM</td>\n",
       "    </tr>\n",
       "    <tr>\n",
       "      <th>0</th>\n",
       "      <td>12.60</td>\n",
       "      <td>12.40</td>\n",
       "      <td>12.40</td>\n",
       "      <td>12.45</td>\n",
       "      <td>12.35</td>\n",
       "      <td>12.30</td>\n",
       "      <td>12.25</td>\n",
       "      <td>11.90</td>\n",
       "      <td>11.85</td>\n",
       "      <td>11.40</td>\n",
       "      <td>...</td>\n",
       "      <td>12.30</td>\n",
       "      <td>12.35</td>\n",
       "      <td>12.35</td>\n",
       "      <td>12.42</td>\n",
       "      <td>12.40</td>\n",
       "      <td>12.21</td>\n",
       "      <td>11.72</td>\n",
       "      <td>2018-10-05</td>\n",
       "      <td>0</td>\n",
       "      <td>CSTM</td>\n",
       "    </tr>\n",
       "    <tr>\n",
       "      <th>0</th>\n",
       "      <td>11.93</td>\n",
       "      <td>12.66</td>\n",
       "      <td>12.66</td>\n",
       "      <td>12.89</td>\n",
       "      <td>12.80</td>\n",
       "      <td>12.01</td>\n",
       "      <td>12.07</td>\n",
       "      <td>11.72</td>\n",
       "      <td>11.19</td>\n",
       "      <td>11.39</td>\n",
       "      <td>...</td>\n",
       "      <td>13.63</td>\n",
       "      <td>13.50</td>\n",
       "      <td>13.85</td>\n",
       "      <td>13.65</td>\n",
       "      <td>13.70</td>\n",
       "      <td>13.06</td>\n",
       "      <td>13.27</td>\n",
       "      <td>2019-09-26</td>\n",
       "      <td>0</td>\n",
       "      <td>CSTM</td>\n",
       "    </tr>\n",
       "    <tr>\n",
       "      <th>0</th>\n",
       "      <td>10.50</td>\n",
       "      <td>10.45</td>\n",
       "      <td>10.15</td>\n",
       "      <td>10.10</td>\n",
       "      <td>10.00</td>\n",
       "      <td>10.20</td>\n",
       "      <td>10.10</td>\n",
       "      <td>9.95</td>\n",
       "      <td>9.80</td>\n",
       "      <td>9.90</td>\n",
       "      <td>...</td>\n",
       "      <td>12.75</td>\n",
       "      <td>12.85</td>\n",
       "      <td>13.95</td>\n",
       "      <td>13.10</td>\n",
       "      <td>12.70</td>\n",
       "      <td>12.95</td>\n",
       "      <td>12.95</td>\n",
       "      <td>2018-02-08</td>\n",
       "      <td>0</td>\n",
       "      <td>CSTM</td>\n",
       "    </tr>\n",
       "    <tr>\n",
       "      <th>0</th>\n",
       "      <td>9.07</td>\n",
       "      <td>9.09</td>\n",
       "      <td>9.45</td>\n",
       "      <td>9.43</td>\n",
       "      <td>9.32</td>\n",
       "      <td>9.52</td>\n",
       "      <td>9.74</td>\n",
       "      <td>9.67</td>\n",
       "      <td>9.46</td>\n",
       "      <td>9.49</td>\n",
       "      <td>...</td>\n",
       "      <td>8.82</td>\n",
       "      <td>8.83</td>\n",
       "      <td>9.01</td>\n",
       "      <td>9.20</td>\n",
       "      <td>9.59</td>\n",
       "      <td>9.40</td>\n",
       "      <td>9.52</td>\n",
       "      <td>2019-04-23</td>\n",
       "      <td>1</td>\n",
       "      <td>CSTM</td>\n",
       "    </tr>\n",
       "  </tbody>\n",
       "</table>\n",
       "<p>5 rows × 48 columns</p>\n",
       "</div>"
      ],
      "text/plain": [
       "       0      1      2      3      4      5      6      7      8      9  ...  \\\n",
       "0  11.50  10.60  10.65  10.60  10.25  10.30  10.30  10.20  10.90  10.85  ...   \n",
       "0  12.60  12.40  12.40  12.45  12.35  12.30  12.25  11.90  11.85  11.40  ...   \n",
       "0  11.93  12.66  12.66  12.89  12.80  12.01  12.07  11.72  11.19  11.39  ...   \n",
       "0  10.50  10.45  10.15  10.10  10.00  10.20  10.10   9.95   9.80   9.90  ...   \n",
       "0   9.07   9.09   9.45   9.43   9.32   9.52   9.74   9.67   9.46   9.49  ...   \n",
       "\n",
       "      38     39     40     41     42     43     44       date  label  ticker  \n",
       "0  11.25  11.30  11.40  11.60  11.50  11.25  11.75 2018-08-27      0    CSTM  \n",
       "0  12.30  12.35  12.35  12.42  12.40  12.21  11.72 2018-10-05      0    CSTM  \n",
       "0  13.63  13.50  13.85  13.65  13.70  13.06  13.27 2019-09-26      0    CSTM  \n",
       "0  12.75  12.85  13.95  13.10  12.70  12.95  12.95 2018-02-08      0    CSTM  \n",
       "0   8.82   8.83   9.01   9.20   9.59   9.40   9.52 2019-04-23      1    CSTM  \n",
       "\n",
       "[5 rows x 48 columns]"
      ]
     },
     "execution_count": 192,
     "metadata": {},
     "output_type": "execute_result"
    }
   ],
   "source": [
    "train_X.head()"
   ]
  },
  {
   "cell_type": "code",
   "execution_count": 198,
   "metadata": {},
   "outputs": [
    {
     "name": "stdout",
     "output_type": "stream",
     "text": [
      "113\n",
      "113\n",
      "113\n",
      "113\n",
      "113\n"
     ]
    }
   ],
   "source": [
    "for i in range(1,6):\n",
    "    #print (i)\n",
    "    splice_size = int(len(train_X)/5)\n",
    "    #print (splice_size)\n",
    "    #train_data = df.iloc[]\n",
    "    dev = train_X.iloc[(i-1)*splice_size:i*splice_size]\n",
    "    # train is everything before the dev set and everything after\n",
    "    train_before = train_X.iloc[0:(i-1)*splice_size]\n",
    "    train_after = train_X.iloc[i*splice_size:]\n",
    "    train = train_before.append(train_after)\n",
    "    print (len(dev))\n",
    "    "
   ]
  },
  {
   "cell_type": "code",
   "execution_count": 205,
   "metadata": {},
   "outputs": [],
   "source": [
    "def cross_validate(training_data):\n",
    "    # 5 fold cross validation on the training set, determine the optimal threshold\n",
    "    for i in range(1,6):\n",
    "        splice_size = int(len(training_data)/5)\n",
    "        dev = training_data.iloc[(i-1)*splice_size:i*splice_size]\n",
    "        \n",
    "        # train is everything before the dev set and everything after\n",
    "        train_before = training_data.iloc[0 : (i-1)*splice_size]\n",
    "        train_after = training_data.iloc[i*splice_size :]\n",
    "        train = train_before.append(train_after)\n",
    "        \n",
    "        clf = svm.SVC(probability=True)\n",
    "        clf.fit(train.iloc[:,:-3], train['label'])\n",
    "        \n",
    "        predictions = clf.predict_proba(dev.iloc[:,:-3])\n",
    "        aftermath = dev\n",
    "        aftermath['predictions'] = predictions[:,1]\n",
    "        if i ==1:\n",
    "            prediction_df = aftermath\n",
    "        else:\n",
    "            prediction_df = prediction_df.append(aftermath)\n",
    "    return prediction_df"
   ]
  },
  {
   "cell_type": "code",
   "execution_count": 206,
   "metadata": {},
   "outputs": [
    {
     "name": "stderr",
     "output_type": "stream",
     "text": [
      "/Users/Drewpearson/anaconda3/lib/python3.6/site-packages/sklearn/svm/base.py:196: FutureWarning: The default value of gamma will change from 'auto' to 'scale' in version 0.22 to account better for unscaled features. Set gamma explicitly to 'auto' or 'scale' to avoid this warning.\n",
      "  \"avoid this warning.\", FutureWarning)\n",
      "/Users/Drewpearson/anaconda3/lib/python3.6/site-packages/ipykernel_launcher.py:17: SettingWithCopyWarning: \n",
      "A value is trying to be set on a copy of a slice from a DataFrame.\n",
      "Try using .loc[row_indexer,col_indexer] = value instead\n",
      "\n",
      "See the caveats in the documentation: http://pandas.pydata.org/pandas-docs/stable/indexing.html#indexing-view-versus-copy\n",
      "/Users/Drewpearson/anaconda3/lib/python3.6/site-packages/sklearn/svm/base.py:196: FutureWarning: The default value of gamma will change from 'auto' to 'scale' in version 0.22 to account better for unscaled features. Set gamma explicitly to 'auto' or 'scale' to avoid this warning.\n",
      "  \"avoid this warning.\", FutureWarning)\n",
      "/Users/Drewpearson/anaconda3/lib/python3.6/site-packages/ipykernel_launcher.py:17: SettingWithCopyWarning: \n",
      "A value is trying to be set on a copy of a slice from a DataFrame.\n",
      "Try using .loc[row_indexer,col_indexer] = value instead\n",
      "\n",
      "See the caveats in the documentation: http://pandas.pydata.org/pandas-docs/stable/indexing.html#indexing-view-versus-copy\n",
      "/Users/Drewpearson/anaconda3/lib/python3.6/site-packages/sklearn/svm/base.py:196: FutureWarning: The default value of gamma will change from 'auto' to 'scale' in version 0.22 to account better for unscaled features. Set gamma explicitly to 'auto' or 'scale' to avoid this warning.\n",
      "  \"avoid this warning.\", FutureWarning)\n",
      "/Users/Drewpearson/anaconda3/lib/python3.6/site-packages/ipykernel_launcher.py:17: SettingWithCopyWarning: \n",
      "A value is trying to be set on a copy of a slice from a DataFrame.\n",
      "Try using .loc[row_indexer,col_indexer] = value instead\n",
      "\n",
      "See the caveats in the documentation: http://pandas.pydata.org/pandas-docs/stable/indexing.html#indexing-view-versus-copy\n",
      "/Users/Drewpearson/anaconda3/lib/python3.6/site-packages/sklearn/svm/base.py:196: FutureWarning: The default value of gamma will change from 'auto' to 'scale' in version 0.22 to account better for unscaled features. Set gamma explicitly to 'auto' or 'scale' to avoid this warning.\n",
      "  \"avoid this warning.\", FutureWarning)\n",
      "/Users/Drewpearson/anaconda3/lib/python3.6/site-packages/ipykernel_launcher.py:17: SettingWithCopyWarning: \n",
      "A value is trying to be set on a copy of a slice from a DataFrame.\n",
      "Try using .loc[row_indexer,col_indexer] = value instead\n",
      "\n",
      "See the caveats in the documentation: http://pandas.pydata.org/pandas-docs/stable/indexing.html#indexing-view-versus-copy\n",
      "/Users/Drewpearson/anaconda3/lib/python3.6/site-packages/sklearn/svm/base.py:196: FutureWarning: The default value of gamma will change from 'auto' to 'scale' in version 0.22 to account better for unscaled features. Set gamma explicitly to 'auto' or 'scale' to avoid this warning.\n",
      "  \"avoid this warning.\", FutureWarning)\n",
      "/Users/Drewpearson/anaconda3/lib/python3.6/site-packages/ipykernel_launcher.py:17: SettingWithCopyWarning: \n",
      "A value is trying to be set on a copy of a slice from a DataFrame.\n",
      "Try using .loc[row_indexer,col_indexer] = value instead\n",
      "\n",
      "See the caveats in the documentation: http://pandas.pydata.org/pandas-docs/stable/indexing.html#indexing-view-versus-copy\n"
     ]
    }
   ],
   "source": [
    "test = cross_validate(train_X)"
   ]
  },
  {
   "cell_type": "code",
   "execution_count": 207,
   "metadata": {},
   "outputs": [
    {
     "data": {
      "text/plain": [
       "(565, 565)"
      ]
     },
     "execution_count": 207,
     "metadata": {},
     "output_type": "execute_result"
    }
   ],
   "source": [
    "len(test), len(train_X)"
   ]
  },
  {
   "cell_type": "code",
   "execution_count": 178,
   "metadata": {},
   "outputs": [],
   "source": [
    "def optimal_threshold(aftermath):\n",
    "    thresholds = np.arange(1,20)\n",
    "    thresholds = thresholds/20\n",
    "    max_success_rate = 0\n",
    "    for threshold in thresholds:\n",
    "        buys = aftermath[aftermath['predictions']>threshold]\n",
    "        good_buy = buys[buys['label']==1]\n",
    "        bad_buy = buys[buys['label']==0]\n",
    "        if len(buys)<5:\n",
    "            continue\n",
    "        success_rate = len(good_buy)/len(bad_buy)\n",
    "        if success_rate > max_success_rate:\n",
    "            max_success_rate = success_rate\n",
    "            optimal_threshold = threshold\n",
    "            buy_info = (len(buys), len(good_buy))\n",
    "    return optimal_threshold, buy_info"
   ]
  },
  {
   "cell_type": "code",
   "execution_count": null,
   "metadata": {},
   "outputs": [],
   "source": []
  },
  {
   "cell_type": "code",
   "execution_count": null,
   "metadata": {},
   "outputs": [],
   "source": []
  },
  {
   "cell_type": "code",
   "execution_count": null,
   "metadata": {},
   "outputs": [],
   "source": []
  },
  {
   "cell_type": "code",
   "execution_count": 208,
   "metadata": {},
   "outputs": [],
   "source": [
    "optimal_threshold, buy_info = optimal_threshold(test)"
   ]
  },
  {
   "cell_type": "code",
   "execution_count": 209,
   "metadata": {},
   "outputs": [
    {
     "data": {
      "text/plain": [
       "0.7"
      ]
     },
     "execution_count": 209,
     "metadata": {},
     "output_type": "execute_result"
    }
   ],
   "source": [
    "optimal_threshold"
   ]
  },
  {
   "cell_type": "code",
   "execution_count": 210,
   "metadata": {},
   "outputs": [
    {
     "data": {
      "text/plain": [
       "(9, 7)"
      ]
     },
     "execution_count": 210,
     "metadata": {},
     "output_type": "execute_result"
    }
   ],
   "source": [
    "buy_info"
   ]
  },
  {
   "cell_type": "code",
   "execution_count": 165,
   "metadata": {},
   "outputs": [],
   "source": [
    "def box_plot(data_to_plot, x_labels):\n",
    "    # Create a figure instance\n",
    "    fig = plt.figure(1, figsize=(9, 6))\n",
    "    # Create an axes instance\n",
    "    ax = fig.add_subplot(111)\n",
    "    # Create the boxplot\n",
    "    bp = ax.boxplot(data_to_plot, whis = [5,95])\n",
    "\n",
    "    ax.set_ylabel('Predictions (Probability of Same)')\n",
    "    ax.set_xlabel('Progen Classification')\n",
    "    \n",
    "    ax.set_xticklabels(x_labels)\n",
    "    plt.show()"
   ]
  },
  {
   "cell_type": "code",
   "execution_count": 166,
   "metadata": {},
   "outputs": [
    {
     "data": {
      "image/png": "[encoded data removed]",
      "text/plain": [
       "<Figure size 648x432 with 1 Axes>"
      ]
     },
     "metadata": {
      "needs_background": "light"
     },
     "output_type": "display_data"
    }
   ],
   "source": [
    "data_to_plot = [aftermath[aftermath['label']==1]['predictions'],\n",
    "           aftermath[aftermath['label']==0]['predictions']]\n",
    "x_labels = ['Buy', 'Dont-buy']\n",
    "\n",
    "box_plot(data_to_plot, x_labels)"
   ]
  },
  {
   "cell_type": "code",
   "execution_count": 27,
   "metadata": {},
   "outputs": [
    {
     "data": {
      "text/plain": [
       "1    5\n",
       "0    4\n",
       "Name: label, dtype: int64"
      ]
     },
     "execution_count": 27,
     "metadata": {},
     "output_type": "execute_result"
    }
   ],
   "source": [
    "aftermath[aftermath['predictions']>.4].label.value_counts()"
   ]
  },
  {
   "cell_type": "code",
   "execution_count": 140,
   "metadata": {},
   "outputs": [
    {
     "name": "stderr",
     "output_type": "stream",
     "text": [
      "/Users/Drewpearson/anaconda3/lib/python3.6/site-packages/sklearn/svm/base.py:196: FutureWarning: The default value of gamma will change from 'auto' to 'scale' in version 0.22 to account better for unscaled features. Set gamma explicitly to 'auto' or 'scale' to avoid this warning.\n",
      "  \"avoid this warning.\", FutureWarning)\n",
      "/Users/Drewpearson/anaconda3/lib/python3.6/site-packages/ipykernel_launcher.py:17: SettingWithCopyWarning: \n",
      "A value is trying to be set on a copy of a slice from a DataFrame.\n",
      "Try using .loc[row_indexer,col_indexer] = value instead\n",
      "\n",
      "See the caveats in the documentation: http://pandas.pydata.org/pandas-docs/stable/indexing.html#indexing-view-versus-copy\n"
     ]
    },
    {
     "data": {
      "image/png": "[encoded data removed]",
      "text/plain": [
       "<Figure size 648x432 with 1 Axes>"
      ]
     },
     "metadata": {
      "needs_background": "light"
     },
     "output_type": "display_data"
    },
    {
     "name": "stdout",
     "output_type": "stream",
     "text": [
      "8.45 8.39\n",
      "5.96 5.76\n"
     ]
    }
   ],
   "source": [
    "for ticker in Tickers:\n",
    "    # Change this\n",
    "    # Example\n",
    "    ticker = 'CSTM'\n",
    "    plot = True\n",
    "    \n",
    "    # Get data and train a SVM model\n",
    "    data = master_df[master_df['ticker']==ticker]\n",
    "    train_X, test_X, train_y, test_y = train_test_split(data, data['label'], test_size = .2)\n",
    "    \n",
    "    clf = svm.SVC(probability=True)\n",
    "    clf.fit(train_X.iloc[:,:-3], train_y)\n",
    "    \n",
    "    # take the predictions and create an aftermath dataframe\n",
    "    predictions = clf.predict_proba(test_X.iloc[:,:-3])\n",
    "    aftermath = test_X\n",
    "    aftermath['predictions'] = predictions[:,1]\n",
    "    # plot the data\n",
    "    if plot == True:\n",
    "        data_to_plot = [aftermath[aftermath['label']==1]['predictions'],\n",
    "               aftermath[aftermath['label']==0]['predictions']]\n",
    "        x_labels = ['Buy', 'Dont-buy']\n",
    "\n",
    "        box_plot(data_to_plot, x_labels)\n",
    "    # Find the optimal threshold\n",
    "    optimal_threshold = .4\n",
    "    \n",
    "    # Determine the buy_orders that would be placed with that threshold an determine their returns\n",
    "    buy_orders = aftermath[aftermath['predictions']>optimal_threshold]\n",
    "    company = yf.Ticker(ticker)\n",
    "    hist = company.history(period='1d', interval = '1d', start = start_date, end = end_date)\n",
    "    hist['index'] = np.arange(0,len(hist))\n",
    "    \n",
    "    results_dict = calculate_return(ticker, buy_orders, hist)\n",
    "    break"
   ]
  },
  {
   "cell_type": "code",
   "execution_count": 141,
   "metadata": {},
   "outputs": [
    {
     "name": "stdout",
     "output_type": "stream",
     "text": [
      "8.45 8.39\n",
      "5.96 5.76\n"
     ]
    }
   ],
   "source": [
    "results_dict = calculate_return(ticker, buy_orders, hist)"
   ]
  },
  {
   "cell_type": "code",
   "execution_count": 142,
   "metadata": {},
   "outputs": [
    {
     "data": {
      "text/plain": [
       "{'ticker': 'CSTM',\n",
       " 'purchases': 9,\n",
       " 'classic_success': 7,\n",
       " 'classic_failures': 2,\n",
       " 'total_investment': 58.04,\n",
       " 'investment_success': 43.629999999999995,\n",
       " 'investment_failure': 14.41,\n",
       " 'dollar_success': 45.8115,\n",
       " 'two_day_get_out': 14.15,\n",
       " 'hold_gains': 15.130500000000001,\n",
       " 'days_held': [3, 3],\n",
       " 'never_sold_closeout': 0,\n",
       " 'two_day_strategy': 59.9615,\n",
       " 'two_day_strategy_roi': 0.03310647829083394,\n",
       " 'hold_strategy': 60.94200000000001,\n",
       " 'hold_strategy_roi': 0.05000000000000014}"
      ]
     },
     "execution_count": 142,
     "metadata": {},
     "output_type": "execute_result"
    }
   ],
   "source": [
    "results_dict"
   ]
  },
  {
   "cell_type": "code",
   "execution_count": null,
   "metadata": {},
   "outputs": [],
   "source": [
    "# Get data for a ticker\n",
    "# train data for that ticker\n",
    "# make predictions\n",
    "# Find optimal threshold\n",
    "# take all purchases above threshold\n",
    "# Look into gains and losses if using those predictions\n"
   ]
  },
  {
   "cell_type": "markdown",
   "metadata": {},
   "source": [
    "# Gains and Loses"
   ]
  },
  {
   "cell_type": "code",
   "execution_count": 60,
   "metadata": {},
   "outputs": [],
   "source": [
    "buy_orders = aftermath[aftermath['predictions']>.4]\n",
    "company = yf.Ticker('CSTM')\n",
    "hist = company.history(period='1d', interval = '1d', start = start_date, end = end_date)\n",
    "hist['index'] = np.arange(0,len(hist))"
   ]
  },
  {
   "cell_type": "code",
   "execution_count": 40,
   "metadata": {},
   "outputs": [
    {
     "data": {
      "text/html": [
       "<div>\n",
       "<style scoped>\n",
       "    .dataframe tbody tr th:only-of-type {\n",
       "        vertical-align: middle;\n",
       "    }\n",
       "\n",
       "    .dataframe tbody tr th {\n",
       "        vertical-align: top;\n",
       "    }\n",
       "\n",
       "    .dataframe thead th {\n",
       "        text-align: right;\n",
       "    }\n",
       "</style>\n",
       "<table border=\"1\" class=\"dataframe\">\n",
       "  <thead>\n",
       "    <tr style=\"text-align: right;\">\n",
       "      <th></th>\n",
       "      <th>0</th>\n",
       "      <th>1</th>\n",
       "      <th>2</th>\n",
       "      <th>3</th>\n",
       "      <th>4</th>\n",
       "      <th>5</th>\n",
       "      <th>6</th>\n",
       "      <th>7</th>\n",
       "      <th>8</th>\n",
       "      <th>9</th>\n",
       "      <th>...</th>\n",
       "      <th>39</th>\n",
       "      <th>40</th>\n",
       "      <th>41</th>\n",
       "      <th>42</th>\n",
       "      <th>43</th>\n",
       "      <th>44</th>\n",
       "      <th>date</th>\n",
       "      <th>label</th>\n",
       "      <th>ticker</th>\n",
       "      <th>predictions</th>\n",
       "    </tr>\n",
       "  </thead>\n",
       "  <tbody>\n",
       "    <tr>\n",
       "      <th>0</th>\n",
       "      <td>8.91</td>\n",
       "      <td>8.46</td>\n",
       "      <td>8.31</td>\n",
       "      <td>8.61</td>\n",
       "      <td>8.81</td>\n",
       "      <td>8.95</td>\n",
       "      <td>8.89</td>\n",
       "      <td>9.05</td>\n",
       "      <td>9.00</td>\n",
       "      <td>9.10</td>\n",
       "      <td>...</td>\n",
       "      <td>9.11</td>\n",
       "      <td>8.99</td>\n",
       "      <td>9.58</td>\n",
       "      <td>9.56</td>\n",
       "      <td>9.25</td>\n",
       "      <td>9.25</td>\n",
       "      <td>2019-05-09</td>\n",
       "      <td>0</td>\n",
       "      <td>CSTM</td>\n",
       "      <td>0.110945</td>\n",
       "    </tr>\n",
       "    <tr>\n",
       "      <th>0</th>\n",
       "      <td>10.95</td>\n",
       "      <td>10.90</td>\n",
       "      <td>10.80</td>\n",
       "      <td>10.90</td>\n",
       "      <td>10.95</td>\n",
       "      <td>11.40</td>\n",
       "      <td>11.15</td>\n",
       "      <td>11.45</td>\n",
       "      <td>11.65</td>\n",
       "      <td>11.95</td>\n",
       "      <td>...</td>\n",
       "      <td>12.80</td>\n",
       "      <td>12.65</td>\n",
       "      <td>12.20</td>\n",
       "      <td>12.90</td>\n",
       "      <td>13.05</td>\n",
       "      <td>12.50</td>\n",
       "      <td>2018-02-27</td>\n",
       "      <td>0</td>\n",
       "      <td>CSTM</td>\n",
       "      <td>0.096696</td>\n",
       "    </tr>\n",
       "    <tr>\n",
       "      <th>0</th>\n",
       "      <td>8.88</td>\n",
       "      <td>8.65</td>\n",
       "      <td>9.07</td>\n",
       "      <td>9.09</td>\n",
       "      <td>9.45</td>\n",
       "      <td>9.43</td>\n",
       "      <td>9.32</td>\n",
       "      <td>9.52</td>\n",
       "      <td>9.74</td>\n",
       "      <td>9.67</td>\n",
       "      <td>...</td>\n",
       "      <td>8.81</td>\n",
       "      <td>8.82</td>\n",
       "      <td>8.83</td>\n",
       "      <td>9.01</td>\n",
       "      <td>9.20</td>\n",
       "      <td>9.59</td>\n",
       "      <td>2019-04-18</td>\n",
       "      <td>0</td>\n",
       "      <td>CSTM</td>\n",
       "      <td>0.135609</td>\n",
       "    </tr>\n",
       "    <tr>\n",
       "      <th>0</th>\n",
       "      <td>10.85</td>\n",
       "      <td>10.75</td>\n",
       "      <td>10.75</td>\n",
       "      <td>10.40</td>\n",
       "      <td>11.50</td>\n",
       "      <td>12.15</td>\n",
       "      <td>12.10</td>\n",
       "      <td>11.20</td>\n",
       "      <td>11.10</td>\n",
       "      <td>11.55</td>\n",
       "      <td>...</td>\n",
       "      <td>9.90</td>\n",
       "      <td>9.95</td>\n",
       "      <td>10.35</td>\n",
       "      <td>10.95</td>\n",
       "      <td>10.90</td>\n",
       "      <td>10.80</td>\n",
       "      <td>2017-12-26</td>\n",
       "      <td>0</td>\n",
       "      <td>CSTM</td>\n",
       "      <td>0.179929</td>\n",
       "    </tr>\n",
       "    <tr>\n",
       "      <th>0</th>\n",
       "      <td>12.10</td>\n",
       "      <td>11.20</td>\n",
       "      <td>11.10</td>\n",
       "      <td>11.55</td>\n",
       "      <td>11.55</td>\n",
       "      <td>11.50</td>\n",
       "      <td>11.15</td>\n",
       "      <td>10.90</td>\n",
       "      <td>10.15</td>\n",
       "      <td>10.25</td>\n",
       "      <td>...</td>\n",
       "      <td>10.90</td>\n",
       "      <td>10.95</td>\n",
       "      <td>11.40</td>\n",
       "      <td>11.15</td>\n",
       "      <td>11.45</td>\n",
       "      <td>11.65</td>\n",
       "      <td>2018-01-04</td>\n",
       "      <td>0</td>\n",
       "      <td>CSTM</td>\n",
       "      <td>0.120713</td>\n",
       "    </tr>\n",
       "  </tbody>\n",
       "</table>\n",
       "<p>5 rows × 49 columns</p>\n",
       "</div>"
      ],
      "text/plain": [
       "       0      1      2      3      4      5      6      7      8      9  ...  \\\n",
       "0   8.91   8.46   8.31   8.61   8.81   8.95   8.89   9.05   9.00   9.10  ...   \n",
       "0  10.95  10.90  10.80  10.90  10.95  11.40  11.15  11.45  11.65  11.95  ...   \n",
       "0   8.88   8.65   9.07   9.09   9.45   9.43   9.32   9.52   9.74   9.67  ...   \n",
       "0  10.85  10.75  10.75  10.40  11.50  12.15  12.10  11.20  11.10  11.55  ...   \n",
       "0  12.10  11.20  11.10  11.55  11.55  11.50  11.15  10.90  10.15  10.25  ...   \n",
       "\n",
       "      39     40     41     42     43     44       date  label  ticker  \\\n",
       "0   9.11   8.99   9.58   9.56   9.25   9.25 2019-05-09      0    CSTM   \n",
       "0  12.80  12.65  12.20  12.90  13.05  12.50 2018-02-27      0    CSTM   \n",
       "0   8.81   8.82   8.83   9.01   9.20   9.59 2019-04-18      0    CSTM   \n",
       "0   9.90   9.95  10.35  10.95  10.90  10.80 2017-12-26      0    CSTM   \n",
       "0  10.90  10.95  11.40  11.15  11.45  11.65 2018-01-04      0    CSTM   \n",
       "\n",
       "   predictions  \n",
       "0     0.110945  \n",
       "0     0.096696  \n",
       "0     0.135609  \n",
       "0     0.179929  \n",
       "0     0.120713  \n",
       "\n",
       "[5 rows x 49 columns]"
      ]
     },
     "execution_count": 40,
     "metadata": {},
     "output_type": "execute_result"
    }
   ],
   "source": [
    "aftermath.head()"
   ]
  },
  {
   "cell_type": "code",
   "execution_count": 138,
   "metadata": {},
   "outputs": [],
   "source": [
    "def hold_till_up(hist, index, open_price):\n",
    "    \"\"\"Function holds the stock until it hits a 5% gain\"\"\"\n",
    "    hold_gain = 0\n",
    "    hold_days = 0\n",
    "    never_sold = 0\n",
    "    # go through every day from day of purchase, calculate if high was above 5% open price. If so, sell. \n",
    "    sold = False\n",
    "    # Index is the day you bought. So, we want to add days to index from index + 0 all the way \n",
    "    # to index + remaining days (remaining = len(hist)-index)\n",
    "    for i in range(0,(len(hist)-index)[0]):\n",
    "        high = hist.iloc[index+i]['High'].values[0]\n",
    "        if (high-open_price)/open_price >= .05:\n",
    "            hold_gain += 1.05 * open_price\n",
    "            hold_days = i+1\n",
    "            sold = True\n",
    "            break\n",
    "    # If you never sold it, you would still be holding, so close out\n",
    "    if sold == False:\n",
    "        close = hist.iloc[index+i]['Close'].values[0]\n",
    "        never_sold += close-open_price\n",
    "        hold_days = 0\n",
    "    \n",
    "    return hold_gain, hold_days, never_sold\n",
    "        \n",
    "        \n",
    "            "
   ]
  },
  {
   "cell_type": "code",
   "execution_count": 139,
   "metadata": {},
   "outputs": [],
   "source": [
    "def calculate_return(ticker, buy_orders, hist):\n",
    "    dollar_success = 0\n",
    "    two_day_dollar_fail = 0\n",
    "    investment = 0\n",
    "    hold_gains = 0\n",
    "    days_held = []\n",
    "    never_sold_closeout = 0\n",
    "    investment_success = 0\n",
    "    investment_failure = 0\n",
    "    total_investment = 0\n",
    "\n",
    "    results_dict = {}\n",
    "    for i, row in buy_orders.iterrows():\n",
    "\n",
    "        if row['label'] ==1:\n",
    "            # Get the data for the date you are buying at open. Get the max high and make sure it was over 5% \n",
    "            index = hist[hist.index==row['date']]['index']\n",
    "            # get the open price\n",
    "            open_price = hist[hist.index==row['date']]['Open'].values[0]\n",
    "            # Get the two high prices and ensure that one of them was higher than 5% of open\n",
    "            high1 = hist[hist.index==row['date']]['High'].values[0]\n",
    "            high2 = hist.iloc[index+1]['High'].values[0]\n",
    "            if (max(high1,high2)-open_price)/open_price <=.05:\n",
    "                print ('problem')\n",
    "            # I would trigger a limit sell at 5% higher than open, so the increase is 1.05*open\n",
    "            dollar_success += 1.05 * open_price\n",
    "            investment_success += open_price\n",
    "\n",
    "        else:\n",
    "            # for loses, I would have three potential strategies. \n",
    "            # 1. get out after two days\n",
    "            # 2. hold until it gets up 5%\n",
    "            # 3. set up a trailing loss function so, if the price dips x% sell\n",
    "\n",
    "            #### Option 1 (get out after two days) ####\n",
    "            index = hist[hist.index==row['date']]['index']\n",
    "            open_price = hist[hist.index==row['date']]['Open'].values[0]\n",
    "            close2 = hist.iloc[index+1]['Close'].values[0]\n",
    "            print (open_price, close2)\n",
    "            two_day_dollar_fail += close2\n",
    "\n",
    "            #### Option 2 hold until it gets up 5% ####\n",
    "            # Go through each day and if the high is above 5% I would sell. Otherwise go to next day, \n",
    "            # until there are no days left\n",
    "            hold_gain, hold_days, never_sold = hold_till_up(hist, index, open_price)\n",
    "            hold_gains += hold_gain\n",
    "            days_held.append(hold_days)\n",
    "            never_sold_closeout += never_sold\n",
    "\n",
    "            investment_failure += open_price\n",
    "            #### Option 3 Set up a selling trigger ####\n",
    "\n",
    "\n",
    "        total_investment += open_price\n",
    "\n",
    "    results_dict['ticker'] = ticker\n",
    "    results_dict['purchases'] = len(buy_orders)\n",
    "    results_dict['classic_success'] = len(buy_orders[buy_orders['label']==1])\n",
    "    results_dict['classic_failures'] = len(buy_orders[buy_orders['label']==0])\n",
    "    results_dict['total_investment']  = total_investment\n",
    "    results_dict['investment_success'] = investment_success\n",
    "    results_dict['investment_failure'] = investment_failure\n",
    "    results_dict['dollar_success'] = dollar_success\n",
    "    results_dict['two_day_get_out'] = two_day_dollar_fail\n",
    "    results_dict['hold_gains'] = hold_gains\n",
    "    results_dict['days_held'] = days_held\n",
    "    results_dict['never_sold_closeout'] = never_sold_closeout\n",
    "    results_dict['two_day_strategy'] = dollar_success+two_day_dollar_fail\n",
    "    results_dict['two_day_strategy_roi'] = ((dollar_success+two_day_dollar_fail)-total_investment)/total_investment\n",
    "    results_dict['hold_strategy'] = dollar_success+hold_gains\n",
    "    results_dict['hold_strategy_roi'] = ((dollar_success+hold_gains)-total_investment)/total_investment\n",
    "    \n",
    "    return results_dict"
   ]
  },
  {
   "cell_type": "code",
   "execution_count": 124,
   "metadata": {},
   "outputs": [
    {
     "data": {
      "text/plain": [
       "{'purchases': 9,\n",
       " 'classic_success': 5,\n",
       " 'classic_failures': 4,\n",
       " 'total_investment': 60.980000000000004,\n",
       " 'investment_success': 33.510000000000005,\n",
       " 'investment_failure': 27.47,\n",
       " 'dollar_success': 35.185500000000005,\n",
       " 'two_day_get_out': 27.05,\n",
       " 'hold_gains': 28.843500000000006,\n",
       " 'days_held': [3, 7, 4, 3],\n",
       " 'never_sold_closeout': 0,\n",
       " 'two_day_strategy': 62.2355,\n",
       " 'two_day_strategy_roi': 0.020588717612331876}"
      ]
     },
     "execution_count": 124,
     "metadata": {},
     "output_type": "execute_result"
    }
   ],
   "source": [
    "results_dict"
   ]
  },
  {
   "cell_type": "code",
   "execution_count": 122,
   "metadata": {},
   "outputs": [
    {
     "data": {
      "text/plain": [
       "0.04999999999999999"
      ]
     },
     "execution_count": 122,
     "metadata": {},
     "output_type": "execute_result"
    }
   ],
   "source": [
    "(35.1855-33.51)/33.51"
   ]
  },
  {
   "cell_type": "code",
   "execution_count": 104,
   "metadata": {},
   "outputs": [
    {
     "data": {
      "text/plain": [
       "28.8435"
      ]
     },
     "execution_count": 104,
     "metadata": {},
     "output_type": "execute_result"
    }
   ],
   "source": [
    "1.05*(5.96+7.75+5.31+8.45)"
   ]
  },
  {
   "cell_type": "code",
   "execution_count": 84,
   "metadata": {},
   "outputs": [
    {
     "data": {
      "text/plain": [
       "0.18419999999999997"
      ]
     },
     "execution_count": 84,
     "metadata": {},
     "output_type": "execute_result"
    }
   ],
   "source": [
    ".03*6.14"
   ]
  },
  {
   "cell_type": "code",
   "execution_count": 80,
   "metadata": {},
   "outputs": [
    {
     "name": "stdout",
     "output_type": "stream",
     "text": [
      "Date\n",
      "2018-11-29    386\n",
      "Name: index, dtype: int64\n"
     ]
    }
   ],
   "source": [
    "print (index)"
   ]
  },
  {
   "cell_type": "code",
   "execution_count": 81,
   "metadata": {},
   "outputs": [
    {
     "data": {
      "text/html": [
       "<div>\n",
       "<style scoped>\n",
       "    .dataframe tbody tr th:only-of-type {\n",
       "        vertical-align: middle;\n",
       "    }\n",
       "\n",
       "    .dataframe tbody tr th {\n",
       "        vertical-align: top;\n",
       "    }\n",
       "\n",
       "    .dataframe thead th {\n",
       "        text-align: right;\n",
       "    }\n",
       "</style>\n",
       "<table border=\"1\" class=\"dataframe\">\n",
       "  <thead>\n",
       "    <tr style=\"text-align: right;\">\n",
       "      <th></th>\n",
       "      <th>Open</th>\n",
       "      <th>High</th>\n",
       "      <th>Low</th>\n",
       "      <th>Close</th>\n",
       "      <th>Volume</th>\n",
       "      <th>Dividends</th>\n",
       "      <th>Stock Splits</th>\n",
       "      <th>index</th>\n",
       "    </tr>\n",
       "    <tr>\n",
       "      <th>Date</th>\n",
       "      <th></th>\n",
       "      <th></th>\n",
       "      <th></th>\n",
       "      <th></th>\n",
       "      <th></th>\n",
       "      <th></th>\n",
       "      <th></th>\n",
       "      <th></th>\n",
       "    </tr>\n",
       "  </thead>\n",
       "  <tbody>\n",
       "    <tr>\n",
       "      <th>2018-11-30</th>\n",
       "      <td>8.51</td>\n",
       "      <td>8.53</td>\n",
       "      <td>8.28</td>\n",
       "      <td>8.39</td>\n",
       "      <td>969100</td>\n",
       "      <td>0</td>\n",
       "      <td>0</td>\n",
       "      <td>387</td>\n",
       "    </tr>\n",
       "  </tbody>\n",
       "</table>\n",
       "</div>"
      ],
      "text/plain": [
       "            Open  High   Low  Close  Volume  Dividends  Stock Splits  index\n",
       "Date                                                                       \n",
       "2018-11-30  8.51  8.53  8.28   8.39  969100          0             0    387"
      ]
     },
     "execution_count": 81,
     "metadata": {},
     "output_type": "execute_result"
    }
   ],
   "source": [
    "hist.iloc[index+1]"
   ]
  },
  {
   "cell_type": "code",
   "execution_count": null,
   "metadata": {},
   "outputs": [],
   "source": []
  },
  {
   "cell_type": "code",
   "execution_count": 76,
   "metadata": {},
   "outputs": [
    {
     "data": {
      "text/plain": [
       "47.4075"
      ]
     },
     "execution_count": 76,
     "metadata": {},
     "output_type": "execute_result"
    }
   ],
   "source": [
    "dollar_gain"
   ]
  },
  {
   "cell_type": "code",
   "execution_count": 77,
   "metadata": {},
   "outputs": [
    {
     "data": {
      "text/plain": [
       "-0.41999999999999815"
      ]
     },
     "execution_count": 77,
     "metadata": {},
     "output_type": "execute_result"
    }
   ],
   "source": [
    "dollar_fail"
   ]
  },
  {
   "cell_type": "code",
   "execution_count": null,
   "metadata": {},
   "outputs": [],
   "source": []
  },
  {
   "cell_type": "code",
   "execution_count": 73,
   "metadata": {},
   "outputs": [
    {
     "data": {
      "text/html": [
       "<div>\n",
       "<style scoped>\n",
       "    .dataframe tbody tr th:only-of-type {\n",
       "        vertical-align: middle;\n",
       "    }\n",
       "\n",
       "    .dataframe tbody tr th {\n",
       "        vertical-align: top;\n",
       "    }\n",
       "\n",
       "    .dataframe thead th {\n",
       "        text-align: right;\n",
       "    }\n",
       "</style>\n",
       "<table border=\"1\" class=\"dataframe\">\n",
       "  <thead>\n",
       "    <tr style=\"text-align: right;\">\n",
       "      <th></th>\n",
       "      <th>Open</th>\n",
       "      <th>High</th>\n",
       "      <th>Low</th>\n",
       "      <th>Close</th>\n",
       "      <th>Volume</th>\n",
       "      <th>Dividends</th>\n",
       "      <th>Stock Splits</th>\n",
       "      <th>index</th>\n",
       "    </tr>\n",
       "    <tr>\n",
       "      <th>Date</th>\n",
       "      <th></th>\n",
       "      <th></th>\n",
       "      <th></th>\n",
       "      <th></th>\n",
       "      <th></th>\n",
       "      <th></th>\n",
       "      <th></th>\n",
       "      <th></th>\n",
       "    </tr>\n",
       "  </thead>\n",
       "  <tbody>\n",
       "    <tr>\n",
       "      <th>2020-04-23</th>\n",
       "      <td>5.96</td>\n",
       "      <td>6.14</td>\n",
       "      <td>5.82</td>\n",
       "      <td>6.00</td>\n",
       "      <td>1118100</td>\n",
       "      <td>0</td>\n",
       "      <td>0</td>\n",
       "      <td>736</td>\n",
       "    </tr>\n",
       "    <tr>\n",
       "      <th>2020-04-24</th>\n",
       "      <td>6.02</td>\n",
       "      <td>6.13</td>\n",
       "      <td>5.70</td>\n",
       "      <td>5.76</td>\n",
       "      <td>834400</td>\n",
       "      <td>0</td>\n",
       "      <td>0</td>\n",
       "      <td>737</td>\n",
       "    </tr>\n",
       "    <tr>\n",
       "      <th>2020-04-27</th>\n",
       "      <td>5.82</td>\n",
       "      <td>7.03</td>\n",
       "      <td>5.70</td>\n",
       "      <td>6.73</td>\n",
       "      <td>1911400</td>\n",
       "      <td>0</td>\n",
       "      <td>0</td>\n",
       "      <td>738</td>\n",
       "    </tr>\n",
       "    <tr>\n",
       "      <th>2020-04-28</th>\n",
       "      <td>6.94</td>\n",
       "      <td>7.01</td>\n",
       "      <td>6.33</td>\n",
       "      <td>6.72</td>\n",
       "      <td>4083100</td>\n",
       "      <td>0</td>\n",
       "      <td>0</td>\n",
       "      <td>739</td>\n",
       "    </tr>\n",
       "  </tbody>\n",
       "</table>\n",
       "</div>"
      ],
      "text/plain": [
       "            Open  High   Low  Close   Volume  Dividends  Stock Splits  index\n",
       "Date                                                                        \n",
       "2020-04-23  5.96  6.14  5.82   6.00  1118100          0             0    736\n",
       "2020-04-24  6.02  6.13  5.70   5.76   834400          0             0    737\n",
       "2020-04-27  5.82  7.03  5.70   6.73  1911400          0             0    738\n",
       "2020-04-28  6.94  7.01  6.33   6.72  4083100          0             0    739"
      ]
     },
     "execution_count": 73,
     "metadata": {},
     "output_type": "execute_result"
    }
   ],
   "source": [
    "hist.iloc[736:740]"
   ]
  },
  {
   "cell_type": "code",
   "execution_count": 63,
   "metadata": {},
   "outputs": [
    {
     "data": {
      "text/plain": [
       "Open                  5.96\n",
       "High                  6.14\n",
       "Low                   5.82\n",
       "Close                 6.00\n",
       "Volume          1118100.00\n",
       "Dividends             0.00\n",
       "Stock Splits          0.00\n",
       "index               736.00\n",
       "Name: 2020-04-23 00:00:00, dtype: float64"
      ]
     },
     "execution_count": 63,
     "metadata": {},
     "output_type": "execute_result"
    }
   ],
   "source": [
    "hist.iloc[736]"
   ]
  },
  {
   "cell_type": "code",
   "execution_count": 55,
   "metadata": {},
   "outputs": [
    {
     "data": {
      "text/plain": [
       "Timestamp('2020-04-25 00:00:00')"
      ]
     },
     "execution_count": 55,
     "metadata": {},
     "output_type": "execute_result"
    }
   ],
   "source": [
    "date +timedelta(days=2)"
   ]
  },
  {
   "cell_type": "code",
   "execution_count": 48,
   "metadata": {},
   "outputs": [
    {
     "data": {
      "text/plain": [
       "0.030201342281879148"
      ]
     },
     "execution_count": 48,
     "metadata": {},
     "output_type": "execute_result"
    }
   ],
   "source": [
    "(6.14-5.96)/5.96 = .05"
   ]
  },
  {
   "cell_type": "code",
   "execution_count": null,
   "metadata": {},
   "outputs": [],
   "source": []
  },
  {
   "cell_type": "markdown",
   "metadata": {},
   "source": [
    "# Tpot"
   ]
  },
  {
   "cell_type": "code",
   "execution_count": 43,
   "metadata": {},
   "outputs": [],
   "source": [
    "###convert labels into binary\n",
    "from tpot import TPOTClassifier"
   ]
  },
  {
   "cell_type": "code",
   "execution_count": 44,
   "metadata": {},
   "outputs": [],
   "source": [
    "tpot = TPOTClassifier(generations=8, population_size=30, verbosity=2, scoring=\"f1_weighted\")"
   ]
  },
  {
   "cell_type": "code",
   "execution_count": 45,
   "metadata": {},
   "outputs": [
    {
     "data": {
      "application/vnd.jupyter.widget-view+json": {
       "model_id": "",
       "version_major": 2,
       "version_minor": 0
      },
      "text/plain": [
       "HBox(children=(IntProgress(value=0, description='Optimization Progress', max=270, style=ProgressStyle(descript…"
      ]
     },
     "metadata": {},
     "output_type": "display_data"
    },
    {
     "name": "stdout",
     "output_type": "stream",
     "text": [
      "Generation 1 - Current best internal CV score: 0.7907083461982038\n",
      "Generation 2 - Current best internal CV score: 0.7907083461982038\n",
      "Generation 3 - Current best internal CV score: 0.792988073700592\n",
      "Generation 4 - Current best internal CV score: 0.8000708951440514\n",
      "Generation 5 - Current best internal CV score: 0.8028795217574827\n",
      "Generation 6 - Current best internal CV score: 0.8028795217574827\n",
      "Generation 7 - Current best internal CV score: 0.8028858267395129\n",
      "Generation 8 - Current best internal CV score: 0.8028858267395129\n",
      "\n",
      "Best pipeline: XGBClassifier(Nystroem(input_matrix, gamma=0.7000000000000001, kernel=linear, n_components=6), learning_rate=1.0, max_depth=8, min_child_weight=4, n_estimators=100, nthread=1, subsample=0.45)\n"
     ]
    },
    {
     "data": {
      "text/plain": [
       "TPOTClassifier(config_dict=None, crossover_rate=0.1, cv=5,\n",
       "        disable_update_check=False, early_stop=None, generations=8,\n",
       "        max_eval_time_mins=5, max_time_mins=None, memory=None,\n",
       "        mutation_rate=0.9, n_jobs=1, offspring_size=None,\n",
       "        periodic_checkpoint_folder=None, population_size=30,\n",
       "        random_state=None, scoring='f1_weighted', subsample=1.0,\n",
       "        use_dask=False, verbosity=2, warm_start=False)"
      ]
     },
     "execution_count": 45,
     "metadata": {},
     "output_type": "execute_result"
    }
   ],
   "source": [
    "tpot.fit(train_X.iloc[:,:-3], train_y)"
   ]
  },
  {
   "cell_type": "code",
   "execution_count": 46,
   "metadata": {},
   "outputs": [],
   "source": [
    "tpot.export('../tpot_model.py')"
   ]
  },
  {
   "cell_type": "code",
   "execution_count": 50,
   "metadata": {},
   "outputs": [],
   "source": [
    "predictions = tpot.predict_proba(test_X.iloc[:,:-4])"
   ]
  },
  {
   "cell_type": "code",
   "execution_count": 52,
   "metadata": {},
   "outputs": [
    {
     "data": {
      "text/plain": [
       "array([9.9994332e-01, 5.6693254e-05], dtype=float32)"
      ]
     },
     "execution_count": 52,
     "metadata": {},
     "output_type": "execute_result"
    }
   ],
   "source": [
    "predictions[0]"
   ]
  },
  {
   "cell_type": "code",
   "execution_count": 56,
   "metadata": {},
   "outputs": [
    {
     "name": "stderr",
     "output_type": "stream",
     "text": [
      "/Users/Drewpearson/anaconda3/lib/python3.6/site-packages/ipykernel_launcher.py:1: SettingWithCopyWarning: \n",
      "A value is trying to be set on a copy of a slice from a DataFrame.\n",
      "Try using .loc[row_indexer,col_indexer] = value instead\n",
      "\n",
      "See the caveats in the documentation: http://pandas.pydata.org/pandas-docs/stable/indexing.html#indexing-view-versus-copy\n",
      "  \"\"\"Entry point for launching an IPython kernel.\n"
     ]
    }
   ],
   "source": [
    "test_X['tpot_pred'] = predictions[:,1:]"
   ]
  },
  {
   "cell_type": "code",
   "execution_count": 58,
   "metadata": {},
   "outputs": [
    {
     "data": {
      "image/png": "[encoded data removed]",
      "text/plain": [
       "<Figure size 648x432 with 1 Axes>"
      ]
     },
     "metadata": {
      "needs_background": "light"
     },
     "output_type": "display_data"
    }
   ],
   "source": [
    "data_to_plot = [aftermath[aftermath['label']==1]['tpot_pred'],\n",
    "               aftermath[aftermath['label']==0]['tpot_pred']]\n",
    "x_labels = ['Buy', 'Dont-buy']\n",
    "\n",
    "box_plot(data_to_plot, x_labels)"
   ]
  },
  {
   "cell_type": "code",
   "execution_count": 64,
   "metadata": {},
   "outputs": [
    {
     "data": {
      "text/plain": [
       "1    3\n",
       "0    2\n",
       "Name: label, dtype: int64"
      ]
     },
     "execution_count": 64,
     "metadata": {},
     "output_type": "execute_result"
    }
   ],
   "source": [
    "aftermath[aftermath['tpot_pred']>.8].label.value_counts()"
   ]
  },
  {
   "cell_type": "code",
   "execution_count": null,
   "metadata": {},
   "outputs": [],
   "source": []
  }
 ],
 "metadata": {
  "kernelspec": {
   "display_name": "Python 3",
   "language": "python",
   "name": "python3"
  },
  "language_info": {
   "codemirror_mode": {
    "name": "ipython",
    "version": 3
   },
   "file_extension": ".py",
   "mimetype": "text/x-python",
   "name": "python",
   "nbconvert_exporter": "python",
   "pygments_lexer": "ipython3",
   "version": "3.6.8"
  }
 },
 "nbformat": 4,
 "nbformat_minor": 2
}

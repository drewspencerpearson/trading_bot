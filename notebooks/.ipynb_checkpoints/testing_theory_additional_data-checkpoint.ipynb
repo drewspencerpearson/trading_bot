{
 "cells": [
  {
   "cell_type": "code",
   "execution_count": 2,
   "metadata": {},
   "outputs": [],
   "source": [
    "import pandas as pd\n",
    "import pandas_datareader.data as web\n",
    "from datetime import datetime, timedelta\n",
    "import yfinance as yf\n",
    "import matplotlib.pyplot as plt\n",
    "import seaborn\n",
    "import scipy\n",
    "from scipy.signal import argrelextrema\n",
    "import numpy as np"
   ]
  },
  {
   "cell_type": "markdown",
   "metadata": {},
   "source": [
    "Check previous 45 days. If on day 46 or 47, the high is greater than the 46 open by 5%, that is a postive. Else negative"
   ]
  },
  {
   "cell_type": "code",
   "execution_count": 3,
   "metadata": {},
   "outputs": [],
   "source": [
    "def calculate_percent_increase(open_price, high_price):\n",
    "    # Given an open price and a high price, calculate the percent increase\n",
    "    return (high_price-open_price)/open_price"
   ]
  },
  {
   "cell_type": "code",
   "execution_count": 4,
   "metadata": {},
   "outputs": [],
   "source": [
    "def calculating_average_crossover(prev_closes):\n",
    "    my_df = pd.DataFrame(prev_closes)\n",
    "    twenty = my_df.T.rolling(window = 20, axis = 1).mean().iloc[:,-26:].values[0]\n",
    "    ten = my_df.T.rolling(window = 10, axis = 1).mean().iloc[:,-26:].values[0]\n",
    "    \n",
    "    twenty_over_ten = []\n",
    "    for i in range(0,26):\n",
    "        if twenty[i]>ten[i]:\n",
    "            twenty_over_ten.append(0)\n",
    "        else:\n",
    "            twenty_over_ten.append(1)\n",
    "    return twenty, ten, twenty_over_ten"
   ]
  },
  {
   "cell_type": "code",
   "execution_count": 5,
   "metadata": {},
   "outputs": [],
   "source": [
    "def create_model_df(historical_df):\n",
    "    # This function goes through every 47 period window in our historical dataframe. It keeps the 45 previous close prices\n",
    "    # As training data. It calculates the percent increase from the open on day 46 to the highest point on either day 46 or 47\n",
    "    # creates a data frame with the previous 45 days. The date of day 46. And the label either 1 for buy, 0 for no buy\n",
    "    open_prices = historical_df['Open'].values\n",
    "    close_prices = historical_df['Close'].values\n",
    "    high_prices = historical_df['High'].values\n",
    "    low_prices = historical_df['Low'].values\n",
    "    dates = historical_df.index\n",
    "    i = 0\n",
    "    for j in range(45,len(historical_df)-2):\n",
    "        prev_closes = close_prices[i:j]\n",
    "        prev_high = high_prices[i:j]\n",
    "        prev_open = open_prices[i:j]\n",
    "        prev_low = low_prices[i:j]\n",
    "        \n",
    "        # get the averages and crossovers\n",
    "        twenty_average, ten_average, cross_over = calculating_average_crossover(prev_closes)\n",
    "        \n",
    "        \n",
    "        # get the label\n",
    "        open_46 = open_prices[j]\n",
    "        high_46 = high_prices[j]\n",
    "        high_47 = high_prices[j+1]\n",
    "        high_48 = high_prices[j+2]\n",
    "        \n",
    "        # get the highest price from either day 46, 47, 48\n",
    "        high_price = max(high_46, high_47, high_48)\n",
    "\n",
    "        # Get the percent increase and deterimine if it should be a positive label or negative\n",
    "        percent_increase = calculate_percent_increase(open_46, high_price)\n",
    "        if percent_increase >=.06:\n",
    "            label = 1\n",
    "        else:\n",
    "            label = 0\n",
    "\n",
    "        # Create our model_df\n",
    "        if i ==0:\n",
    "            model_df = pd.DataFrame(prev_closes)\n",
    "            model_df = model_df.T\n",
    "            \n",
    "            for index in range(len(prev_closes)):\n",
    "                model_df['open_{}'.format(index)] = prev_open[index]\n",
    "                model_df['high_{}'.format(index)] = prev_high[index]\n",
    "                model_df['low_{}'.format(index)] = prev_low[index]\n",
    "                \n",
    "            for index in range(len(twenty_average)):\n",
    "                model_df['twenty_average_{}'.format(index+19)] = twenty_average[index]\n",
    "                model_df['ten_average_{}'.format(index+19)] = ten_average[index]\n",
    "                model_df['crossover_{}'.format(index+19)] = cross_over[index]\n",
    "            model_df['date'] = dates[j]\n",
    "            model_df['label'] = label\n",
    "        else:\n",
    "            append_df = pd.DataFrame(prev_closes)\n",
    "            append_df = append_df.T\n",
    "            for index in range(len(prev_closes)):\n",
    "                append_df['open_{}'.format(index)] = prev_open[index]\n",
    "                append_df['high_{}'.format(index)] = prev_high[index]\n",
    "                append_df['low_{}'.format(index)] = prev_low[index]\n",
    "                \n",
    "            for index in range(len(twenty_average)):\n",
    "                append_df['twenty_average_{}'.format(index+19)] = twenty_average[index]\n",
    "                append_df['ten_average_{}'.format(index+19)] = ten_average[index]\n",
    "                append_df['crossover_{}'.format(index+19)] = cross_over[index]\n",
    "                \n",
    "            append_df['date'] = dates[j]\n",
    "            append_df['label'] = label\n",
    "            model_df = model_df.append(append_df)\n",
    "        i+=1\n",
    "    return model_df"
   ]
  },
  {
   "cell_type": "code",
   "execution_count": 6,
   "metadata": {},
   "outputs": [],
   "source": [
    "#Tickers = [\"PINS\", 'MSFT', 'AMD', 'LULU', 'AMAT', 'CSTM', 'PTON','DIS','NCLH','CGNX', 'FTNT', 'NVDA', 'AAPL', 'T']\n",
    "Tickers = [\"PINS\", \"SFIX\"]\n",
    "\n",
    "# 3 Years of Data\n",
    "days_to_subtract = 365*5\n",
    "#days_to_subtract = 100\n",
    "end_date = (datetime.today())\n",
    "start_date = end_date-timedelta(days=days_to_subtract)\n",
    "\n",
    "end_date = end_date.strftime('%Y-%m-%d')\n",
    "start_date = start_date.strftime('%Y-%m-%d')"
   ]
  },
  {
   "cell_type": "code",
   "execution_count": 7,
   "metadata": {},
   "outputs": [],
   "source": [
    "for i, ticker in enumerate(Tickers):\n",
    "    company = yf.Ticker(ticker)\n",
    "    hist = company.history(period='1d', interval = '1d', start = start_date, end = end_date)\n",
    "    ticker_df = create_model_df(hist)\n",
    "    ticker_df['ticker'] = ticker\n",
    "    \n",
    "    if i ==0:\n",
    "        master_df = ticker_df\n",
    "    else:\n",
    "        master_df = master_df.append(ticker_df)"
   ]
  },
  {
   "cell_type": "code",
   "execution_count": 8,
   "metadata": {},
   "outputs": [
    {
     "data": {
      "text/html": [
       "<div>\n",
       "<style scoped>\n",
       "    .dataframe tbody tr th:only-of-type {\n",
       "        vertical-align: middle;\n",
       "    }\n",
       "\n",
       "    .dataframe tbody tr th {\n",
       "        vertical-align: top;\n",
       "    }\n",
       "\n",
       "    .dataframe thead th {\n",
       "        text-align: right;\n",
       "    }\n",
       "</style>\n",
       "<table border=\"1\" class=\"dataframe\">\n",
       "  <thead>\n",
       "    <tr style=\"text-align: right;\">\n",
       "      <th></th>\n",
       "      <th>0</th>\n",
       "      <th>1</th>\n",
       "      <th>2</th>\n",
       "      <th>3</th>\n",
       "      <th>4</th>\n",
       "      <th>5</th>\n",
       "      <th>6</th>\n",
       "      <th>7</th>\n",
       "      <th>8</th>\n",
       "      <th>9</th>\n",
       "      <th>...</th>\n",
       "      <th>crossover_42</th>\n",
       "      <th>twenty_average_43</th>\n",
       "      <th>ten_average_43</th>\n",
       "      <th>crossover_43</th>\n",
       "      <th>twenty_average_44</th>\n",
       "      <th>ten_average_44</th>\n",
       "      <th>crossover_44</th>\n",
       "      <th>date</th>\n",
       "      <th>label</th>\n",
       "      <th>ticker</th>\n",
       "    </tr>\n",
       "  </thead>\n",
       "  <tbody>\n",
       "    <tr>\n",
       "      <th>0</th>\n",
       "      <td>12.36</td>\n",
       "      <td>13.26</td>\n",
       "      <td>12.22</td>\n",
       "      <td>13.58</td>\n",
       "      <td>14.28</td>\n",
       "      <td>15.31</td>\n",
       "      <td>14.58</td>\n",
       "      <td>13.37</td>\n",
       "      <td>14.48</td>\n",
       "      <td>13.74</td>\n",
       "      <td>...</td>\n",
       "      <td>1</td>\n",
       "      <td>16.4170</td>\n",
       "      <td>16.880</td>\n",
       "      <td>1</td>\n",
       "      <td>16.6455</td>\n",
       "      <td>17.219</td>\n",
       "      <td>1</td>\n",
       "      <td>2020-05-15</td>\n",
       "      <td>1</td>\n",
       "      <td>SFIX</td>\n",
       "    </tr>\n",
       "    <tr>\n",
       "      <th>0</th>\n",
       "      <td>13.26</td>\n",
       "      <td>12.22</td>\n",
       "      <td>13.58</td>\n",
       "      <td>14.28</td>\n",
       "      <td>15.31</td>\n",
       "      <td>14.58</td>\n",
       "      <td>13.37</td>\n",
       "      <td>14.48</td>\n",
       "      <td>13.74</td>\n",
       "      <td>14.10</td>\n",
       "      <td>...</td>\n",
       "      <td>1</td>\n",
       "      <td>16.6455</td>\n",
       "      <td>17.219</td>\n",
       "      <td>1</td>\n",
       "      <td>16.9310</td>\n",
       "      <td>17.811</td>\n",
       "      <td>1</td>\n",
       "      <td>2020-05-18</td>\n",
       "      <td>0</td>\n",
       "      <td>SFIX</td>\n",
       "    </tr>\n",
       "    <tr>\n",
       "      <th>0</th>\n",
       "      <td>12.22</td>\n",
       "      <td>13.58</td>\n",
       "      <td>14.28</td>\n",
       "      <td>15.31</td>\n",
       "      <td>14.58</td>\n",
       "      <td>13.37</td>\n",
       "      <td>14.48</td>\n",
       "      <td>13.74</td>\n",
       "      <td>14.10</td>\n",
       "      <td>12.70</td>\n",
       "      <td>...</td>\n",
       "      <td>1</td>\n",
       "      <td>16.9310</td>\n",
       "      <td>17.811</td>\n",
       "      <td>1</td>\n",
       "      <td>17.2010</td>\n",
       "      <td>18.391</td>\n",
       "      <td>1</td>\n",
       "      <td>2020-05-19</td>\n",
       "      <td>1</td>\n",
       "      <td>SFIX</td>\n",
       "    </tr>\n",
       "    <tr>\n",
       "      <th>0</th>\n",
       "      <td>13.58</td>\n",
       "      <td>14.28</td>\n",
       "      <td>15.31</td>\n",
       "      <td>14.58</td>\n",
       "      <td>13.37</td>\n",
       "      <td>14.48</td>\n",
       "      <td>13.74</td>\n",
       "      <td>14.10</td>\n",
       "      <td>12.70</td>\n",
       "      <td>12.72</td>\n",
       "      <td>...</td>\n",
       "      <td>1</td>\n",
       "      <td>17.2010</td>\n",
       "      <td>18.391</td>\n",
       "      <td>1</td>\n",
       "      <td>17.5195</td>\n",
       "      <td>18.893</td>\n",
       "      <td>1</td>\n",
       "      <td>2020-05-20</td>\n",
       "      <td>1</td>\n",
       "      <td>SFIX</td>\n",
       "    </tr>\n",
       "    <tr>\n",
       "      <th>0</th>\n",
       "      <td>14.28</td>\n",
       "      <td>15.31</td>\n",
       "      <td>14.58</td>\n",
       "      <td>13.37</td>\n",
       "      <td>14.48</td>\n",
       "      <td>13.74</td>\n",
       "      <td>14.10</td>\n",
       "      <td>12.70</td>\n",
       "      <td>12.72</td>\n",
       "      <td>12.70</td>\n",
       "      <td>...</td>\n",
       "      <td>1</td>\n",
       "      <td>17.5195</td>\n",
       "      <td>18.893</td>\n",
       "      <td>1</td>\n",
       "      <td>17.8465</td>\n",
       "      <td>19.517</td>\n",
       "      <td>1</td>\n",
       "      <td>2020-05-21</td>\n",
       "      <td>1</td>\n",
       "      <td>SFIX</td>\n",
       "    </tr>\n",
       "  </tbody>\n",
       "</table>\n",
       "<p>5 rows × 261 columns</p>\n",
       "</div>"
      ],
      "text/plain": [
       "       0      1      2      3      4      5      6      7      8      9  ...  \\\n",
       "0  12.36  13.26  12.22  13.58  14.28  15.31  14.58  13.37  14.48  13.74  ...   \n",
       "0  13.26  12.22  13.58  14.28  15.31  14.58  13.37  14.48  13.74  14.10  ...   \n",
       "0  12.22  13.58  14.28  15.31  14.58  13.37  14.48  13.74  14.10  12.70  ...   \n",
       "0  13.58  14.28  15.31  14.58  13.37  14.48  13.74  14.10  12.70  12.72  ...   \n",
       "0  14.28  15.31  14.58  13.37  14.48  13.74  14.10  12.70  12.72  12.70  ...   \n",
       "\n",
       "   crossover_42  twenty_average_43  ten_average_43  crossover_43  \\\n",
       "0             1            16.4170          16.880             1   \n",
       "0             1            16.6455          17.219             1   \n",
       "0             1            16.9310          17.811             1   \n",
       "0             1            17.2010          18.391             1   \n",
       "0             1            17.5195          18.893             1   \n",
       "\n",
       "   twenty_average_44  ten_average_44  crossover_44       date  label  ticker  \n",
       "0            16.6455          17.219             1 2020-05-15      1    SFIX  \n",
       "0            16.9310          17.811             1 2020-05-18      0    SFIX  \n",
       "0            17.2010          18.391             1 2020-05-19      1    SFIX  \n",
       "0            17.5195          18.893             1 2020-05-20      1    SFIX  \n",
       "0            17.8465          19.517             1 2020-05-21      1    SFIX  \n",
       "\n",
       "[5 rows x 261 columns]"
      ]
     },
     "execution_count": 8,
     "metadata": {},
     "output_type": "execute_result"
    }
   ],
   "source": [
    "master_df.tail()"
   ]
  },
  {
   "cell_type": "code",
   "execution_count": 9,
   "metadata": {},
   "outputs": [],
   "source": [
    "import xgboost as xgb\n",
    "import matplotlib.pyplot as plt\n",
    "from sklearn import  metrics\n",
    "from sklearn.model_selection import train_test_split\n",
    "from sklearn import svm"
   ]
  },
  {
   "cell_type": "code",
   "execution_count": 10,
   "metadata": {},
   "outputs": [],
   "source": [
    "data = master_df[master_df['ticker']=='SFIX']"
   ]
  },
  {
   "cell_type": "code",
   "execution_count": 11,
   "metadata": {},
   "outputs": [],
   "source": [
    "train_X, test_X, train_y, test_y = train_test_split(data, data['label'], test_size = .2)"
   ]
  },
  {
   "cell_type": "code",
   "execution_count": 12,
   "metadata": {},
   "outputs": [
    {
     "data": {
      "text/plain": [
       "(468, 117)"
      ]
     },
     "execution_count": 12,
     "metadata": {},
     "output_type": "execute_result"
    }
   ],
   "source": [
    "len(train_X), len(test_X)"
   ]
  },
  {
   "cell_type": "code",
   "execution_count": 138,
   "metadata": {},
   "outputs": [],
   "source": [
    "params = {\"max_depth\": 12,\n",
    "                        \"subsample\":0.33,\n",
    "                        \"objective\":'binary:logistic',\n",
    "                        \"n_estimators\":300,\n",
    "                        \"learning_rate\": 0.01}"
   ]
  },
  {
   "cell_type": "code",
   "execution_count": 139,
   "metadata": {},
   "outputs": [],
   "source": [
    "clf = svm.SVC(probability=True)"
   ]
  },
  {
   "cell_type": "code",
   "execution_count": 140,
   "metadata": {},
   "outputs": [
    {
     "name": "stderr",
     "output_type": "stream",
     "text": [
      "/Users/Drewpearson/anaconda3/lib/python3.6/site-packages/sklearn/svm/base.py:196: FutureWarning: The default value of gamma will change from 'auto' to 'scale' in version 0.22 to account better for unscaled features. Set gamma explicitly to 'auto' or 'scale' to avoid this warning.\n",
      "  \"avoid this warning.\", FutureWarning)\n"
     ]
    }
   ],
   "source": [
    "clf.fit(train_X.iloc[:,:-3], train_y)\n",
    "predictions = clf.predict_proba(test_X.iloc[:,:-3])"
   ]
  },
  {
   "cell_type": "code",
   "execution_count": 141,
   "metadata": {},
   "outputs": [
    {
     "name": "stderr",
     "output_type": "stream",
     "text": [
      "/Users/Drewpearson/anaconda3/lib/python3.6/site-packages/ipykernel_launcher.py:2: SettingWithCopyWarning: \n",
      "A value is trying to be set on a copy of a slice from a DataFrame.\n",
      "Try using .loc[row_indexer,col_indexer] = value instead\n",
      "\n",
      "See the caveats in the documentation: http://pandas.pydata.org/pandas-docs/stable/indexing.html#indexing-view-versus-copy\n",
      "  \n"
     ]
    }
   ],
   "source": [
    "aftermath = test_X\n",
    "aftermath['predictions'] = predictions[:,1]"
   ]
  },
  {
   "cell_type": "code",
   "execution_count": 142,
   "metadata": {},
   "outputs": [],
   "source": [
    "def box_plot(data_to_plot, x_labels):\n",
    "    # Create a figure instance\n",
    "    fig = plt.figure(1, figsize=(9, 6))\n",
    "    # Create an axes instance\n",
    "    ax = fig.add_subplot(111)\n",
    "    # Create the boxplot\n",
    "    bp = ax.boxplot(data_to_plot, whis = [5,95])\n",
    "\n",
    "    ax.set_ylabel('Predictions (Probability of Same)')\n",
    "    ax.set_xlabel('Progen Classification')\n",
    "    \n",
    "    ax.set_xticklabels(x_labels)\n",
    "    plt.show()"
   ]
  },
  {
   "cell_type": "code",
   "execution_count": 143,
   "metadata": {},
   "outputs": [
    {
     "data": {
      "image/png": "[encoded data removed]",
      "text/plain": [
       "<Figure size 648x432 with 1 Axes>"
      ]
     },
     "metadata": {
      "needs_background": "light"
     },
     "output_type": "display_data"
    }
   ],
   "source": [
    "data_to_plot = [aftermath[aftermath['label']==1]['predictions'],\n",
    "               aftermath[aftermath['label']==0]['predictions']]\n",
    "x_labels = ['Buy', 'Dont-buy']\n",
    "\n",
    "box_plot(data_to_plot, x_labels)"
   ]
  },
  {
   "cell_type": "code",
   "execution_count": 152,
   "metadata": {},
   "outputs": [
    {
     "data": {
      "text/plain": [
       "1    6\n",
       "0    2\n",
       "Name: label, dtype: int64"
      ]
     },
     "execution_count": 152,
     "metadata": {},
     "output_type": "execute_result"
    }
   ],
   "source": [
    "aftermath[aftermath['predictions']>.8].label.value_counts()"
   ]
  },
  {
   "cell_type": "code",
   "execution_count": 153,
   "metadata": {},
   "outputs": [
    {
     "data": {
      "text/plain": [
       "(0.7, 0.7307692307692307, 0.7, 0.75)"
      ]
     },
     "execution_count": 153,
     "metadata": {},
     "output_type": "execute_result"
    }
   ],
   "source": [
    "21/30,19/26,14/20,6/8"
   ]
  },
  {
   "cell_type": "markdown",
   "metadata": {},
   "source": [
    "# Tpot"
   ]
  },
  {
   "cell_type": "code",
   "execution_count": 13,
   "metadata": {},
   "outputs": [],
   "source": [
    "###convert labels into binary\n",
    "from tpot import TPOTClassifier\n",
    "import time"
   ]
  },
  {
   "cell_type": "code",
   "execution_count": 14,
   "metadata": {},
   "outputs": [],
   "source": [
    "def my_custom_accuracy(y_true, y_pred):\n",
    "    denom = sum(y_pred)\n",
    "    if denom == 0:\n",
    "        return 0\n",
    "    good = 0\n",
    "    for i, pred in y_pred:\n",
    "        if pred == 1:\n",
    "            if y_true[i]==1:\n",
    "                good +=1\n",
    "    \n",
    "    return float(good) / denom"
   ]
  },
  {
   "cell_type": "code",
   "execution_count": 15,
   "metadata": {},
   "outputs": [],
   "source": [
    "tpot = TPOTClassifier(generations=5, population_size=10, verbosity=2, scoring='precision_micro')"
   ]
  },
  {
   "cell_type": "code",
   "execution_count": 16,
   "metadata": {},
   "outputs": [],
   "source": [
    "buys = train_X[train_X['label']==1]\n",
    "no = train_X[train_X['label']==0]\n",
    "combined = buys.append(no.sample(n=130))"
   ]
  },
  {
   "cell_type": "code",
   "execution_count": 17,
   "metadata": {},
   "outputs": [
    {
     "data": {
      "text/plain": [
       "306"
      ]
     },
     "execution_count": 17,
     "metadata": {},
     "output_type": "execute_result"
    }
   ],
   "source": [
    "len(combined)"
   ]
  },
  {
   "cell_type": "code",
   "execution_count": 18,
   "metadata": {},
   "outputs": [],
   "source": [
    "def train():\n",
    "    tpot = TPOTClassifier(generations=5, population_size=10, verbosity=2, scoring='precision_micro')\n",
    "    tpot.fit(combined.iloc[:,:-3], combined['label'].values)\n",
    "    predictions = tpot.predict_proba(test_X.iloc[:,:-4])"
   ]
  },
  {
   "cell_type": "code",
   "execution_count": 19,
   "metadata": {},
   "outputs": [
    {
     "data": {
      "application/vnd.jupyter.widget-view+json": {
       "model_id": "",
       "version_major": 2,
       "version_minor": 0
      },
      "text/plain": [
       "HBox(children=(IntProgress(value=0, description='Optimization Progress', max=60, style=ProgressStyle(descripti…"
      ]
     },
     "metadata": {},
     "output_type": "display_data"
    },
    {
     "name": "stdout",
     "output_type": "stream",
     "text": [
      "Generation 1 - Current best internal CV score: 0.7029085140137494\n",
      "Generation 2 - Current best internal CV score: 0.7029085140137494\n",
      "Generation 3 - Current best internal CV score: 0.7029085140137494\n",
      "Generation 4 - Current best internal CV score: 0.7029085140137494\n",
      "Generation 5 - Current best internal CV score: 0.7029085140137494\n",
      "\n",
      "Best pipeline: ExtraTreesClassifier(input_matrix, bootstrap=True, criterion=entropy, max_features=0.35000000000000003, min_samples_leaf=2, min_samples_split=3, n_estimators=100)\n",
      "total time: 49.08838987350464\n"
     ]
    }
   ],
   "source": [
    "start = time.time()\n",
    "tpot.fit(combined.iloc[:,:-3], combined['label'].values)\n",
    "end = time.time()\n",
    "print ('total time: {}'.format(end-start))"
   ]
  },
  {
   "cell_type": "code",
   "execution_count": 102,
   "metadata": {
    "scrolled": true
   },
   "outputs": [
    {
     "data": {
      "text/plain": [
       "'extratreesclassifier'"
      ]
     },
     "execution_count": 102,
     "metadata": {},
     "output_type": "execute_result"
    }
   ],
   "source": [
    "tpot.fitted_pipeline_.steps[-1][0]"
   ]
  },
  {
   "cell_type": "code",
   "execution_count": 20,
   "metadata": {},
   "outputs": [],
   "source": [
    "best_model = tpot.fitted_pipeline_.steps[-1][1]"
   ]
  },
  {
   "cell_type": "code",
   "execution_count": 71,
   "metadata": {},
   "outputs": [
    {
     "data": {
      "text/plain": [
       "ExtraTreesClassifier(bootstrap=True, class_weight=None, criterion='entropy',\n",
       "           max_depth=None, max_features=0.35000000000000003,\n",
       "           max_leaf_nodes=None, min_impurity_decrease=0.0,\n",
       "           min_impurity_split=None, min_samples_leaf=2,\n",
       "           min_samples_split=3, min_weight_fraction_leaf=0.0,\n",
       "           n_estimators=100, n_jobs=None, oob_score=False,\n",
       "           random_state=None, verbose=0, warm_start=False)"
      ]
     },
     "execution_count": 71,
     "metadata": {},
     "output_type": "execute_result"
    }
   ],
   "source": [
    "best_model.fit(train_X.iloc[:,:-3], train_y)"
   ]
  },
  {
   "cell_type": "code",
   "execution_count": 76,
   "metadata": {},
   "outputs": [],
   "source": [
    "import pickle\n",
    "pickle.dump(best_model, open('../data/test_dump.sav', 'wb'))"
   ]
  },
  {
   "cell_type": "code",
   "execution_count": 80,
   "metadata": {},
   "outputs": [],
   "source": [
    "model = pickle.load(open('../data/test_dump.sav', 'rb'))"
   ]
  },
  {
   "cell_type": "code",
   "execution_count": 81,
   "metadata": {},
   "outputs": [
    {
     "data": {
      "text/plain": [
       "array([[0.09166667, 0.90833333],\n",
       "       [0.448     , 0.552     ],\n",
       "       [0.80333333, 0.19666667],\n",
       "       [0.446     , 0.554     ],\n",
       "       [0.58542857, 0.41457143],\n",
       "       [0.5205    , 0.4795    ],\n",
       "       [0.60433333, 0.39566667],\n",
       "       [0.6835    , 0.3165    ],\n",
       "       [0.83166667, 0.16833333],\n",
       "       [0.66566667, 0.33433333],\n",
       "       [0.945     , 0.055     ],\n",
       "       [0.26916667, 0.73083333],\n",
       "       [0.08833333, 0.91166667],\n",
       "       [0.841     , 0.159     ],\n",
       "       [0.68633333, 0.31366667],\n",
       "       [0.42666667, 0.57333333],\n",
       "       [0.57116667, 0.42883333],\n",
       "       [0.49366667, 0.50633333],\n",
       "       [0.84833333, 0.15166667],\n",
       "       [0.6045    , 0.3955    ],\n",
       "       [0.9155    , 0.0845    ],\n",
       "       [0.71416667, 0.28583333],\n",
       "       [0.82516667, 0.17483333],\n",
       "       [0.34292857, 0.65707143],\n",
       "       [0.93433333, 0.06566667],\n",
       "       [0.66066667, 0.33933333],\n",
       "       [0.5925    , 0.4075    ],\n",
       "       [0.13958333, 0.86041667],\n",
       "       [0.97      , 0.03      ],\n",
       "       [0.71866667, 0.28133333],\n",
       "       [0.74616667, 0.25383333],\n",
       "       [0.18333333, 0.81666667],\n",
       "       [0.575     , 0.425     ],\n",
       "       [0.83666667, 0.16333333],\n",
       "       [0.54066667, 0.45933333],\n",
       "       [0.572     , 0.428     ],\n",
       "       [0.82066667, 0.17933333],\n",
       "       [0.284     , 0.716     ],\n",
       "       [0.32666667, 0.67333333],\n",
       "       [0.73666667, 0.26333333],\n",
       "       [0.3915    , 0.6085    ],\n",
       "       [0.88      , 0.12      ],\n",
       "       [0.61916667, 0.38083333],\n",
       "       [0.6       , 0.4       ],\n",
       "       [0.521     , 0.479     ],\n",
       "       [0.89116667, 0.10883333],\n",
       "       [0.53366667, 0.46633333],\n",
       "       [0.21333333, 0.78666667],\n",
       "       [0.315     , 0.685     ],\n",
       "       [0.51416667, 0.48583333],\n",
       "       [0.29791667, 0.70208333],\n",
       "       [0.53833333, 0.46166667],\n",
       "       [0.79066667, 0.20933333],\n",
       "       [0.363     , 0.637     ],\n",
       "       [0.37783333, 0.62216667],\n",
       "       [0.41633333, 0.58366667],\n",
       "       [0.6025    , 0.3975    ],\n",
       "       [0.826     , 0.174     ],\n",
       "       [0.79      , 0.21      ],\n",
       "       [0.87216667, 0.12783333],\n",
       "       [0.51792857, 0.48207143],\n",
       "       [0.55483333, 0.44516667],\n",
       "       [0.66916667, 0.33083333],\n",
       "       [0.27616667, 0.72383333],\n",
       "       [0.69166667, 0.30833333],\n",
       "       [0.86666667, 0.13333333],\n",
       "       [0.97133333, 0.02866667],\n",
       "       [0.82933333, 0.17066667],\n",
       "       [0.97      , 0.03      ],\n",
       "       [0.30633333, 0.69366667],\n",
       "       [0.86166667, 0.13833333],\n",
       "       [0.78166667, 0.21833333],\n",
       "       [0.84      , 0.16      ],\n",
       "       [0.54333333, 0.45666667],\n",
       "       [0.55833333, 0.44166667],\n",
       "       [0.1685    , 0.8315    ],\n",
       "       [0.74266667, 0.25733333],\n",
       "       [0.81333333, 0.18666667],\n",
       "       [0.60459524, 0.39540476],\n",
       "       [0.20466667, 0.79533333],\n",
       "       [0.56133333, 0.43866667],\n",
       "       [0.66783333, 0.33216667],\n",
       "       [0.89316667, 0.10683333],\n",
       "       [0.16683333, 0.83316667],\n",
       "       [0.56988095, 0.43011905],\n",
       "       [0.6795    , 0.3205    ],\n",
       "       [0.35283333, 0.64716667],\n",
       "       [0.65183333, 0.34816667],\n",
       "       [0.83266667, 0.16733333],\n",
       "       [0.62      , 0.38      ],\n",
       "       [0.69916667, 0.30083333],\n",
       "       [0.16266667, 0.83733333],\n",
       "       [0.75066667, 0.24933333],\n",
       "       [0.70833333, 0.29166667],\n",
       "       [0.69      , 0.31      ],\n",
       "       [0.81883333, 0.18116667],\n",
       "       [0.37      , 0.63      ],\n",
       "       [0.52783333, 0.47216667],\n",
       "       [0.93      , 0.07      ],\n",
       "       [0.64916667, 0.35083333],\n",
       "       [0.90816667, 0.09183333],\n",
       "       [0.84266667, 0.15733333],\n",
       "       [0.62033333, 0.37966667],\n",
       "       [0.731     , 0.269     ],\n",
       "       [0.85983333, 0.14016667],\n",
       "       [0.82166667, 0.17833333],\n",
       "       [0.66766667, 0.33233333],\n",
       "       [0.48383333, 0.51616667],\n",
       "       [0.9145    , 0.0855    ],\n",
       "       [0.6475    , 0.3525    ],\n",
       "       [0.78083333, 0.21916667],\n",
       "       [0.415     , 0.585     ],\n",
       "       [0.21      , 0.79      ],\n",
       "       [0.74833333, 0.25166667],\n",
       "       [0.18433333, 0.81566667],\n",
       "       [0.76183333, 0.23816667],\n",
       "       [0.70316667, 0.29683333]])"
      ]
     },
     "execution_count": 81,
     "metadata": {},
     "output_type": "execute_result"
    }
   ],
   "source": [
    "model.predict_proba(test_X.iloc[:,:-3])"
   ]
  },
  {
   "cell_type": "code",
   "execution_count": 79,
   "metadata": {},
   "outputs": [
    {
     "data": {
      "text/plain": [
       "array([[0.09166667, 0.90833333],\n",
       "       [0.448     , 0.552     ],\n",
       "       [0.80333333, 0.19666667],\n",
       "       [0.446     , 0.554     ],\n",
       "       [0.58542857, 0.41457143],\n",
       "       [0.5205    , 0.4795    ],\n",
       "       [0.60433333, 0.39566667],\n",
       "       [0.6835    , 0.3165    ],\n",
       "       [0.83166667, 0.16833333],\n",
       "       [0.66566667, 0.33433333],\n",
       "       [0.945     , 0.055     ],\n",
       "       [0.26916667, 0.73083333],\n",
       "       [0.08833333, 0.91166667],\n",
       "       [0.841     , 0.159     ],\n",
       "       [0.68633333, 0.31366667],\n",
       "       [0.42666667, 0.57333333],\n",
       "       [0.57116667, 0.42883333],\n",
       "       [0.49366667, 0.50633333],\n",
       "       [0.84833333, 0.15166667],\n",
       "       [0.6045    , 0.3955    ],\n",
       "       [0.9155    , 0.0845    ],\n",
       "       [0.71416667, 0.28583333],\n",
       "       [0.82516667, 0.17483333],\n",
       "       [0.34292857, 0.65707143],\n",
       "       [0.93433333, 0.06566667],\n",
       "       [0.66066667, 0.33933333],\n",
       "       [0.5925    , 0.4075    ],\n",
       "       [0.13958333, 0.86041667],\n",
       "       [0.97      , 0.03      ],\n",
       "       [0.71866667, 0.28133333],\n",
       "       [0.74616667, 0.25383333],\n",
       "       [0.18333333, 0.81666667],\n",
       "       [0.575     , 0.425     ],\n",
       "       [0.83666667, 0.16333333],\n",
       "       [0.54066667, 0.45933333],\n",
       "       [0.572     , 0.428     ],\n",
       "       [0.82066667, 0.17933333],\n",
       "       [0.284     , 0.716     ],\n",
       "       [0.32666667, 0.67333333],\n",
       "       [0.73666667, 0.26333333],\n",
       "       [0.3915    , 0.6085    ],\n",
       "       [0.88      , 0.12      ],\n",
       "       [0.61916667, 0.38083333],\n",
       "       [0.6       , 0.4       ],\n",
       "       [0.521     , 0.479     ],\n",
       "       [0.89116667, 0.10883333],\n",
       "       [0.53366667, 0.46633333],\n",
       "       [0.21333333, 0.78666667],\n",
       "       [0.315     , 0.685     ],\n",
       "       [0.51416667, 0.48583333],\n",
       "       [0.29791667, 0.70208333],\n",
       "       [0.53833333, 0.46166667],\n",
       "       [0.79066667, 0.20933333],\n",
       "       [0.363     , 0.637     ],\n",
       "       [0.37783333, 0.62216667],\n",
       "       [0.41633333, 0.58366667],\n",
       "       [0.6025    , 0.3975    ],\n",
       "       [0.826     , 0.174     ],\n",
       "       [0.79      , 0.21      ],\n",
       "       [0.87216667, 0.12783333],\n",
       "       [0.51792857, 0.48207143],\n",
       "       [0.55483333, 0.44516667],\n",
       "       [0.66916667, 0.33083333],\n",
       "       [0.27616667, 0.72383333],\n",
       "       [0.69166667, 0.30833333],\n",
       "       [0.86666667, 0.13333333],\n",
       "       [0.97133333, 0.02866667],\n",
       "       [0.82933333, 0.17066667],\n",
       "       [0.97      , 0.03      ],\n",
       "       [0.30633333, 0.69366667],\n",
       "       [0.86166667, 0.13833333],\n",
       "       [0.78166667, 0.21833333],\n",
       "       [0.84      , 0.16      ],\n",
       "       [0.54333333, 0.45666667],\n",
       "       [0.55833333, 0.44166667],\n",
       "       [0.1685    , 0.8315    ],\n",
       "       [0.74266667, 0.25733333],\n",
       "       [0.81333333, 0.18666667],\n",
       "       [0.60459524, 0.39540476],\n",
       "       [0.20466667, 0.79533333],\n",
       "       [0.56133333, 0.43866667],\n",
       "       [0.66783333, 0.33216667],\n",
       "       [0.89316667, 0.10683333],\n",
       "       [0.16683333, 0.83316667],\n",
       "       [0.56988095, 0.43011905],\n",
       "       [0.6795    , 0.3205    ],\n",
       "       [0.35283333, 0.64716667],\n",
       "       [0.65183333, 0.34816667],\n",
       "       [0.83266667, 0.16733333],\n",
       "       [0.62      , 0.38      ],\n",
       "       [0.69916667, 0.30083333],\n",
       "       [0.16266667, 0.83733333],\n",
       "       [0.75066667, 0.24933333],\n",
       "       [0.70833333, 0.29166667],\n",
       "       [0.69      , 0.31      ],\n",
       "       [0.81883333, 0.18116667],\n",
       "       [0.37      , 0.63      ],\n",
       "       [0.52783333, 0.47216667],\n",
       "       [0.93      , 0.07      ],\n",
       "       [0.64916667, 0.35083333],\n",
       "       [0.90816667, 0.09183333],\n",
       "       [0.84266667, 0.15733333],\n",
       "       [0.62033333, 0.37966667],\n",
       "       [0.731     , 0.269     ],\n",
       "       [0.85983333, 0.14016667],\n",
       "       [0.82166667, 0.17833333],\n",
       "       [0.66766667, 0.33233333],\n",
       "       [0.48383333, 0.51616667],\n",
       "       [0.9145    , 0.0855    ],\n",
       "       [0.6475    , 0.3525    ],\n",
       "       [0.78083333, 0.21916667],\n",
       "       [0.415     , 0.585     ],\n",
       "       [0.21      , 0.79      ],\n",
       "       [0.74833333, 0.25166667],\n",
       "       [0.18433333, 0.81566667],\n",
       "       [0.76183333, 0.23816667],\n",
       "       [0.70316667, 0.29683333]])"
      ]
     },
     "execution_count": 79,
     "metadata": {},
     "output_type": "execute_result"
    }
   ],
   "source": [
    "best_model.predict_proba(test_X.iloc[:,:-3])"
   ]
  },
  {
   "cell_type": "code",
   "execution_count": 195,
   "metadata": {},
   "outputs": [],
   "source": [
    "tpot.export('../tpot_model_more_data.py')"
   ]
  },
  {
   "cell_type": "code",
   "execution_count": 103,
   "metadata": {},
   "outputs": [
    {
     "data": {
      "text/html": [
       "<div>\n",
       "<style scoped>\n",
       "    .dataframe tbody tr th:only-of-type {\n",
       "        vertical-align: middle;\n",
       "    }\n",
       "\n",
       "    .dataframe tbody tr th {\n",
       "        vertical-align: top;\n",
       "    }\n",
       "\n",
       "    .dataframe thead th {\n",
       "        text-align: right;\n",
       "    }\n",
       "</style>\n",
       "<table border=\"1\" class=\"dataframe\">\n",
       "  <thead>\n",
       "    <tr style=\"text-align: right;\">\n",
       "      <th></th>\n",
       "      <th>0</th>\n",
       "      <th>1</th>\n",
       "      <th>2</th>\n",
       "      <th>3</th>\n",
       "      <th>4</th>\n",
       "      <th>5</th>\n",
       "      <th>6</th>\n",
       "      <th>7</th>\n",
       "      <th>8</th>\n",
       "      <th>9</th>\n",
       "      <th>...</th>\n",
       "      <th>twenty_average_43</th>\n",
       "      <th>ten_average_43</th>\n",
       "      <th>crossover_43</th>\n",
       "      <th>twenty_average_44</th>\n",
       "      <th>ten_average_44</th>\n",
       "      <th>crossover_44</th>\n",
       "      <th>date</th>\n",
       "      <th>label</th>\n",
       "      <th>ticker</th>\n",
       "      <th>predictions</th>\n",
       "    </tr>\n",
       "  </thead>\n",
       "  <tbody>\n",
       "    <tr>\n",
       "      <th>0</th>\n",
       "      <td>20.70</td>\n",
       "      <td>21.26</td>\n",
       "      <td>21.15</td>\n",
       "      <td>20.86</td>\n",
       "      <td>21.00</td>\n",
       "      <td>21.70</td>\n",
       "      <td>21.01</td>\n",
       "      <td>19.99</td>\n",
       "      <td>20.67</td>\n",
       "      <td>20.21</td>\n",
       "      <td>...</td>\n",
       "      <td>21.6335</td>\n",
       "      <td>21.433</td>\n",
       "      <td>0</td>\n",
       "      <td>21.7700</td>\n",
       "      <td>21.398</td>\n",
       "      <td>0</td>\n",
       "      <td>2018-03-26</td>\n",
       "      <td>0</td>\n",
       "      <td>SFIX</td>\n",
       "      <td>0.224661</td>\n",
       "    </tr>\n",
       "    <tr>\n",
       "      <th>0</th>\n",
       "      <td>27.69</td>\n",
       "      <td>27.37</td>\n",
       "      <td>26.54</td>\n",
       "      <td>26.67</td>\n",
       "      <td>26.29</td>\n",
       "      <td>25.31</td>\n",
       "      <td>24.46</td>\n",
       "      <td>25.75</td>\n",
       "      <td>24.47</td>\n",
       "      <td>23.29</td>\n",
       "      <td>...</td>\n",
       "      <td>30.4400</td>\n",
       "      <td>31.108</td>\n",
       "      <td>1</td>\n",
       "      <td>30.5705</td>\n",
       "      <td>31.013</td>\n",
       "      <td>1</td>\n",
       "      <td>2019-07-09</td>\n",
       "      <td>0</td>\n",
       "      <td>SFIX</td>\n",
       "      <td>0.194058</td>\n",
       "    </tr>\n",
       "    <tr>\n",
       "      <th>0</th>\n",
       "      <td>21.59</td>\n",
       "      <td>21.49</td>\n",
       "      <td>20.39</td>\n",
       "      <td>19.45</td>\n",
       "      <td>19.64</td>\n",
       "      <td>19.78</td>\n",
       "      <td>18.20</td>\n",
       "      <td>18.73</td>\n",
       "      <td>18.67</td>\n",
       "      <td>18.34</td>\n",
       "      <td>...</td>\n",
       "      <td>22.8870</td>\n",
       "      <td>22.457</td>\n",
       "      <td>0</td>\n",
       "      <td>22.8370</td>\n",
       "      <td>22.329</td>\n",
       "      <td>0</td>\n",
       "      <td>2019-11-18</td>\n",
       "      <td>0</td>\n",
       "      <td>SFIX</td>\n",
       "      <td>0.199175</td>\n",
       "    </tr>\n",
       "    <tr>\n",
       "      <th>0</th>\n",
       "      <td>27.62</td>\n",
       "      <td>28.46</td>\n",
       "      <td>27.44</td>\n",
       "      <td>27.70</td>\n",
       "      <td>26.43</td>\n",
       "      <td>28.83</td>\n",
       "      <td>32.41</td>\n",
       "      <td>31.12</td>\n",
       "      <td>32.99</td>\n",
       "      <td>33.87</td>\n",
       "      <td>...</td>\n",
       "      <td>33.0570</td>\n",
       "      <td>35.194</td>\n",
       "      <td>1</td>\n",
       "      <td>33.5000</td>\n",
       "      <td>35.684</td>\n",
       "      <td>1</td>\n",
       "      <td>2018-08-30</td>\n",
       "      <td>1</td>\n",
       "      <td>SFIX</td>\n",
       "      <td>0.288291</td>\n",
       "    </tr>\n",
       "    <tr>\n",
       "      <th>0</th>\n",
       "      <td>24.15</td>\n",
       "      <td>25.97</td>\n",
       "      <td>26.36</td>\n",
       "      <td>27.82</td>\n",
       "      <td>27.57</td>\n",
       "      <td>27.76</td>\n",
       "      <td>27.45</td>\n",
       "      <td>28.17</td>\n",
       "      <td>27.01</td>\n",
       "      <td>26.26</td>\n",
       "      <td>...</td>\n",
       "      <td>20.7200</td>\n",
       "      <td>17.748</td>\n",
       "      <td>0</td>\n",
       "      <td>20.2070</td>\n",
       "      <td>17.494</td>\n",
       "      <td>0</td>\n",
       "      <td>2019-01-04</td>\n",
       "      <td>1</td>\n",
       "      <td>SFIX</td>\n",
       "      <td>0.358753</td>\n",
       "    </tr>\n",
       "  </tbody>\n",
       "</table>\n",
       "<p>5 rows × 262 columns</p>\n",
       "</div>"
      ],
      "text/plain": [
       "       0      1      2      3      4      5      6      7      8      9  ...  \\\n",
       "0  20.70  21.26  21.15  20.86  21.00  21.70  21.01  19.99  20.67  20.21  ...   \n",
       "0  27.69  27.37  26.54  26.67  26.29  25.31  24.46  25.75  24.47  23.29  ...   \n",
       "0  21.59  21.49  20.39  19.45  19.64  19.78  18.20  18.73  18.67  18.34  ...   \n",
       "0  27.62  28.46  27.44  27.70  26.43  28.83  32.41  31.12  32.99  33.87  ...   \n",
       "0  24.15  25.97  26.36  27.82  27.57  27.76  27.45  28.17  27.01  26.26  ...   \n",
       "\n",
       "   twenty_average_43  ten_average_43  crossover_43  twenty_average_44  \\\n",
       "0            21.6335          21.433             0            21.7700   \n",
       "0            30.4400          31.108             1            30.5705   \n",
       "0            22.8870          22.457             0            22.8370   \n",
       "0            33.0570          35.194             1            33.5000   \n",
       "0            20.7200          17.748             0            20.2070   \n",
       "\n",
       "   ten_average_44  crossover_44       date  label  ticker  predictions  \n",
       "0          21.398             0 2018-03-26      0    SFIX     0.224661  \n",
       "0          31.013             1 2019-07-09      0    SFIX     0.194058  \n",
       "0          22.329             0 2019-11-18      0    SFIX     0.199175  \n",
       "0          35.684             1 2018-08-30      1    SFIX     0.288291  \n",
       "0          17.494             0 2019-01-04      1    SFIX     0.358753  \n",
       "\n",
       "[5 rows x 262 columns]"
      ]
     },
     "execution_count": 103,
     "metadata": {},
     "output_type": "execute_result"
    }
   ],
   "source": [
    "test_X.head()"
   ]
  },
  {
   "cell_type": "code",
   "execution_count": 160,
   "metadata": {},
   "outputs": [],
   "source": [
    "predictions = tpot.predict_proba(test_X.iloc[:,:-4])"
   ]
  },
  {
   "cell_type": "code",
   "execution_count": 161,
   "metadata": {},
   "outputs": [
    {
     "name": "stderr",
     "output_type": "stream",
     "text": [
      "/Users/Drewpearson/anaconda3/lib/python3.6/site-packages/ipykernel_launcher.py:1: SettingWithCopyWarning: \n",
      "A value is trying to be set on a copy of a slice from a DataFrame.\n",
      "Try using .loc[row_indexer,col_indexer] = value instead\n",
      "\n",
      "See the caveats in the documentation: http://pandas.pydata.org/pandas-docs/stable/indexing.html#indexing-view-versus-copy\n",
      "  \"\"\"Entry point for launching an IPython kernel.\n"
     ]
    }
   ],
   "source": [
    "test_X['tpot_pred'] = predictions[:,1:]"
   ]
  },
  {
   "cell_type": "code",
   "execution_count": 162,
   "metadata": {},
   "outputs": [
    {
     "data": {
      "image/png": "[encoded data removed]",
      "text/plain": [
       "<Figure size 648x432 with 1 Axes>"
      ]
     },
     "metadata": {
      "needs_background": "light"
     },
     "output_type": "display_data"
    }
   ],
   "source": [
    "data_to_plot = [test_X[test_X['label']==1]['tpot_pred'],\n",
    "               test_X[test_X['label']==0]['tpot_pred']]\n",
    "x_labels = ['Buy', 'Dont-buy']\n",
    "\n",
    "box_plot(data_to_plot, x_labels)"
   ]
  },
  {
   "cell_type": "code",
   "execution_count": 168,
   "metadata": {},
   "outputs": [
    {
     "data": {
      "text/html": [
       "<div>\n",
       "<style scoped>\n",
       "    .dataframe tbody tr th:only-of-type {\n",
       "        vertical-align: middle;\n",
       "    }\n",
       "\n",
       "    .dataframe tbody tr th {\n",
       "        vertical-align: top;\n",
       "    }\n",
       "\n",
       "    .dataframe thead th {\n",
       "        text-align: right;\n",
       "    }\n",
       "</style>\n",
       "<table border=\"1\" class=\"dataframe\">\n",
       "  <thead>\n",
       "    <tr style=\"text-align: right;\">\n",
       "      <th></th>\n",
       "      <th>0</th>\n",
       "      <th>1</th>\n",
       "      <th>2</th>\n",
       "      <th>3</th>\n",
       "      <th>4</th>\n",
       "      <th>5</th>\n",
       "      <th>6</th>\n",
       "      <th>7</th>\n",
       "      <th>8</th>\n",
       "      <th>9</th>\n",
       "      <th>...</th>\n",
       "      <th>crossover_42</th>\n",
       "      <th>twenty_average_43</th>\n",
       "      <th>ten_average_43</th>\n",
       "      <th>crossover_43</th>\n",
       "      <th>twenty_average_44</th>\n",
       "      <th>ten_average_44</th>\n",
       "      <th>crossover_44</th>\n",
       "      <th>date</th>\n",
       "      <th>label</th>\n",
       "      <th>ticker</th>\n",
       "    </tr>\n",
       "  </thead>\n",
       "  <tbody>\n",
       "    <tr>\n",
       "      <th>0</th>\n",
       "      <td>24.40</td>\n",
       "      <td>24.99</td>\n",
       "      <td>25.85</td>\n",
       "      <td>26.80</td>\n",
       "      <td>28.80</td>\n",
       "      <td>29.85</td>\n",
       "      <td>34.26</td>\n",
       "      <td>30.98</td>\n",
       "      <td>31.23</td>\n",
       "      <td>29.74</td>\n",
       "      <td>...</td>\n",
       "      <td>1</td>\n",
       "      <td>26.3090</td>\n",
       "      <td>27.572</td>\n",
       "      <td>1</td>\n",
       "      <td>26.5180</td>\n",
       "      <td>27.609</td>\n",
       "      <td>1</td>\n",
       "      <td>2019-06-24</td>\n",
       "      <td>0</td>\n",
       "      <td>PINS</td>\n",
       "    </tr>\n",
       "    <tr>\n",
       "      <th>0</th>\n",
       "      <td>24.99</td>\n",
       "      <td>25.85</td>\n",
       "      <td>26.80</td>\n",
       "      <td>28.80</td>\n",
       "      <td>29.85</td>\n",
       "      <td>34.26</td>\n",
       "      <td>30.98</td>\n",
       "      <td>31.23</td>\n",
       "      <td>29.74</td>\n",
       "      <td>28.36</td>\n",
       "      <td>...</td>\n",
       "      <td>1</td>\n",
       "      <td>26.5180</td>\n",
       "      <td>27.609</td>\n",
       "      <td>1</td>\n",
       "      <td>26.5775</td>\n",
       "      <td>27.484</td>\n",
       "      <td>1</td>\n",
       "      <td>2019-06-25</td>\n",
       "      <td>0</td>\n",
       "      <td>PINS</td>\n",
       "    </tr>\n",
       "    <tr>\n",
       "      <th>0</th>\n",
       "      <td>25.85</td>\n",
       "      <td>26.80</td>\n",
       "      <td>28.80</td>\n",
       "      <td>29.85</td>\n",
       "      <td>34.26</td>\n",
       "      <td>30.98</td>\n",
       "      <td>31.23</td>\n",
       "      <td>29.74</td>\n",
       "      <td>28.36</td>\n",
       "      <td>29.50</td>\n",
       "      <td>...</td>\n",
       "      <td>1</td>\n",
       "      <td>26.5775</td>\n",
       "      <td>27.484</td>\n",
       "      <td>1</td>\n",
       "      <td>26.5945</td>\n",
       "      <td>27.450</td>\n",
       "      <td>1</td>\n",
       "      <td>2019-06-26</td>\n",
       "      <td>0</td>\n",
       "      <td>PINS</td>\n",
       "    </tr>\n",
       "    <tr>\n",
       "      <th>0</th>\n",
       "      <td>26.80</td>\n",
       "      <td>28.80</td>\n",
       "      <td>29.85</td>\n",
       "      <td>34.26</td>\n",
       "      <td>30.98</td>\n",
       "      <td>31.23</td>\n",
       "      <td>29.74</td>\n",
       "      <td>28.36</td>\n",
       "      <td>29.50</td>\n",
       "      <td>28.69</td>\n",
       "      <td>...</td>\n",
       "      <td>1</td>\n",
       "      <td>26.5945</td>\n",
       "      <td>27.450</td>\n",
       "      <td>1</td>\n",
       "      <td>26.6270</td>\n",
       "      <td>27.368</td>\n",
       "      <td>1</td>\n",
       "      <td>2019-06-27</td>\n",
       "      <td>1</td>\n",
       "      <td>PINS</td>\n",
       "    </tr>\n",
       "    <tr>\n",
       "      <th>0</th>\n",
       "      <td>28.80</td>\n",
       "      <td>29.85</td>\n",
       "      <td>34.26</td>\n",
       "      <td>30.98</td>\n",
       "      <td>31.23</td>\n",
       "      <td>29.74</td>\n",
       "      <td>28.36</td>\n",
       "      <td>29.50</td>\n",
       "      <td>28.69</td>\n",
       "      <td>29.51</td>\n",
       "      <td>...</td>\n",
       "      <td>1</td>\n",
       "      <td>26.6270</td>\n",
       "      <td>27.368</td>\n",
       "      <td>1</td>\n",
       "      <td>26.7130</td>\n",
       "      <td>27.396</td>\n",
       "      <td>1</td>\n",
       "      <td>2019-06-28</td>\n",
       "      <td>0</td>\n",
       "      <td>PINS</td>\n",
       "    </tr>\n",
       "  </tbody>\n",
       "</table>\n",
       "<p>5 rows × 261 columns</p>\n",
       "</div>"
      ],
      "text/plain": [
       "       0      1      2      3      4      5      6      7      8      9  ...  \\\n",
       "0  24.40  24.99  25.85  26.80  28.80  29.85  34.26  30.98  31.23  29.74  ...   \n",
       "0  24.99  25.85  26.80  28.80  29.85  34.26  30.98  31.23  29.74  28.36  ...   \n",
       "0  25.85  26.80  28.80  29.85  34.26  30.98  31.23  29.74  28.36  29.50  ...   \n",
       "0  26.80  28.80  29.85  34.26  30.98  31.23  29.74  28.36  29.50  28.69  ...   \n",
       "0  28.80  29.85  34.26  30.98  31.23  29.74  28.36  29.50  28.69  29.51  ...   \n",
       "\n",
       "   crossover_42  twenty_average_43  ten_average_43  crossover_43  \\\n",
       "0             1            26.3090          27.572             1   \n",
       "0             1            26.5180          27.609             1   \n",
       "0             1            26.5775          27.484             1   \n",
       "0             1            26.5945          27.450             1   \n",
       "0             1            26.6270          27.368             1   \n",
       "\n",
       "   twenty_average_44  ten_average_44  crossover_44       date  label  ticker  \n",
       "0            26.5180          27.609             1 2019-06-24      0    PINS  \n",
       "0            26.5775          27.484             1 2019-06-25      0    PINS  \n",
       "0            26.5945          27.450             1 2019-06-26      0    PINS  \n",
       "0            26.6270          27.368             1 2019-06-27      1    PINS  \n",
       "0            26.7130          27.396             1 2019-06-28      0    PINS  \n",
       "\n",
       "[5 rows x 261 columns]"
      ]
     },
     "execution_count": 168,
     "metadata": {},
     "output_type": "execute_result"
    }
   ],
   "source": [
    "master_df.head()"
   ]
  },
  {
   "cell_type": "code",
   "execution_count": 182,
   "metadata": {},
   "outputs": [],
   "source": [
    "company = yf.Ticker('PINS')"
   ]
  },
  {
   "cell_type": "code",
   "execution_count": 183,
   "metadata": {},
   "outputs": [],
   "source": [
    "hist = company.history(period='1d', interval = '1d', start = '2019-06-25', end = '2019-07-03')"
   ]
  },
  {
   "cell_type": "code",
   "execution_count": 184,
   "metadata": {},
   "outputs": [
    {
     "data": {
      "text/html": [
       "<div>\n",
       "<style scoped>\n",
       "    .dataframe tbody tr th:only-of-type {\n",
       "        vertical-align: middle;\n",
       "    }\n",
       "\n",
       "    .dataframe tbody tr th {\n",
       "        vertical-align: top;\n",
       "    }\n",
       "\n",
       "    .dataframe thead th {\n",
       "        text-align: right;\n",
       "    }\n",
       "</style>\n",
       "<table border=\"1\" class=\"dataframe\">\n",
       "  <thead>\n",
       "    <tr style=\"text-align: right;\">\n",
       "      <th></th>\n",
       "      <th>Open</th>\n",
       "      <th>High</th>\n",
       "      <th>Low</th>\n",
       "      <th>Close</th>\n",
       "      <th>Volume</th>\n",
       "      <th>Dividends</th>\n",
       "      <th>Stock Splits</th>\n",
       "    </tr>\n",
       "    <tr>\n",
       "      <th>Date</th>\n",
       "      <th></th>\n",
       "      <th></th>\n",
       "      <th></th>\n",
       "      <th></th>\n",
       "      <th></th>\n",
       "      <th></th>\n",
       "      <th></th>\n",
       "    </tr>\n",
       "  </thead>\n",
       "  <tbody>\n",
       "    <tr>\n",
       "      <th>2019-06-25</th>\n",
       "      <td>26.55</td>\n",
       "      <td>27.09</td>\n",
       "      <td>25.82</td>\n",
       "      <td>26.14</td>\n",
       "      <td>2658700</td>\n",
       "      <td>0</td>\n",
       "      <td>0</td>\n",
       "    </tr>\n",
       "    <tr>\n",
       "      <th>2019-06-26</th>\n",
       "      <td>26.37</td>\n",
       "      <td>26.69</td>\n",
       "      <td>25.86</td>\n",
       "      <td>26.23</td>\n",
       "      <td>1960000</td>\n",
       "      <td>0</td>\n",
       "      <td>0</td>\n",
       "    </tr>\n",
       "    <tr>\n",
       "      <th>2019-06-27</th>\n",
       "      <td>26.33</td>\n",
       "      <td>27.37</td>\n",
       "      <td>26.30</td>\n",
       "      <td>27.23</td>\n",
       "      <td>2281800</td>\n",
       "      <td>0</td>\n",
       "      <td>0</td>\n",
       "    </tr>\n",
       "    <tr>\n",
       "      <th>2019-06-28</th>\n",
       "      <td>27.37</td>\n",
       "      <td>27.65</td>\n",
       "      <td>26.60</td>\n",
       "      <td>27.22</td>\n",
       "      <td>2714500</td>\n",
       "      <td>0</td>\n",
       "      <td>0</td>\n",
       "    </tr>\n",
       "    <tr>\n",
       "      <th>2019-07-01</th>\n",
       "      <td>27.60</td>\n",
       "      <td>28.05</td>\n",
       "      <td>26.44</td>\n",
       "      <td>26.68</td>\n",
       "      <td>3755600</td>\n",
       "      <td>0</td>\n",
       "      <td>0</td>\n",
       "    </tr>\n",
       "    <tr>\n",
       "      <th>2019-07-02</th>\n",
       "      <td>26.80</td>\n",
       "      <td>27.16</td>\n",
       "      <td>26.41</td>\n",
       "      <td>26.91</td>\n",
       "      <td>2749000</td>\n",
       "      <td>0</td>\n",
       "      <td>0</td>\n",
       "    </tr>\n",
       "  </tbody>\n",
       "</table>\n",
       "</div>"
      ],
      "text/plain": [
       "             Open   High    Low  Close   Volume  Dividends  Stock Splits\n",
       "Date                                                                    \n",
       "2019-06-25  26.55  27.09  25.82  26.14  2658700          0             0\n",
       "2019-06-26  26.37  26.69  25.86  26.23  1960000          0             0\n",
       "2019-06-27  26.33  27.37  26.30  27.23  2281800          0             0\n",
       "2019-06-28  27.37  27.65  26.60  27.22  2714500          0             0\n",
       "2019-07-01  27.60  28.05  26.44  26.68  3755600          0             0\n",
       "2019-07-02  26.80  27.16  26.41  26.91  2749000          0             0"
      ]
     },
     "execution_count": 184,
     "metadata": {},
     "output_type": "execute_result"
    }
   ],
   "source": [
    "hist"
   ]
  },
  {
   "cell_type": "code",
   "execution_count": 186,
   "metadata": {},
   "outputs": [
    {
     "data": {
      "text/plain": [
       "0.0653247246486898"
      ]
     },
     "execution_count": 186,
     "metadata": {},
     "output_type": "execute_result"
    }
   ],
   "source": [
    "(28.05-26.33)/26.33"
   ]
  },
  {
   "cell_type": "code",
   "execution_count": 165,
   "metadata": {},
   "outputs": [
    {
     "data": {
      "text/plain": [
       "1    14\n",
       "0     1\n",
       "Name: label, dtype: int64"
      ]
     },
     "execution_count": 165,
     "metadata": {},
     "output_type": "execute_result"
    }
   ],
   "source": [
    "test_X[test_X['tpot_pred']>.85].label.value_counts()"
   ]
  },
  {
   "cell_type": "code",
   "execution_count": 166,
   "metadata": {},
   "outputs": [
    {
     "data": {
      "text/plain": [
       "0.9333333333333333"
      ]
     },
     "execution_count": 166,
     "metadata": {},
     "output_type": "execute_result"
    }
   ],
   "source": [
    "14/15"
   ]
  },
  {
   "cell_type": "code",
   "execution_count": 120,
   "metadata": {},
   "outputs": [
    {
     "data": {
      "image/png": "[encoded data removed]",
      "text/plain": [
       "<Figure size 648x432 with 1 Axes>"
      ]
     },
     "metadata": {
      "needs_background": "light"
     },
     "output_type": "display_data"
    }
   ],
   "source": [
    "data_to_plot = [test_X[test_X['label']==1]['tpot_pred'],\n",
    "               test_X[test_X['label']==0]['tpot_pred']]\n",
    "x_labels = ['Buy', 'Dont-buy']\n",
    "\n",
    "box_plot(data_to_plot, x_labels)"
   ]
  },
  {
   "cell_type": "code",
   "execution_count": 124,
   "metadata": {},
   "outputs": [
    {
     "data": {
      "text/plain": [
       "1    3\n",
       "0    1\n",
       "Name: label, dtype: int64"
      ]
     },
     "execution_count": 124,
     "metadata": {},
     "output_type": "execute_result"
    }
   ],
   "source": [
    "test_X[test_X['tpot_pred']>.7].label.value_counts()"
   ]
  },
  {
   "cell_type": "code",
   "execution_count": null,
   "metadata": {},
   "outputs": [],
   "source": []
  },
  {
   "cell_type": "code",
   "execution_count": 108,
   "metadata": {},
   "outputs": [
    {
     "data": {
      "image/png": "[encoded data removed]",
      "text/plain": [
       "<Figure size 648x432 with 1 Axes>"
      ]
     },
     "metadata": {
      "needs_background": "light"
     },
     "output_type": "display_data"
    }
   ],
   "source": [
    "data_to_plot = [test_X[test_X['label']==1]['tpot_pred'],\n",
    "               test_X[test_X['label']==0]['tpot_pred']]\n",
    "x_labels = ['Buy', 'Dont-buy']\n",
    "\n",
    "box_plot(data_to_plot, x_labels)"
   ]
  },
  {
   "cell_type": "code",
   "execution_count": 36,
   "metadata": {},
   "outputs": [
    {
     "data": {
      "image/png": "[encoded data removed]",
      "text/plain": [
       "<Figure size 648x432 with 1 Axes>"
      ]
     },
     "metadata": {
      "needs_background": "light"
     },
     "output_type": "display_data"
    }
   ],
   "source": [
    "data_to_plot = [test_X[test_X['label']==1]['tpot_pred'],\n",
    "               test_X[test_X['label']==0]['tpot_pred']]\n",
    "x_labels = ['Buy', 'Dont-buy']\n",
    "\n",
    "box_plot(data_to_plot, x_labels)\n"
   ]
  },
  {
   "cell_type": "code",
   "execution_count": 37,
   "metadata": {},
   "outputs": [
    {
     "data": {
      "text/plain": [
       "0    21\n",
       "1     9\n",
       "Name: label, dtype: int64"
      ]
     },
     "execution_count": 37,
     "metadata": {},
     "output_type": "execute_result"
    }
   ],
   "source": [
    "aftermath[aftermath['tpot_pred']>.5].label.value_counts()"
   ]
  },
  {
   "cell_type": "code",
   "execution_count": null,
   "metadata": {},
   "outputs": [],
   "source": []
  }
 ],
 "metadata": {
  "kernelspec": {
   "display_name": "Python 3",
   "language": "python",
   "name": "python3"
  },
  "language_info": {
   "codemirror_mode": {
    "name": "ipython",
    "version": 3
   },
   "file_extension": ".py",
   "mimetype": "text/x-python",
   "name": "python",
   "nbconvert_exporter": "python",
   "pygments_lexer": "ipython3",
   "version": "3.6.8"
  }
 },
 "nbformat": 4,
 "nbformat_minor": 2
}

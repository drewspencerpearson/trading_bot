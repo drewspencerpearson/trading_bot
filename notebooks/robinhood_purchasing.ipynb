{
 "cells": [
  {
   "cell_type": "code",
   "execution_count": 1,
   "metadata": {},
   "outputs": [],
   "source": [
    "import robin_stocks as r\n",
    "import pandas as pd\n",
    "import numpy as np\n",
    "import ta as ta\n",
    "from matplotlib import pyplot as plt"
   ]
  },
  {
   "cell_type": "code",
   "execution_count": null,
   "metadata": {},
   "outputs": [],
   "source": []
  },
  {
   "cell_type": "code",
   "execution_count": null,
   "metadata": {},
   "outputs": [],
   "source": []
  },
  {
   "cell_type": "code",
   "execution_count": null,
   "metadata": {},
   "outputs": [],
   "source": []
  },
  {
   "cell_type": "code",
   "execution_count": 4,
   "metadata": {},
   "outputs": [],
   "source": [
    "def get_watchlist_symbols():\n",
    "    \"\"\"\n",
    "    Returns: the symbol for each stock in your watchlist as a list of strings\n",
    "    \"\"\"\n",
    "    my_list_names = []\n",
    "    symbols = []\n",
    "    for name in r.get_all_watchlists(info='name'):\n",
    "        my_list_names.append(name)\n",
    "    for name in my_list_names:\n",
    "        list = r.get_watchlist_by_name(name)\n",
    "        for item in list:\n",
    "            instrument_data = r.get_instrument_by_url(item.get('instrument'))\n",
    "            symbol = instrument_data['symbol']\n",
    "            symbols.append(symbol)\n",
    "    return symbols"
   ]
  },
  {
   "cell_type": "code",
   "execution_count": 5,
   "metadata": {},
   "outputs": [],
   "source": [
    "def get_portfolio_symbols():\n",
    "    \"\"\"\n",
    "    Returns: the symbol for each stock in your portfolio as a list of strings\n",
    "    \"\"\"\n",
    "    symbols = []\n",
    "    holdings_data = r.get_current_positions()\n",
    "    for item in holdings_data:\n",
    "        if not item:\n",
    "            continue\n",
    "        instrument_data = r.get_instrument_by_url(item.get('instrument'))\n",
    "        symbol = instrument_data['symbol']\n",
    "        symbols.append(symbol)\n",
    "    return symbols"
   ]
  },
  {
   "cell_type": "code",
   "execution_count": 6,
   "metadata": {},
   "outputs": [],
   "source": [
    "portfolio_symbols = get_portfolio_symbols()"
   ]
  },
  {
   "cell_type": "code",
   "execution_count": 7,
   "metadata": {},
   "outputs": [
    {
     "data": {
      "text/plain": [
       "['GRPN']"
      ]
     },
     "execution_count": 7,
     "metadata": {},
     "output_type": "execute_result"
    }
   ],
   "source": [
    "portfolio_symbols"
   ]
  },
  {
   "cell_type": "code",
   "execution_count": 8,
   "metadata": {},
   "outputs": [],
   "source": [
    "watchlist_symbols = get_watchlist_symbols()"
   ]
  },
  {
   "cell_type": "code",
   "execution_count": 9,
   "metadata": {},
   "outputs": [
    {
     "data": {
      "text/plain": [
       "['SNAP',\n",
       " 'AAPL',\n",
       " 'TWTR',\n",
       " 'TSLA',\n",
       " 'NFLX',\n",
       " 'FB',\n",
       " 'MSFT',\n",
       " 'DIS',\n",
       " 'GPRO',\n",
       " 'SBUX',\n",
       " 'F',\n",
       " 'BABA',\n",
       " 'BAC',\n",
       " 'FIT',\n",
       " 'GE']"
      ]
     },
     "execution_count": 9,
     "metadata": {},
     "output_type": "execute_result"
    }
   ],
   "source": [
    "watchlist_symbols"
   ]
  },
  {
   "cell_type": "code",
   "execution_count": 10,
   "metadata": {},
   "outputs": [
    {
     "data": {
      "text/plain": [
       "{'detail': \"We've recently launched Clearing by Robinhood. Please sign the updated agreement in your app to place your trade.\"}"
      ]
     },
     "execution_count": 10,
     "metadata": {},
     "output_type": "execute_result"
    }
   ],
   "source": [
    "r.order_buy_market('SFIX', 1)"
   ]
  },
  {
   "cell_type": "code",
   "execution_count": null,
   "metadata": {},
   "outputs": [],
   "source": []
  }
 ],
 "metadata": {
  "kernelspec": {
   "display_name": "Python 3",
   "language": "python",
   "name": "python3"
  },
  "language_info": {
   "codemirror_mode": {
    "name": "ipython",
    "version": 3
   },
   "file_extension": ".py",
   "mimetype": "text/x-python",
   "name": "python",
   "nbconvert_exporter": "python",
   "pygments_lexer": "ipython3",
   "version": "3.6.8"
  }
 },
 "nbformat": 4,
 "nbformat_minor": 2
}

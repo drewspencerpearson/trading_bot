{
 "cells": [
  {
   "cell_type": "code",
   "execution_count": 31,
   "metadata": {},
   "outputs": [],
   "source": [
    "import pandas as pd\n",
    "import pandas_datareader.data as web\n",
    "from datetime import datetime, timedelta\n",
    "import yfinance as yf\n",
    "import matplotlib.pyplot as plt\n",
    "import seaborn\n",
    "import scipy\n",
    "from scipy.signal import argrelextrema\n",
    "import numpy as np\n",
    "import xgboost as xgb\n",
    "import matplotlib.pyplot as plt\n",
    "from sklearn import  metrics\n",
    "from sklearn.model_selection import train_test_split\n",
    "from sklearn import svm\n",
    "import seaborn\n",
    "import json\n",
    "import pickle\n",
    "from tpot import TPOTClassifier\n",
    "import os"
   ]
  },
  {
   "cell_type": "markdown",
   "metadata": {},
   "source": [
    "Check previous 45 days. If on day 46 or 47, the high is greater than the 46 open by 5%, that is a postive. Else negative"
   ]
  },
  {
   "cell_type": "code",
   "execution_count": 32,
   "metadata": {},
   "outputs": [],
   "source": [
    "def calculate_percent_increase(open_price, high_price):\n",
    "    # Given an open price and a high price, calculate the percent increase\n",
    "    return (high_price-open_price)/open_price"
   ]
  },
  {
   "cell_type": "code",
   "execution_count": 33,
   "metadata": {},
   "outputs": [],
   "source": [
    "def calculating_average_crossover(prev_closes):\n",
    "    my_df = pd.DataFrame(prev_closes)\n",
    "    twenty = my_df.T.rolling(window = 20, axis = 1).mean().iloc[:,-26:].values[0]\n",
    "    ten = my_df.T.rolling(window = 10, axis = 1).mean().iloc[:,-26:].values[0]\n",
    "    \n",
    "    twenty_over_ten = []\n",
    "    for i in range(0,26):\n",
    "        if twenty[i]>ten[i]:\n",
    "            twenty_over_ten.append(0)\n",
    "        else:\n",
    "            twenty_over_ten.append(1)\n",
    "    return twenty, ten, twenty_over_ten"
   ]
  },
  {
   "cell_type": "code",
   "execution_count": 34,
   "metadata": {},
   "outputs": [],
   "source": [
    "def create_model_df(historical_df):\n",
    "    # This function goes through every 47 period window in our historical dataframe. It keeps the 45 previous close prices\n",
    "    # As training data. It calculates the percent increase from the open on day 46 to the highest point on either day 46 or 47\n",
    "    # creates a data frame with the previous 45 days. The date of day 46. And the label either 1 for buy, 0 for no buy\n",
    "    open_prices = historical_df['Open'].values\n",
    "    close_prices = historical_df['Close'].values\n",
    "    high_prices = historical_df['High'].values\n",
    "    low_prices = historical_df['Low'].values\n",
    "    dates = historical_df.index\n",
    "    i = 0\n",
    "    for j in range(45,len(historical_df)-2):\n",
    "        prev_closes = close_prices[i:j]\n",
    "        prev_high = high_prices[i:j]\n",
    "        prev_open = open_prices[i:j]\n",
    "        prev_low = low_prices[i:j]\n",
    "        \n",
    "        # get the averages and crossovers\n",
    "        twenty_average, ten_average, cross_over = calculating_average_crossover(prev_closes)\n",
    "        \n",
    "        # get the label -  at least 6% gain in the next three days\n",
    "        open_46 = open_prices[j]\n",
    "        high_46 = high_prices[j]\n",
    "        high_47 = high_prices[j+1]\n",
    "        high_48 = high_prices[j+2]\n",
    "        \n",
    "        # get the highest price from either day 46, 47 or 48\n",
    "        high_price = max(high_46, high_47, high_48)\n",
    "\n",
    "        # Get the percent increase and deterimine if it should be a positive label or negative\n",
    "        percent_increase = calculate_percent_increase(open_46, high_price)\n",
    "        if percent_increase >=.06:\n",
    "            label = 1\n",
    "        else:\n",
    "            label = 0\n",
    "\n",
    "        # Create our model_df\n",
    "        if i ==0:\n",
    "            model_df = pd.DataFrame(prev_closes)\n",
    "            model_df = model_df.T\n",
    "            \n",
    "            # Add the open high and low prices\n",
    "            for index in range(len(prev_closes)):\n",
    "                model_df['open_{}'.format(index)] = prev_open[index]\n",
    "                model_df['high_{}'.format(index)] = prev_high[index]\n",
    "                model_df['low_{}'.format(index)] = prev_low[index]\n",
    "                \n",
    "            # Add the averages and the crossover\n",
    "            for index in range(len(twenty_average)):\n",
    "                model_df['twenty_average_{}'.format(index+19)] = twenty_average[index]\n",
    "                model_df['ten_average_{}'.format(index+19)] = ten_average[index]\n",
    "                model_df['crossover_{}'.format(index+19)] = cross_over[index]\n",
    "                \n",
    "            model_df['purchase_date'] = dates[j]\n",
    "            model_df['label'] = label\n",
    "        else:\n",
    "            append_df = pd.DataFrame(prev_closes)\n",
    "            append_df = append_df.T\n",
    "            \n",
    "            # Add the open high and low prices\n",
    "            for index in range(len(prev_closes)):\n",
    "                append_df['open_{}'.format(index)] = prev_open[index]\n",
    "                append_df['high_{}'.format(index)] = prev_high[index]\n",
    "                append_df['low_{}'.format(index)] = prev_low[index]\n",
    "            \n",
    "            # Add the averages and the crossover\n",
    "            for index in range(len(twenty_average)):\n",
    "                append_df['twenty_average_{}'.format(index+19)] = twenty_average[index]\n",
    "                append_df['ten_average_{}'.format(index+19)] = ten_average[index]\n",
    "                append_df['crossover_{}'.format(index+19)] = cross_over[index]\n",
    "            \n",
    "            append_df['purchase_date'] = dates[j]\n",
    "            append_df['label'] = label\n",
    "            model_df = model_df.append(append_df)\n",
    "        i+=1\n",
    "    return model_df"
   ]
  },
  {
   "cell_type": "code",
   "execution_count": 35,
   "metadata": {},
   "outputs": [],
   "source": [
    "def cross_validate(training_data, best_model):\n",
    "    # 5 fold cross validation on the training set, determine the optimal threshold\n",
    "    for i in range(1,6):\n",
    "        splice_size = int(len(training_data)/5)\n",
    "        dev = training_data.iloc[(i-1)*splice_size:i*splice_size]\n",
    "        \n",
    "        # train is everything before the dev set and everything after\n",
    "        train_before = training_data.iloc[0 : (i-1)*splice_size]\n",
    "        train_after = training_data.iloc[i*splice_size :]\n",
    "        train = train_before.append(train_after)\n",
    "        \n",
    "        best_model.fit(train.iloc[:,:-3], train['label'].values)\n",
    "        predictions = best_model.predict_proba(dev.iloc[:,:-3])\n",
    "        #clf = svm.SVC(probability=True)\n",
    "        #clf.fit(train.iloc[:,:-3], train['label'])\n",
    "        #predictions = clf.predict_proba(dev.iloc[:,:-3])\n",
    "        \n",
    "        aftermath = dev\n",
    "        aftermath['predictions'] = predictions[:,1]\n",
    "        if i ==1:\n",
    "            prediction_df = aftermath\n",
    "        else:\n",
    "            prediction_df = prediction_df.append(aftermath)\n",
    "    return prediction_df"
   ]
  },
  {
   "cell_type": "code",
   "execution_count": 36,
   "metadata": {},
   "outputs": [],
   "source": [
    "def find_optimal_threshold(aftermath):\n",
    "    thresholds = np.arange(1,20)\n",
    "    thresholds = thresholds/20\n",
    "    total_buys = 0\n",
    "    max_success_rate = 0\n",
    "    for threshold in thresholds:\n",
    "        buys = aftermath[aftermath['predictions']>threshold]\n",
    "        \n",
    "        good_buy = buys[buys['label']==1]\n",
    "        bad_buy = buys[buys['label']==0]\n",
    "        if len(buys)<10:\n",
    "            continue\n",
    "        success_rate = len(good_buy)/len(buys)\n",
    "        print (success_rate)\n",
    "        if success_rate > max_success_rate:\n",
    "            max_success_rate = success_rate\n",
    "            optimal_threshold = threshold\n",
    "            good_buys = len(good_buy)\n",
    "            total_buys = len(buys)\n",
    "    if total_buys == 0:\n",
    "        return 0, __\n",
    "    buy_info = {}\n",
    "    buy_info['purchases'] = total_buys\n",
    "    buy_info['successes'] = good_buys\n",
    "    buy_info['success_rate'] = good_buys/total_buys\n",
    "    return optimal_threshold, buy_info"
   ]
  },
  {
   "cell_type": "code",
   "execution_count": 37,
   "metadata": {},
   "outputs": [],
   "source": [
    "def hold_till_up(hist, index, open_price):\n",
    "    \"\"\"Function holds the stock until it hits a 5% gain\"\"\"\n",
    "    hold_gain = 0\n",
    "    hold_days = 0\n",
    "    never_sold = 0\n",
    "    # go through every day from day of purchase, calculate if high was above 5% open price. If so, sell. \n",
    "    sold = False\n",
    "    # Index is the day you bought. So, we want to add days to index from index + 0 all the way \n",
    "    # to index + remaining days (remaining = len(hist)-index)\n",
    "    for i in range(0,(len(hist)-index)[0]):\n",
    "        high = hist.iloc[index+i]['High'].values[0]\n",
    "        if (high-open_price)/open_price >= .05:\n",
    "            hold_gain += 1.05 * open_price\n",
    "            hold_days = i+1\n",
    "            sold = True\n",
    "            break\n",
    "    # If you never sold it, you would still be holding, so close out\n",
    "    if sold == False:\n",
    "        close = hist.iloc[index+i]['Close'].values[0]\n",
    "        never_sold += close-open_price\n",
    "        hold_days = 0\n",
    "    \n",
    "    return hold_gain, hold_days, never_sold"
   ]
  },
  {
   "cell_type": "code",
   "execution_count": 47,
   "metadata": {},
   "outputs": [],
   "source": [
    "def calculate_return(ticker, buy_orders, hist):\n",
    "    dollar_success = 0\n",
    "    two_day_dollar_fail = 0\n",
    "    investment = 0\n",
    "    hold_gains = 0\n",
    "    days_held = []\n",
    "    never_sold_closeout = 0\n",
    "    investment_success = 0\n",
    "    investment_failure = 0\n",
    "    total_investment = 0\n",
    "\n",
    "    results_dict = {}\n",
    "    for i, row in buy_orders.iterrows():\n",
    "\n",
    "        if row['label'] ==1:\n",
    "            # Get the data for the date you are buying at open. Get the max high and make sure it was over 5% \n",
    "            index = hist[hist.index==row['purchase_date']]['index']\n",
    "            # get the open price\n",
    "            open_price = hist[hist.index==row['purchase_date']]['Open'].values[0]\n",
    "            # Get the two high prices and ensure that one of them was higher than 5% of open\n",
    "            high1 = hist[hist.index==row['purchase_date']]['High'].values[0]\n",
    "            high2 = hist.iloc[index+1]['High'].values[0]\n",
    "            high3 = hist.iloc[index+2]['High'].values[0]\n",
    "            \n",
    "            if (max(high1,high2, high3)-open_price)/open_price <=.05:\n",
    "                print ('problem')\n",
    "            # I would trigger a limit sell at 5% higher than open, so the increase is 1.05*open\n",
    "            \n",
    "            dollar_success += 1.05 * open_price\n",
    "            investment_success += open_price\n",
    "\n",
    "        else:\n",
    "            # for loses, I would have three potential strategies. \n",
    "            # 1. get out after two days\n",
    "            # 2. hold until it gets up 5%\n",
    "            # 3. set up a trailing loss function so, if the price dips x% sell\n",
    "\n",
    "            #### Option 1 (get out after two days) ####\n",
    "            index = hist[hist.index==row['purchase_date']]['index']\n",
    "            open_price = hist[hist.index==row['purchase_date']]['Open'].values[0]\n",
    "            close2 = hist.iloc[index+1]['Close'].values[0]\n",
    "            two_day_dollar_fail += close2\n",
    "\n",
    "            #### Option 2 hold until it gets up 5% ####\n",
    "            # Go through each day and if the high is above 5% I would sell. Otherwise go to next day, \n",
    "            # until there are no days left\n",
    "            hold_gain, hold_days, never_sold = hold_till_up(hist, index, open_price)\n",
    "            hold_gains += hold_gain\n",
    "            days_held.append(hold_days)\n",
    "            never_sold_closeout += never_sold\n",
    "\n",
    "            investment_failure += open_price\n",
    "            #### Option 3 Set up a selling trigger ####\n",
    "\n",
    "\n",
    "        total_investment += open_price\n",
    "\n",
    "    results_dict['ticker'] = ticker\n",
    "    results_dict['purchases'] = len(buy_orders)\n",
    "    results_dict['classic_success'] = len(buy_orders[buy_orders['label']==1])\n",
    "    results_dict['classic_failures'] = len(buy_orders[buy_orders['label']==0])\n",
    "    results_dict['total_investment']  = total_investment\n",
    "    results_dict['investment_success'] = investment_success\n",
    "    results_dict['investment_failure'] = investment_failure\n",
    "    results_dict['dollar_success'] = dollar_success\n",
    "    results_dict['two_day_get_out'] = two_day_dollar_fail\n",
    "    results_dict['hold_gains'] = hold_gains\n",
    "    results_dict['days_held'] = days_held\n",
    "    results_dict['never_sold_closeout'] = never_sold_closeout\n",
    "    results_dict['two_day_strategy'] = dollar_success+two_day_dollar_fail\n",
    "    results_dict['two_day_strategy_roi'] = ((dollar_success+two_day_dollar_fail)-total_investment)/total_investment\n",
    "    results_dict['hold_strategy'] = dollar_success+hold_gains\n",
    "    results_dict['hold_strategy_roi'] = ((dollar_success+hold_gains)-total_investment)/total_investment\n",
    "    \n",
    "    return results_dict"
   ]
  },
  {
   "cell_type": "code",
   "execution_count": 48,
   "metadata": {},
   "outputs": [],
   "source": [
    "def plot_buys(buy_order, hist, save_place, show = False):\n",
    "    # Get the purchase date, open price on purchase and the previous 30 + future 30 day close prices\n",
    "    purchase_date = buy_order.purchase_date\n",
    "    index = hist[hist.index==purchase_date]['index'][0]\n",
    "    subset = hist.iloc[index-30:index+31]\n",
    "    open_price = hist[hist.index==purchase_date]['Open'].values[0]\n",
    "    \n",
    "    # Plot the previous 30 to the future 30 days\n",
    "    plt.style.use('seaborn')\n",
    "    plt.plot(np.arange(0,len(subset),1), subset['Close'])\n",
    "    \n",
    "    tick_labels = [x.strftime('%Y-%m-%d') for x in subset.index[::5]]\n",
    "    plt.xticks(np.arange(0,len(subset),5), labels = tick_labels, rotation = 'vertical')\n",
    "    \n",
    "    # Plot the purchase\n",
    "    plt.scatter(30, open_price,c = 'r')\n",
    "    plt.title('{} close prices for 30 days before and 30 days after a recommended purchase'.format(buy_order.ticker))\n",
    "    plt.savefig(save_place)\n",
    "    if show:\n",
    "        plt.show()\n",
    "    plt.close()"
   ]
  },
  {
   "cell_type": "code",
   "execution_count": 49,
   "metadata": {},
   "outputs": [],
   "source": [
    "def plot_testset(aftermath, optimal_threshold, plot, test_set_graph_save_place):\n",
    "    data_to_plot = [aftermath[aftermath['label']==1]['predictions'],\n",
    "               aftermath[aftermath['label']==0]['predictions']]\n",
    "    x_labels = ['Buy', 'Dont-buy']\n",
    "    plt.hlines(optimal_threshold, 0, 5)\n",
    "    # Create a figure instance\n",
    "    fig = plt.figure(1, figsize=(9, 6))\n",
    "    # Create an axes instance\n",
    "    ax = fig.add_subplot(111)\n",
    "    # Create the boxplot\n",
    "    bp = ax.boxplot(data_to_plot, whis = [5,95])\n",
    "\n",
    "    ax.set_ylabel('Predictions (Probability of Same)')\n",
    "    ax.set_xlabel('Progen Classification')\n",
    "    \n",
    "    ax.set_xticklabels(x_labels)\n",
    "    \n",
    "    plt.savefig(test_set_graph_save_place)\n",
    "    \n",
    "    print (plot)\n",
    "    if plot == True:\n",
    "        plt.show()\n",
    "    plt.close()\n",
    "    "
   ]
  },
  {
   "cell_type": "code",
   "execution_count": 50,
   "metadata": {},
   "outputs": [],
   "source": [
    "def find_best_model_tpot(train_X):\n",
    "    tpot = TPOTClassifier(generations=5, population_size=10, verbosity=2, scoring='precision_micro')\n",
    "    tpot.fit(train_X.iloc[:,:-3], train_X['label'].values)\n",
    "    \n",
    "    model_type = tpot.fitted_pipeline_.steps[-1][0]\n",
    "    best_model = tpot.fitted_pipeline_.steps[-1][1]\n",
    "\n",
    "    return model_type, best_model"
   ]
  },
  {
   "cell_type": "code",
   "execution_count": 51,
   "metadata": {},
   "outputs": [],
   "source": [
    "def predicting_days_to_purchase(buy_chart_save_place, results_file, plot, test_set_graph_save_place, ticker, \n",
    "                                start_date, end_date, model_meta_file, model_filename):\n",
    "\n",
    "    # go through each ticker and do the following:\n",
    "    # 1 get the data in a format to train a model\n",
    "    # 2 run a cross validation on the training set to determine optimal thresholds\n",
    "    # 3 train a model with all the training set\n",
    "    # 4 test that model on the test set\n",
    "    # 5 track wins and losses from purchases based on our models classifications on test set\n",
    "    # 6 Plot on a chart of close prices where our purchase price would have been. \n",
    "    \n",
    "    #### Pass in: Plot, save_places, ticker list\n",
    "    # Get data, split into train and test then run cross validation on the train set\n",
    "    company = yf.Ticker(ticker)\n",
    "    hist = company.history(period='1d', interval = '1d', start = start_date, end = end_date)\n",
    "    data = create_model_df(hist)\n",
    "    data['ticker'] = ticker\n",
    "\n",
    "    train_X, test_X, train_y, test_y = train_test_split(data, data['label'], test_size = .2)\n",
    "    \n",
    "    # Get the best model type from tpot\n",
    "    model_type, best_model = find_best_model_tpot(train_X)\n",
    "\n",
    "    # Cross Validate and determine optimal threshold from cross validation\n",
    "    cv_predictions = cross_validate(train_X, best_model)\n",
    "    optimal_threshold, buy_info = find_optimal_threshold(cv_predictions)\n",
    "    if optimal_threshold == 0:\n",
    "        print ('Not enough buys')\n",
    "        return None\n",
    "    # Train your model on all the training data and test on the test set. Store predictions\n",
    "    #clf = svm.SVC(probability=True)\n",
    "    #clf.fit(train_X.iloc[:,:-3], train_y)\n",
    "    best_model.fit(train_X.iloc[:,:-3], train_y)\n",
    "    \n",
    "    # Save the model and model info off\n",
    "    pickle.dump(best_model, open(model_filename, 'wb'))\n",
    "    \n",
    "    model_dict = {}\n",
    "    model_dict['type'] = model_type\n",
    "    model_dict['ticker'] = ticker\n",
    "    model_dict['threshold'] = optimal_threshold\n",
    "    with open(model_meta_file, 'w') as fp:\n",
    "        json.dump(model_dict, fp)\n",
    "    \n",
    "    predictions = best_model.predict_proba(test_X.iloc[:,:-3])\n",
    "    aftermath = test_X\n",
    "    aftermath['predictions'] = predictions[:,1]\n",
    "\n",
    "    # plot the test set buy and no buys and the optimal threshold\n",
    "    plot_testset(aftermath, optimal_threshold, plot, test_set_graph_save_place)\n",
    "    \n",
    "    # Determine the buy_orders that would be placed with that threshold and determine their returns\n",
    "    buy_orders = aftermath[aftermath['predictions'] > optimal_threshold]\n",
    "    \n",
    "    if len(buy_orders)==0:\n",
    "        results_dict = {'Purchases':'None'}\n",
    "        with open(results_file, 'w') as fp:\n",
    "            json.dump(results_dict, fp)\n",
    "        return\n",
    "    hist['index'] = np.arange(0,len(hist))\n",
    "    results_dict = calculate_return(ticker, buy_orders, hist)\n",
    "    with open(results_file, 'w') as fp:\n",
    "        json.dump(results_dict, fp)\n",
    "\n",
    "    # Plot where they are on the graph of the stock previous days\n",
    "    k = 0\n",
    "    for i,buy in buy_orders.iterrows():\n",
    "        k +=1\n",
    "        plot_buys(buy, hist, buy_chart_save_place+'{}.png'.format(k))"
   ]
  },
  {
   "cell_type": "code",
   "execution_count": 52,
   "metadata": {},
   "outputs": [],
   "source": [
    "def make_directories(ticker, model_version):\n",
    "    if not os.path.exists('../{}/'.format(model_version)):\n",
    "        os.mkdir('../{}/'.format(model_version))\n",
    "        \n",
    "    if not os.path.exists('../{}/data/'.format(model_version)):\n",
    "        os.mkdir('../{}/data/'.format(model_version))\n",
    "        \n",
    "    if not os.path.exists('../{}/data/{}/'.format(model_version, ticker)):\n",
    "        os.mkdir('../{}/data/{}/'.format(model_version, ticker))\n",
    "        \n",
    "    # Make sure the directory exists to save the buy graphs\n",
    "    if not os.path.exists('../{}/data/{}/buy_graphs/'.format(model_version, ticker)):\n",
    "        os.mkdir('../{}/data/{}/buy_graphs/'.format(model_version, ticker))\n",
    "        \n",
    "    # Make sure the directory exists to save the test results images\n",
    "    if not os.path.exists('../{}/data/{}/model_graphs/'.format(model_version, ticker)):\n",
    "        os.mkdir('../{}/data/{}/model_graphs/'.format(model_version, ticker))"
   ]
  },
  {
   "cell_type": "code",
   "execution_count": 53,
   "metadata": {},
   "outputs": [],
   "source": [
    "def main(ticker, to_plot, model_version):\n",
    "    # 3 Years of Data\n",
    "    days_to_subtract = 365*5\n",
    "    end_date = (datetime.today())\n",
    "    start_date = end_date-timedelta(days=days_to_subtract)\n",
    "\n",
    "    end_date = end_date.strftime('%Y-%m-%d')\n",
    "    start_date = start_date.strftime('%Y-%m-%d')\n",
    "    \n",
    "    make_directories(ticker, model_version)\n",
    "        \n",
    "    buy_chart_save_place = '../{}/data/{}/buy_graphs/purchase'.format(model_version, ticker)\n",
    "    \n",
    "    # Save the results\n",
    "    results_file = '../{}/data/{}/purchase_results.json'.format(model_version, ticker)\n",
    "    \n",
    "    test_graph_save_place = '../{}/data/{}/model_graphs/test_results.png'.format(model_version, ticker)\n",
    "    \n",
    "    model_meta_file = '../{}/data/{}/meta_data.json'.format(model_version, ticker)\n",
    "    model_filename = '../{}/data/{}/model.sav'.format(model_version, ticker)\n",
    "\n",
    "    predicting_days_to_purchase(buy_chart_save_place, results_file, to_plot, \n",
    "                                test_graph_save_place, ticker, start_date, end_date, model_meta_file, model_filename)"
   ]
  },
  {
   "cell_type": "code",
   "execution_count": 54,
   "metadata": {},
   "outputs": [],
   "source": [
    "Tickers = ['PINS', 'SFIX', 'AMD', 'CSTM', 'WFC', 'T', 'NCLH', 'INTC', 'PTON', 'LUV', 'UAA', 'KAR', 'SYF']\n",
    "model_version = 'version_2'"
   ]
  },
  {
   "cell_type": "code",
   "execution_count": 55,
   "metadata": {},
   "outputs": [
    {
     "name": "stdout",
     "output_type": "stream",
     "text": [
      "PINS\n"
     ]
    },
    {
     "data": {
      "application/vnd.jupyter.widget-view+json": {
       "model_id": "",
       "version_major": 2,
       "version_minor": 0
      },
      "text/plain": [
       "HBox(children=(IntProgress(value=0, description='Optimization Progress', max=60, style=ProgressStyle(descripti…"
      ]
     },
     "metadata": {},
     "output_type": "display_data"
    },
    {
     "name": "stdout",
     "output_type": "stream",
     "text": [
      "Generation 1 - Current best internal CV score: 0.771921921921922\n",
      "Generation 2 - Current best internal CV score: 0.771921921921922\n",
      "Generation 3 - Current best internal CV score: 0.771921921921922\n",
      "Generation 4 - Current best internal CV score: 0.771921921921922\n",
      "Generation 5 - Current best internal CV score: 0.771921921921922\n",
      "\n",
      "Best pipeline: GradientBoostingClassifier(input_matrix, learning_rate=0.01, max_depth=2, max_features=0.6500000000000001, min_samples_leaf=1, min_samples_split=15, n_estimators=100, subsample=0.8500000000000001)\n"
     ]
    },
    {
     "name": "stderr",
     "output_type": "stream",
     "text": [
      "/Users/Drewpearson/anaconda3/lib/python3.6/site-packages/ipykernel_launcher.py:19: SettingWithCopyWarning: \n",
      "A value is trying to be set on a copy of a slice from a DataFrame.\n",
      "Try using .loc[row_indexer,col_indexer] = value instead\n",
      "\n",
      "See the caveats in the documentation: http://pandas.pydata.org/pandas-docs/stable/indexing.html#indexing-view-versus-copy\n",
      "/Users/Drewpearson/anaconda3/lib/python3.6/site-packages/ipykernel_launcher.py:19: SettingWithCopyWarning: \n",
      "A value is trying to be set on a copy of a slice from a DataFrame.\n",
      "Try using .loc[row_indexer,col_indexer] = value instead\n",
      "\n",
      "See the caveats in the documentation: http://pandas.pydata.org/pandas-docs/stable/indexing.html#indexing-view-versus-copy\n",
      "/Users/Drewpearson/anaconda3/lib/python3.6/site-packages/ipykernel_launcher.py:19: SettingWithCopyWarning: \n",
      "A value is trying to be set on a copy of a slice from a DataFrame.\n",
      "Try using .loc[row_indexer,col_indexer] = value instead\n",
      "\n",
      "See the caveats in the documentation: http://pandas.pydata.org/pandas-docs/stable/indexing.html#indexing-view-versus-copy\n",
      "/Users/Drewpearson/anaconda3/lib/python3.6/site-packages/ipykernel_launcher.py:19: SettingWithCopyWarning: \n",
      "A value is trying to be set on a copy of a slice from a DataFrame.\n",
      "Try using .loc[row_indexer,col_indexer] = value instead\n",
      "\n",
      "See the caveats in the documentation: http://pandas.pydata.org/pandas-docs/stable/indexing.html#indexing-view-versus-copy\n",
      "/Users/Drewpearson/anaconda3/lib/python3.6/site-packages/ipykernel_launcher.py:19: SettingWithCopyWarning: \n",
      "A value is trying to be set on a copy of a slice from a DataFrame.\n",
      "Try using .loc[row_indexer,col_indexer] = value instead\n",
      "\n",
      "See the caveats in the documentation: http://pandas.pydata.org/pandas-docs/stable/indexing.html#indexing-view-versus-copy\n"
     ]
    },
    {
     "name": "stdout",
     "output_type": "stream",
     "text": [
      "0.26666666666666666\n",
      "0.26666666666666666\n",
      "0.26666666666666666\n",
      "0.2845528455284553\n",
      "0.375\n",
      "0.425531914893617\n",
      "0.4411764705882353\n",
      "0.4642857142857143\n",
      "0.7058823529411765\n",
      "0.75\n",
      "0.7857142857142857\n",
      "0.8181818181818182\n"
     ]
    },
    {
     "name": "stderr",
     "output_type": "stream",
     "text": [
      "/Users/Drewpearson/anaconda3/lib/python3.6/site-packages/ipykernel_launcher.py:47: SettingWithCopyWarning: \n",
      "A value is trying to be set on a copy of a slice from a DataFrame.\n",
      "Try using .loc[row_indexer,col_indexer] = value instead\n",
      "\n",
      "See the caveats in the documentation: http://pandas.pydata.org/pandas-docs/stable/indexing.html#indexing-view-versus-copy\n",
      "/Users/Drewpearson/anaconda3/lib/python3.6/site-packages/matplotlib/figure.py:98: MatplotlibDeprecationWarning: \n",
      "Adding an axes using the same arguments as a previous axes currently reuses the earlier instance.  In a future version, a new instance will always be created and returned.  Meanwhile, this warning can be suppressed, and the future behavior ensured, by passing a unique label to each axes instance.\n",
      "  \"Adding an axes using the same arguments as a previous axes \"\n"
     ]
    },
    {
     "name": "stdout",
     "output_type": "stream",
     "text": [
      "False\n",
      "SFIX\n"
     ]
    },
    {
     "data": {
      "application/vnd.jupyter.widget-view+json": {
       "model_id": "",
       "version_major": 2,
       "version_minor": 0
      },
      "text/plain": [
       "HBox(children=(IntProgress(value=0, description='Optimization Progress', max=60, style=ProgressStyle(descripti…"
      ]
     },
     "metadata": {},
     "output_type": "display_data"
    },
    {
     "name": "stdout",
     "output_type": "stream",
     "text": [
      "Generation 1 - Current best internal CV score: 0.7328071379547015\n",
      "Generation 2 - Current best internal CV score: 0.7328071379547015\n",
      "Generation 3 - Current best internal CV score: 0.7328071379547015\n",
      "Generation 4 - Current best internal CV score: 0.7328071379547015\n",
      "Generation 5 - Current best internal CV score: 0.7328071379547015\n",
      "\n",
      "Best pipeline: RandomForestClassifier(input_matrix, bootstrap=False, criterion=entropy, max_features=0.1, min_samples_leaf=6, min_samples_split=8, n_estimators=100)\n"
     ]
    },
    {
     "name": "stderr",
     "output_type": "stream",
     "text": [
      "/Users/Drewpearson/anaconda3/lib/python3.6/site-packages/ipykernel_launcher.py:19: SettingWithCopyWarning: \n",
      "A value is trying to be set on a copy of a slice from a DataFrame.\n",
      "Try using .loc[row_indexer,col_indexer] = value instead\n",
      "\n",
      "See the caveats in the documentation: http://pandas.pydata.org/pandas-docs/stable/indexing.html#indexing-view-versus-copy\n",
      "/Users/Drewpearson/anaconda3/lib/python3.6/site-packages/ipykernel_launcher.py:19: SettingWithCopyWarning: \n",
      "A value is trying to be set on a copy of a slice from a DataFrame.\n",
      "Try using .loc[row_indexer,col_indexer] = value instead\n",
      "\n",
      "See the caveats in the documentation: http://pandas.pydata.org/pandas-docs/stable/indexing.html#indexing-view-versus-copy\n",
      "/Users/Drewpearson/anaconda3/lib/python3.6/site-packages/ipykernel_launcher.py:19: SettingWithCopyWarning: \n",
      "A value is trying to be set on a copy of a slice from a DataFrame.\n",
      "Try using .loc[row_indexer,col_indexer] = value instead\n",
      "\n",
      "See the caveats in the documentation: http://pandas.pydata.org/pandas-docs/stable/indexing.html#indexing-view-versus-copy\n",
      "/Users/Drewpearson/anaconda3/lib/python3.6/site-packages/ipykernel_launcher.py:19: SettingWithCopyWarning: \n",
      "A value is trying to be set on a copy of a slice from a DataFrame.\n",
      "Try using .loc[row_indexer,col_indexer] = value instead\n",
      "\n",
      "See the caveats in the documentation: http://pandas.pydata.org/pandas-docs/stable/indexing.html#indexing-view-versus-copy\n",
      "/Users/Drewpearson/anaconda3/lib/python3.6/site-packages/ipykernel_launcher.py:19: SettingWithCopyWarning: \n",
      "A value is trying to be set on a copy of a slice from a DataFrame.\n",
      "Try using .loc[row_indexer,col_indexer] = value instead\n",
      "\n",
      "See the caveats in the documentation: http://pandas.pydata.org/pandas-docs/stable/indexing.html#indexing-view-versus-copy\n"
     ]
    },
    {
     "name": "stdout",
     "output_type": "stream",
     "text": [
      "0.3755656108597285\n",
      "0.39598997493734334\n",
      "0.4383954154727794\n",
      "0.4869281045751634\n",
      "0.5129151291512916\n",
      "0.5518672199170125\n",
      "0.5943396226415094\n",
      "0.6182795698924731\n",
      "0.6607142857142857\n",
      "0.6762589928057554\n",
      "0.6942148760330579\n",
      "0.7272727272727273\n",
      "0.7682926829268293\n",
      "0.8125\n",
      "0.8076923076923077\n",
      "0.7857142857142857\n",
      "0.7931034482758621\n",
      "0.6\n"
     ]
    },
    {
     "name": "stderr",
     "output_type": "stream",
     "text": [
      "/Users/Drewpearson/anaconda3/lib/python3.6/site-packages/ipykernel_launcher.py:47: SettingWithCopyWarning: \n",
      "A value is trying to be set on a copy of a slice from a DataFrame.\n",
      "Try using .loc[row_indexer,col_indexer] = value instead\n",
      "\n",
      "See the caveats in the documentation: http://pandas.pydata.org/pandas-docs/stable/indexing.html#indexing-view-versus-copy\n",
      "/Users/Drewpearson/anaconda3/lib/python3.6/site-packages/matplotlib/figure.py:98: MatplotlibDeprecationWarning: \n",
      "Adding an axes using the same arguments as a previous axes currently reuses the earlier instance.  In a future version, a new instance will always be created and returned.  Meanwhile, this warning can be suppressed, and the future behavior ensured, by passing a unique label to each axes instance.\n",
      "  \"Adding an axes using the same arguments as a previous axes \"\n"
     ]
    },
    {
     "name": "stdout",
     "output_type": "stream",
     "text": [
      "False\n",
      "AMD\n"
     ]
    },
    {
     "data": {
      "application/vnd.jupyter.widget-view+json": {
       "model_id": "",
       "version_major": 2,
       "version_minor": 0
      },
      "text/plain": [
       "HBox(children=(IntProgress(value=0, description='Optimization Progress', max=60, style=ProgressStyle(descripti…"
      ]
     },
     "metadata": {},
     "output_type": "display_data"
    },
    {
     "name": "stdout",
     "output_type": "stream",
     "text": [
      "Generation 1 - Current best internal CV score: 0.7314139201965707\n",
      "Generation 2 - Current best internal CV score: 0.7314139201965707\n",
      "Generation 3 - Current best internal CV score: 0.7314139201965707\n",
      "Generation 4 - Current best internal CV score: 0.7314246033865712\n",
      "Generation 5 - Current best internal CV score: 0.7314246033865712\n",
      "\n",
      "Best pipeline: ExtraTreesClassifier(OneHotEncoder(input_matrix, minimum_fraction=0.2, sparse=False, threshold=10), bootstrap=True, criterion=entropy, max_features=0.35000000000000003, min_samples_leaf=1, min_samples_split=7, n_estimators=100)\n"
     ]
    },
    {
     "name": "stderr",
     "output_type": "stream",
     "text": [
      "/Users/Drewpearson/anaconda3/lib/python3.6/site-packages/ipykernel_launcher.py:19: SettingWithCopyWarning: \n",
      "A value is trying to be set on a copy of a slice from a DataFrame.\n",
      "Try using .loc[row_indexer,col_indexer] = value instead\n",
      "\n",
      "See the caveats in the documentation: http://pandas.pydata.org/pandas-docs/stable/indexing.html#indexing-view-versus-copy\n",
      "/Users/Drewpearson/anaconda3/lib/python3.6/site-packages/ipykernel_launcher.py:19: SettingWithCopyWarning: \n",
      "A value is trying to be set on a copy of a slice from a DataFrame.\n",
      "Try using .loc[row_indexer,col_indexer] = value instead\n",
      "\n",
      "See the caveats in the documentation: http://pandas.pydata.org/pandas-docs/stable/indexing.html#indexing-view-versus-copy\n",
      "/Users/Drewpearson/anaconda3/lib/python3.6/site-packages/ipykernel_launcher.py:19: SettingWithCopyWarning: \n",
      "A value is trying to be set on a copy of a slice from a DataFrame.\n",
      "Try using .loc[row_indexer,col_indexer] = value instead\n",
      "\n",
      "See the caveats in the documentation: http://pandas.pydata.org/pandas-docs/stable/indexing.html#indexing-view-versus-copy\n",
      "/Users/Drewpearson/anaconda3/lib/python3.6/site-packages/ipykernel_launcher.py:19: SettingWithCopyWarning: \n",
      "A value is trying to be set on a copy of a slice from a DataFrame.\n",
      "Try using .loc[row_indexer,col_indexer] = value instead\n",
      "\n",
      "See the caveats in the documentation: http://pandas.pydata.org/pandas-docs/stable/indexing.html#indexing-view-versus-copy\n",
      "/Users/Drewpearson/anaconda3/lib/python3.6/site-packages/ipykernel_launcher.py:19: SettingWithCopyWarning: \n",
      "A value is trying to be set on a copy of a slice from a DataFrame.\n",
      "Try using .loc[row_indexer,col_indexer] = value instead\n",
      "\n",
      "See the caveats in the documentation: http://pandas.pydata.org/pandas-docs/stable/indexing.html#indexing-view-versus-copy\n"
     ]
    },
    {
     "name": "stdout",
     "output_type": "stream",
     "text": [
      "0.30119176598049835\n",
      "0.33374844333748444\n",
      "0.3551673944687045\n",
      "0.3815126050420168\n",
      "0.3967611336032389\n",
      "0.4282238442822384\n",
      "0.4518950437317784\n",
      "0.48161764705882354\n",
      "0.4975609756097561\n",
      "0.5490196078431373\n",
      "0.5789473684210527\n",
      "0.6395348837209303\n",
      "0.631578947368421\n",
      "0.6410256410256411\n",
      "0.72\n",
      "0.8\n"
     ]
    },
    {
     "name": "stderr",
     "output_type": "stream",
     "text": [
      "/Users/Drewpearson/anaconda3/lib/python3.6/site-packages/ipykernel_launcher.py:47: SettingWithCopyWarning: \n",
      "A value is trying to be set on a copy of a slice from a DataFrame.\n",
      "Try using .loc[row_indexer,col_indexer] = value instead\n",
      "\n",
      "See the caveats in the documentation: http://pandas.pydata.org/pandas-docs/stable/indexing.html#indexing-view-versus-copy\n",
      "/Users/Drewpearson/anaconda3/lib/python3.6/site-packages/matplotlib/figure.py:98: MatplotlibDeprecationWarning: \n",
      "Adding an axes using the same arguments as a previous axes currently reuses the earlier instance.  In a future version, a new instance will always be created and returned.  Meanwhile, this warning can be suppressed, and the future behavior ensured, by passing a unique label to each axes instance.\n",
      "  \"Adding an axes using the same arguments as a previous axes \"\n"
     ]
    },
    {
     "name": "stdout",
     "output_type": "stream",
     "text": [
      "False\n",
      "CSTM\n"
     ]
    },
    {
     "data": {
      "application/vnd.jupyter.widget-view+json": {
       "model_id": "",
       "version_major": 2,
       "version_minor": 0
      },
      "text/plain": [
       "HBox(children=(IntProgress(value=0, description='Optimization Progress', max=60, style=ProgressStyle(descripti…"
      ]
     },
     "metadata": {},
     "output_type": "display_data"
    },
    {
     "name": "stdout",
     "output_type": "stream",
     "text": [
      "Generation 1 - Current best internal CV score: 0.7480019010599642\n",
      "Generation 2 - Current best internal CV score: 0.7480019010599642\n",
      "Generation 3 - Current best internal CV score: 0.7480019010599642\n",
      "Generation 4 - Current best internal CV score: 0.7500905194906584\n",
      "Generation 5 - Current best internal CV score: 0.7562706901203777\n",
      "\n",
      "Best pipeline: ExtraTreesClassifier(input_matrix, bootstrap=False, criterion=gini, max_features=0.35000000000000003, min_samples_leaf=4, min_samples_split=19, n_estimators=100)\n"
     ]
    },
    {
     "name": "stderr",
     "output_type": "stream",
     "text": [
      "/Users/Drewpearson/anaconda3/lib/python3.6/site-packages/ipykernel_launcher.py:19: SettingWithCopyWarning: \n",
      "A value is trying to be set on a copy of a slice from a DataFrame.\n",
      "Try using .loc[row_indexer,col_indexer] = value instead\n",
      "\n",
      "See the caveats in the documentation: http://pandas.pydata.org/pandas-docs/stable/indexing.html#indexing-view-versus-copy\n",
      "/Users/Drewpearson/anaconda3/lib/python3.6/site-packages/ipykernel_launcher.py:19: SettingWithCopyWarning: \n",
      "A value is trying to be set on a copy of a slice from a DataFrame.\n",
      "Try using .loc[row_indexer,col_indexer] = value instead\n",
      "\n",
      "See the caveats in the documentation: http://pandas.pydata.org/pandas-docs/stable/indexing.html#indexing-view-versus-copy\n",
      "/Users/Drewpearson/anaconda3/lib/python3.6/site-packages/ipykernel_launcher.py:19: SettingWithCopyWarning: \n",
      "A value is trying to be set on a copy of a slice from a DataFrame.\n",
      "Try using .loc[row_indexer,col_indexer] = value instead\n",
      "\n",
      "See the caveats in the documentation: http://pandas.pydata.org/pandas-docs/stable/indexing.html#indexing-view-versus-copy\n",
      "/Users/Drewpearson/anaconda3/lib/python3.6/site-packages/ipykernel_launcher.py:19: SettingWithCopyWarning: \n",
      "A value is trying to be set on a copy of a slice from a DataFrame.\n",
      "Try using .loc[row_indexer,col_indexer] = value instead\n",
      "\n",
      "See the caveats in the documentation: http://pandas.pydata.org/pandas-docs/stable/indexing.html#indexing-view-versus-copy\n",
      "/Users/Drewpearson/anaconda3/lib/python3.6/site-packages/ipykernel_launcher.py:19: SettingWithCopyWarning: \n",
      "A value is trying to be set on a copy of a slice from a DataFrame.\n",
      "Try using .loc[row_indexer,col_indexer] = value instead\n",
      "\n",
      "See the caveats in the documentation: http://pandas.pydata.org/pandas-docs/stable/indexing.html#indexing-view-versus-copy\n"
     ]
    },
    {
     "name": "stdout",
     "output_type": "stream",
     "text": [
      "0.32432432432432434\n",
      "0.3475533249686324\n",
      "0.37965616045845274\n",
      "0.4161073825503356\n",
      "0.44901960784313727\n",
      "0.47126436781609193\n",
      "0.5056179775280899\n",
      "0.5536332179930796\n",
      "0.6088888888888889\n",
      "0.6265060240963856\n",
      "0.6638655462184874\n",
      "0.7241379310344828\n",
      "0.7910447761194029\n",
      "0.7857142857142857\n",
      "0.8571428571428571\n"
     ]
    },
    {
     "name": "stderr",
     "output_type": "stream",
     "text": [
      "/Users/Drewpearson/anaconda3/lib/python3.6/site-packages/ipykernel_launcher.py:47: SettingWithCopyWarning: \n",
      "A value is trying to be set on a copy of a slice from a DataFrame.\n",
      "Try using .loc[row_indexer,col_indexer] = value instead\n",
      "\n",
      "See the caveats in the documentation: http://pandas.pydata.org/pandas-docs/stable/indexing.html#indexing-view-versus-copy\n",
      "/Users/Drewpearson/anaconda3/lib/python3.6/site-packages/matplotlib/figure.py:98: MatplotlibDeprecationWarning: \n",
      "Adding an axes using the same arguments as a previous axes currently reuses the earlier instance.  In a future version, a new instance will always be created and returned.  Meanwhile, this warning can be suppressed, and the future behavior ensured, by passing a unique label to each axes instance.\n",
      "  \"Adding an axes using the same arguments as a previous axes \"\n"
     ]
    },
    {
     "name": "stdout",
     "output_type": "stream",
     "text": [
      "False\n",
      "WFC\n"
     ]
    },
    {
     "data": {
      "application/vnd.jupyter.widget-view+json": {
       "model_id": "",
       "version_major": 2,
       "version_minor": 0
      },
      "text/plain": [
       "HBox(children=(IntProgress(value=0, description='Optimization Progress', max=60, style=ProgressStyle(descripti…"
      ]
     },
     "metadata": {},
     "output_type": "display_data"
    },
    {
     "name": "stdout",
     "output_type": "stream",
     "text": [
      "Generation 1 - Current best internal CV score: 0.9731474732201189\n",
      "Generation 2 - Current best internal CV score: 0.9731474732201189\n",
      "Generation 3 - Current best internal CV score: 0.9731474732201189\n",
      "Generation 4 - Current best internal CV score: 0.9731474732201189\n",
      "Generation 5 - Current best internal CV score: 0.9731474732201189\n",
      "\n",
      "Best pipeline: KNeighborsClassifier(input_matrix, n_neighbors=95, p=2, weights=uniform)\n"
     ]
    },
    {
     "name": "stderr",
     "output_type": "stream",
     "text": [
      "/Users/Drewpearson/anaconda3/lib/python3.6/site-packages/ipykernel_launcher.py:19: SettingWithCopyWarning: \n",
      "A value is trying to be set on a copy of a slice from a DataFrame.\n",
      "Try using .loc[row_indexer,col_indexer] = value instead\n",
      "\n",
      "See the caveats in the documentation: http://pandas.pydata.org/pandas-docs/stable/indexing.html#indexing-view-versus-copy\n",
      "/Users/Drewpearson/anaconda3/lib/python3.6/site-packages/ipykernel_launcher.py:19: SettingWithCopyWarning: \n",
      "A value is trying to be set on a copy of a slice from a DataFrame.\n",
      "Try using .loc[row_indexer,col_indexer] = value instead\n",
      "\n",
      "See the caveats in the documentation: http://pandas.pydata.org/pandas-docs/stable/indexing.html#indexing-view-versus-copy\n",
      "/Users/Drewpearson/anaconda3/lib/python3.6/site-packages/ipykernel_launcher.py:19: SettingWithCopyWarning: \n",
      "A value is trying to be set on a copy of a slice from a DataFrame.\n",
      "Try using .loc[row_indexer,col_indexer] = value instead\n",
      "\n",
      "See the caveats in the documentation: http://pandas.pydata.org/pandas-docs/stable/indexing.html#indexing-view-versus-copy\n",
      "/Users/Drewpearson/anaconda3/lib/python3.6/site-packages/ipykernel_launcher.py:19: SettingWithCopyWarning: \n",
      "A value is trying to be set on a copy of a slice from a DataFrame.\n",
      "Try using .loc[row_indexer,col_indexer] = value instead\n",
      "\n",
      "See the caveats in the documentation: http://pandas.pydata.org/pandas-docs/stable/indexing.html#indexing-view-versus-copy\n",
      "/Users/Drewpearson/anaconda3/lib/python3.6/site-packages/ipykernel_launcher.py:19: SettingWithCopyWarning: \n",
      "A value is trying to be set on a copy of a slice from a DataFrame.\n",
      "Try using .loc[row_indexer,col_indexer] = value instead\n",
      "\n",
      "See the caveats in the documentation: http://pandas.pydata.org/pandas-docs/stable/indexing.html#indexing-view-versus-copy\n",
      "/Users/Drewpearson/anaconda3/lib/python3.6/site-packages/ipykernel_launcher.py:47: SettingWithCopyWarning: \n",
      "A value is trying to be set on a copy of a slice from a DataFrame.\n",
      "Try using .loc[row_indexer,col_indexer] = value instead\n",
      "\n",
      "See the caveats in the documentation: http://pandas.pydata.org/pandas-docs/stable/indexing.html#indexing-view-versus-copy\n"
     ]
    },
    {
     "name": "stdout",
     "output_type": "stream",
     "text": [
      "0.3157894736842105\n",
      "0.38461538461538464\n"
     ]
    },
    {
     "name": "stderr",
     "output_type": "stream",
     "text": [
      "/Users/Drewpearson/anaconda3/lib/python3.6/site-packages/matplotlib/figure.py:98: MatplotlibDeprecationWarning: \n",
      "Adding an axes using the same arguments as a previous axes currently reuses the earlier instance.  In a future version, a new instance will always be created and returned.  Meanwhile, this warning can be suppressed, and the future behavior ensured, by passing a unique label to each axes instance.\n",
      "  \"Adding an axes using the same arguments as a previous axes \"\n"
     ]
    },
    {
     "name": "stdout",
     "output_type": "stream",
     "text": [
      "False\n",
      "T\n"
     ]
    },
    {
     "data": {
      "application/vnd.jupyter.widget-view+json": {
       "model_id": "",
       "version_major": 2,
       "version_minor": 0
      },
      "text/plain": [
       "HBox(children=(IntProgress(value=0, description='Optimization Progress', max=60, style=ProgressStyle(descripti…"
      ]
     },
     "metadata": {},
     "output_type": "display_data"
    },
    {
     "name": "stdout",
     "output_type": "stream",
     "text": [
      "Generation 1 - Current best internal CV score: 0.9834782275218149\n",
      "Generation 2 - Current best internal CV score: 0.9834782275218149\n",
      "Generation 3 - Current best internal CV score: 0.9834782275218149\n",
      "Generation 4 - Current best internal CV score: 0.9834782275218149\n",
      "Generation 5 - Current best internal CV score: 0.9845144969518668\n",
      "\n",
      "Best pipeline: RandomForestClassifier(input_matrix, bootstrap=True, criterion=entropy, max_features=0.6500000000000001, min_samples_leaf=2, min_samples_split=18, n_estimators=100)\n"
     ]
    },
    {
     "name": "stderr",
     "output_type": "stream",
     "text": [
      "/Users/Drewpearson/anaconda3/lib/python3.6/site-packages/ipykernel_launcher.py:19: SettingWithCopyWarning: \n",
      "A value is trying to be set on a copy of a slice from a DataFrame.\n",
      "Try using .loc[row_indexer,col_indexer] = value instead\n",
      "\n",
      "See the caveats in the documentation: http://pandas.pydata.org/pandas-docs/stable/indexing.html#indexing-view-versus-copy\n",
      "/Users/Drewpearson/anaconda3/lib/python3.6/site-packages/ipykernel_launcher.py:19: SettingWithCopyWarning: \n",
      "A value is trying to be set on a copy of a slice from a DataFrame.\n",
      "Try using .loc[row_indexer,col_indexer] = value instead\n",
      "\n",
      "See the caveats in the documentation: http://pandas.pydata.org/pandas-docs/stable/indexing.html#indexing-view-versus-copy\n",
      "/Users/Drewpearson/anaconda3/lib/python3.6/site-packages/ipykernel_launcher.py:19: SettingWithCopyWarning: \n",
      "A value is trying to be set on a copy of a slice from a DataFrame.\n",
      "Try using .loc[row_indexer,col_indexer] = value instead\n",
      "\n",
      "See the caveats in the documentation: http://pandas.pydata.org/pandas-docs/stable/indexing.html#indexing-view-versus-copy\n",
      "/Users/Drewpearson/anaconda3/lib/python3.6/site-packages/ipykernel_launcher.py:19: SettingWithCopyWarning: \n",
      "A value is trying to be set on a copy of a slice from a DataFrame.\n",
      "Try using .loc[row_indexer,col_indexer] = value instead\n",
      "\n",
      "See the caveats in the documentation: http://pandas.pydata.org/pandas-docs/stable/indexing.html#indexing-view-versus-copy\n",
      "/Users/Drewpearson/anaconda3/lib/python3.6/site-packages/ipykernel_launcher.py:19: SettingWithCopyWarning: \n",
      "A value is trying to be set on a copy of a slice from a DataFrame.\n",
      "Try using .loc[row_indexer,col_indexer] = value instead\n",
      "\n",
      "See the caveats in the documentation: http://pandas.pydata.org/pandas-docs/stable/indexing.html#indexing-view-versus-copy\n"
     ]
    },
    {
     "name": "stdout",
     "output_type": "stream",
     "text": [
      "0.11627906976744186\n",
      "0.13793103448275862\n",
      "0.1891891891891892\n",
      "0.17857142857142858\n",
      "0.25\n",
      "0.2727272727272727\n"
     ]
    },
    {
     "name": "stderr",
     "output_type": "stream",
     "text": [
      "/Users/Drewpearson/anaconda3/lib/python3.6/site-packages/ipykernel_launcher.py:47: SettingWithCopyWarning: \n",
      "A value is trying to be set on a copy of a slice from a DataFrame.\n",
      "Try using .loc[row_indexer,col_indexer] = value instead\n",
      "\n",
      "See the caveats in the documentation: http://pandas.pydata.org/pandas-docs/stable/indexing.html#indexing-view-versus-copy\n",
      "/Users/Drewpearson/anaconda3/lib/python3.6/site-packages/matplotlib/figure.py:98: MatplotlibDeprecationWarning: \n",
      "Adding an axes using the same arguments as a previous axes currently reuses the earlier instance.  In a future version, a new instance will always be created and returned.  Meanwhile, this warning can be suppressed, and the future behavior ensured, by passing a unique label to each axes instance.\n",
      "  \"Adding an axes using the same arguments as a previous axes \"\n"
     ]
    },
    {
     "name": "stdout",
     "output_type": "stream",
     "text": [
      "False\n",
      "NCLH\n"
     ]
    },
    {
     "data": {
      "application/vnd.jupyter.widget-view+json": {
       "model_id": "",
       "version_major": 2,
       "version_minor": 0
      },
      "text/plain": [
       "HBox(children=(IntProgress(value=0, description='Optimization Progress', max=60, style=ProgressStyle(descripti…"
      ]
     },
     "metadata": {},
     "output_type": "display_data"
    },
    {
     "name": "stdout",
     "output_type": "stream",
     "text": [
      "Generation 1 - Current best internal CV score: 0.9307729287965385\n",
      "Generation 2 - Current best internal CV score: 0.9307729287965385\n",
      "Generation 3 - Current best internal CV score: 0.9307729287965385\n",
      "Generation 4 - Current best internal CV score: 0.9317985150365897\n",
      "Generation 5 - Current best internal CV score: 0.9328347844666416\n",
      "\n",
      "Best pipeline: KNeighborsClassifier(RFE(input_matrix, criterion=entropy, max_features=0.35000000000000003, n_estimators=100, step=0.6500000000000001), n_neighbors=22, p=1, weights=distance)\n"
     ]
    },
    {
     "name": "stderr",
     "output_type": "stream",
     "text": [
      "/Users/Drewpearson/anaconda3/lib/python3.6/site-packages/ipykernel_launcher.py:19: SettingWithCopyWarning: \n",
      "A value is trying to be set on a copy of a slice from a DataFrame.\n",
      "Try using .loc[row_indexer,col_indexer] = value instead\n",
      "\n",
      "See the caveats in the documentation: http://pandas.pydata.org/pandas-docs/stable/indexing.html#indexing-view-versus-copy\n",
      "/Users/Drewpearson/anaconda3/lib/python3.6/site-packages/ipykernel_launcher.py:19: SettingWithCopyWarning: \n",
      "A value is trying to be set on a copy of a slice from a DataFrame.\n",
      "Try using .loc[row_indexer,col_indexer] = value instead\n",
      "\n",
      "See the caveats in the documentation: http://pandas.pydata.org/pandas-docs/stable/indexing.html#indexing-view-versus-copy\n",
      "/Users/Drewpearson/anaconda3/lib/python3.6/site-packages/ipykernel_launcher.py:19: SettingWithCopyWarning: \n",
      "A value is trying to be set on a copy of a slice from a DataFrame.\n",
      "Try using .loc[row_indexer,col_indexer] = value instead\n",
      "\n",
      "See the caveats in the documentation: http://pandas.pydata.org/pandas-docs/stable/indexing.html#indexing-view-versus-copy\n",
      "/Users/Drewpearson/anaconda3/lib/python3.6/site-packages/ipykernel_launcher.py:19: SettingWithCopyWarning: \n",
      "A value is trying to be set on a copy of a slice from a DataFrame.\n",
      "Try using .loc[row_indexer,col_indexer] = value instead\n",
      "\n",
      "See the caveats in the documentation: http://pandas.pydata.org/pandas-docs/stable/indexing.html#indexing-view-versus-copy\n",
      "/Users/Drewpearson/anaconda3/lib/python3.6/site-packages/ipykernel_launcher.py:19: SettingWithCopyWarning: \n",
      "A value is trying to be set on a copy of a slice from a DataFrame.\n",
      "Try using .loc[row_indexer,col_indexer] = value instead\n",
      "\n",
      "See the caveats in the documentation: http://pandas.pydata.org/pandas-docs/stable/indexing.html#indexing-view-versus-copy\n",
      "/Users/Drewpearson/anaconda3/lib/python3.6/site-packages/ipykernel_launcher.py:47: SettingWithCopyWarning: \n",
      "A value is trying to be set on a copy of a slice from a DataFrame.\n",
      "Try using .loc[row_indexer,col_indexer] = value instead\n",
      "\n",
      "See the caveats in the documentation: http://pandas.pydata.org/pandas-docs/stable/indexing.html#indexing-view-versus-copy\n"
     ]
    },
    {
     "name": "stdout",
     "output_type": "stream",
     "text": [
      "0.1842818428184282\n",
      "0.27510917030567683\n",
      "0.42424242424242425\n",
      "0.5\n",
      "0.5238095238095238\n",
      "0.5714285714285714\n",
      "0.6190476190476191\n",
      "0.6666666666666666\n",
      "0.6875\n",
      "0.7142857142857143\n",
      "0.717948717948718\n",
      "0.6944444444444444\n",
      "0.7096774193548387\n",
      "0.65\n",
      "0.6363636363636364\n"
     ]
    },
    {
     "name": "stderr",
     "output_type": "stream",
     "text": [
      "/Users/Drewpearson/anaconda3/lib/python3.6/site-packages/matplotlib/figure.py:98: MatplotlibDeprecationWarning: \n",
      "Adding an axes using the same arguments as a previous axes currently reuses the earlier instance.  In a future version, a new instance will always be created and returned.  Meanwhile, this warning can be suppressed, and the future behavior ensured, by passing a unique label to each axes instance.\n",
      "  \"Adding an axes using the same arguments as a previous axes \"\n"
     ]
    },
    {
     "name": "stdout",
     "output_type": "stream",
     "text": [
      "False\n",
      "INTC\n"
     ]
    },
    {
     "data": {
      "application/vnd.jupyter.widget-view+json": {
       "model_id": "",
       "version_major": 2,
       "version_minor": 0
      },
      "text/plain": [
       "HBox(children=(IntProgress(value=0, description='Optimization Progress', max=60, style=ProgressStyle(descripti…"
      ]
     },
     "metadata": {},
     "output_type": "display_data"
    },
    {
     "name": "stdout",
     "output_type": "stream",
     "text": [
      "Generation 1 - Current best internal CV score: 0.9607499599380376\n",
      "Generation 2 - Current best internal CV score: 0.9607499599380376\n",
      "Generation 3 - Current best internal CV score: 0.9607499599380376\n",
      "Generation 4 - Current best internal CV score: 0.9607499599380376\n",
      "Generation 5 - Current best internal CV score: 0.9607499599380376\n",
      "\n",
      "Best pipeline: RandomForestClassifier(input_matrix, bootstrap=True, criterion=entropy, max_features=0.2, min_samples_leaf=15, min_samples_split=8, n_estimators=100)\n"
     ]
    },
    {
     "name": "stderr",
     "output_type": "stream",
     "text": [
      "/Users/Drewpearson/anaconda3/lib/python3.6/site-packages/ipykernel_launcher.py:19: SettingWithCopyWarning: \n",
      "A value is trying to be set on a copy of a slice from a DataFrame.\n",
      "Try using .loc[row_indexer,col_indexer] = value instead\n",
      "\n",
      "See the caveats in the documentation: http://pandas.pydata.org/pandas-docs/stable/indexing.html#indexing-view-versus-copy\n",
      "/Users/Drewpearson/anaconda3/lib/python3.6/site-packages/ipykernel_launcher.py:19: SettingWithCopyWarning: \n",
      "A value is trying to be set on a copy of a slice from a DataFrame.\n",
      "Try using .loc[row_indexer,col_indexer] = value instead\n",
      "\n",
      "See the caveats in the documentation: http://pandas.pydata.org/pandas-docs/stable/indexing.html#indexing-view-versus-copy\n",
      "/Users/Drewpearson/anaconda3/lib/python3.6/site-packages/ipykernel_launcher.py:19: SettingWithCopyWarning: \n",
      "A value is trying to be set on a copy of a slice from a DataFrame.\n",
      "Try using .loc[row_indexer,col_indexer] = value instead\n",
      "\n",
      "See the caveats in the documentation: http://pandas.pydata.org/pandas-docs/stable/indexing.html#indexing-view-versus-copy\n",
      "/Users/Drewpearson/anaconda3/lib/python3.6/site-packages/ipykernel_launcher.py:19: SettingWithCopyWarning: \n",
      "A value is trying to be set on a copy of a slice from a DataFrame.\n",
      "Try using .loc[row_indexer,col_indexer] = value instead\n",
      "\n",
      "See the caveats in the documentation: http://pandas.pydata.org/pandas-docs/stable/indexing.html#indexing-view-versus-copy\n",
      "/Users/Drewpearson/anaconda3/lib/python3.6/site-packages/ipykernel_launcher.py:19: SettingWithCopyWarning: \n",
      "A value is trying to be set on a copy of a slice from a DataFrame.\n",
      "Try using .loc[row_indexer,col_indexer] = value instead\n",
      "\n",
      "See the caveats in the documentation: http://pandas.pydata.org/pandas-docs/stable/indexing.html#indexing-view-versus-copy\n"
     ]
    },
    {
     "name": "stdout",
     "output_type": "stream",
     "text": [
      "0.12173913043478261\n",
      "0.1650485436893204\n",
      "0.23333333333333334\n",
      "0.24324324324324326\n",
      "0.2857142857142857\n",
      "0.29411764705882354\n"
     ]
    },
    {
     "name": "stderr",
     "output_type": "stream",
     "text": [
      "/Users/Drewpearson/anaconda3/lib/python3.6/site-packages/ipykernel_launcher.py:47: SettingWithCopyWarning: \n",
      "A value is trying to be set on a copy of a slice from a DataFrame.\n",
      "Try using .loc[row_indexer,col_indexer] = value instead\n",
      "\n",
      "See the caveats in the documentation: http://pandas.pydata.org/pandas-docs/stable/indexing.html#indexing-view-versus-copy\n",
      "/Users/Drewpearson/anaconda3/lib/python3.6/site-packages/matplotlib/figure.py:98: MatplotlibDeprecationWarning: \n",
      "Adding an axes using the same arguments as a previous axes currently reuses the earlier instance.  In a future version, a new instance will always be created and returned.  Meanwhile, this warning can be suppressed, and the future behavior ensured, by passing a unique label to each axes instance.\n",
      "  \"Adding an axes using the same arguments as a previous axes \"\n"
     ]
    },
    {
     "name": "stdout",
     "output_type": "stream",
     "text": [
      "False\n",
      "PTON\n"
     ]
    },
    {
     "data": {
      "application/vnd.jupyter.widget-view+json": {
       "model_id": "",
       "version_major": 2,
       "version_minor": 0
      },
      "text/plain": [
       "HBox(children=(IntProgress(value=0, description='Optimization Progress', max=60, style=ProgressStyle(descripti…"
      ]
     },
     "metadata": {},
     "output_type": "display_data"
    },
    {
     "name": "stdout",
     "output_type": "stream",
     "text": [
      "Generation 1 - Current best internal CV score: 0.6689473684210526\n",
      "Generation 2 - Current best internal CV score: 0.6689473684210526\n",
      "Generation 3 - Current best internal CV score: 0.6689473684210526\n",
      "Generation 4 - Current best internal CV score: 0.6878947368421053\n",
      "Generation 5 - Current best internal CV score: 0.6878947368421053\n",
      "\n",
      "Best pipeline: ExtraTreesClassifier(KNeighborsClassifier(input_matrix, n_neighbors=2, p=2, weights=distance), bootstrap=True, criterion=gini, max_features=0.4, min_samples_leaf=12, min_samples_split=4, n_estimators=100)\n"
     ]
    },
    {
     "name": "stderr",
     "output_type": "stream",
     "text": [
      "/Users/Drewpearson/anaconda3/lib/python3.6/site-packages/ipykernel_launcher.py:19: SettingWithCopyWarning: \n",
      "A value is trying to be set on a copy of a slice from a DataFrame.\n",
      "Try using .loc[row_indexer,col_indexer] = value instead\n",
      "\n",
      "See the caveats in the documentation: http://pandas.pydata.org/pandas-docs/stable/indexing.html#indexing-view-versus-copy\n",
      "/Users/Drewpearson/anaconda3/lib/python3.6/site-packages/ipykernel_launcher.py:19: SettingWithCopyWarning: \n",
      "A value is trying to be set on a copy of a slice from a DataFrame.\n",
      "Try using .loc[row_indexer,col_indexer] = value instead\n",
      "\n",
      "See the caveats in the documentation: http://pandas.pydata.org/pandas-docs/stable/indexing.html#indexing-view-versus-copy\n",
      "/Users/Drewpearson/anaconda3/lib/python3.6/site-packages/ipykernel_launcher.py:19: SettingWithCopyWarning: \n",
      "A value is trying to be set on a copy of a slice from a DataFrame.\n",
      "Try using .loc[row_indexer,col_indexer] = value instead\n",
      "\n",
      "See the caveats in the documentation: http://pandas.pydata.org/pandas-docs/stable/indexing.html#indexing-view-versus-copy\n",
      "/Users/Drewpearson/anaconda3/lib/python3.6/site-packages/ipykernel_launcher.py:19: SettingWithCopyWarning: \n",
      "A value is trying to be set on a copy of a slice from a DataFrame.\n",
      "Try using .loc[row_indexer,col_indexer] = value instead\n",
      "\n",
      "See the caveats in the documentation: http://pandas.pydata.org/pandas-docs/stable/indexing.html#indexing-view-versus-copy\n",
      "/Users/Drewpearson/anaconda3/lib/python3.6/site-packages/ipykernel_launcher.py:19: SettingWithCopyWarning: \n",
      "A value is trying to be set on a copy of a slice from a DataFrame.\n",
      "Try using .loc[row_indexer,col_indexer] = value instead\n",
      "\n",
      "See the caveats in the documentation: http://pandas.pydata.org/pandas-docs/stable/indexing.html#indexing-view-versus-copy\n"
     ]
    },
    {
     "name": "stdout",
     "output_type": "stream",
     "text": [
      "0.4842105263157895\n",
      "0.4842105263157895\n",
      "0.4842105263157895\n",
      "0.4842105263157895\n",
      "0.4842105263157895\n",
      "0.4942528735632184\n",
      "0.524390243902439\n",
      "0.5492957746478874\n",
      "0.5409836065573771\n",
      "0.4722222222222222\n",
      "0.48\n",
      "0.1\n"
     ]
    },
    {
     "name": "stderr",
     "output_type": "stream",
     "text": [
      "/Users/Drewpearson/anaconda3/lib/python3.6/site-packages/ipykernel_launcher.py:47: SettingWithCopyWarning: \n",
      "A value is trying to be set on a copy of a slice from a DataFrame.\n",
      "Try using .loc[row_indexer,col_indexer] = value instead\n",
      "\n",
      "See the caveats in the documentation: http://pandas.pydata.org/pandas-docs/stable/indexing.html#indexing-view-versus-copy\n",
      "/Users/Drewpearson/anaconda3/lib/python3.6/site-packages/matplotlib/figure.py:98: MatplotlibDeprecationWarning: \n",
      "Adding an axes using the same arguments as a previous axes currently reuses the earlier instance.  In a future version, a new instance will always be created and returned.  Meanwhile, this warning can be suppressed, and the future behavior ensured, by passing a unique label to each axes instance.\n",
      "  \"Adding an axes using the same arguments as a previous axes \"\n"
     ]
    },
    {
     "name": "stdout",
     "output_type": "stream",
     "text": [
      "False\n",
      "LUV\n"
     ]
    },
    {
     "data": {
      "application/vnd.jupyter.widget-view+json": {
       "model_id": "",
       "version_major": 2,
       "version_minor": 0
      },
      "text/plain": [
       "HBox(children=(IntProgress(value=0, description='Optimization Progress', max=60, style=ProgressStyle(descripti…"
      ]
     },
     "metadata": {},
     "output_type": "display_data"
    },
    {
     "name": "stdout",
     "output_type": "stream",
     "text": [
      "Generation 1 - Current best internal CV score: 0.9328508092516424\n",
      "Generation 2 - Current best internal CV score: 0.9328508092516424\n",
      "Generation 3 - Current best internal CV score: 0.9328561508466426\n",
      "Generation 4 - Current best internal CV score: 0.9328561508466426\n",
      "Generation 5 - Current best internal CV score: 0.9328561508466426\n",
      "\n",
      "Best pipeline: KNeighborsClassifier(input_matrix, n_neighbors=15, p=1, weights=distance)\n"
     ]
    },
    {
     "name": "stderr",
     "output_type": "stream",
     "text": [
      "/Users/Drewpearson/anaconda3/lib/python3.6/site-packages/ipykernel_launcher.py:19: SettingWithCopyWarning: \n",
      "A value is trying to be set on a copy of a slice from a DataFrame.\n",
      "Try using .loc[row_indexer,col_indexer] = value instead\n",
      "\n",
      "See the caveats in the documentation: http://pandas.pydata.org/pandas-docs/stable/indexing.html#indexing-view-versus-copy\n",
      "/Users/Drewpearson/anaconda3/lib/python3.6/site-packages/ipykernel_launcher.py:19: SettingWithCopyWarning: \n",
      "A value is trying to be set on a copy of a slice from a DataFrame.\n",
      "Try using .loc[row_indexer,col_indexer] = value instead\n",
      "\n",
      "See the caveats in the documentation: http://pandas.pydata.org/pandas-docs/stable/indexing.html#indexing-view-versus-copy\n",
      "/Users/Drewpearson/anaconda3/lib/python3.6/site-packages/ipykernel_launcher.py:19: SettingWithCopyWarning: \n",
      "A value is trying to be set on a copy of a slice from a DataFrame.\n",
      "Try using .loc[row_indexer,col_indexer] = value instead\n",
      "\n",
      "See the caveats in the documentation: http://pandas.pydata.org/pandas-docs/stable/indexing.html#indexing-view-versus-copy\n",
      "/Users/Drewpearson/anaconda3/lib/python3.6/site-packages/ipykernel_launcher.py:19: SettingWithCopyWarning: \n",
      "A value is trying to be set on a copy of a slice from a DataFrame.\n",
      "Try using .loc[row_indexer,col_indexer] = value instead\n",
      "\n",
      "See the caveats in the documentation: http://pandas.pydata.org/pandas-docs/stable/indexing.html#indexing-view-versus-copy\n",
      "/Users/Drewpearson/anaconda3/lib/python3.6/site-packages/ipykernel_launcher.py:19: SettingWithCopyWarning: \n",
      "A value is trying to be set on a copy of a slice from a DataFrame.\n",
      "Try using .loc[row_indexer,col_indexer] = value instead\n",
      "\n",
      "See the caveats in the documentation: http://pandas.pydata.org/pandas-docs/stable/indexing.html#indexing-view-versus-copy\n",
      "/Users/Drewpearson/anaconda3/lib/python3.6/site-packages/ipykernel_launcher.py:47: SettingWithCopyWarning: \n",
      "A value is trying to be set on a copy of a slice from a DataFrame.\n",
      "Try using .loc[row_indexer,col_indexer] = value instead\n",
      "\n",
      "See the caveats in the documentation: http://pandas.pydata.org/pandas-docs/stable/indexing.html#indexing-view-versus-copy\n"
     ]
    },
    {
     "name": "stdout",
     "output_type": "stream",
     "text": [
      "0.135678391959799\n",
      "0.19665271966527198\n",
      "0.2708333333333333\n",
      "0.3548387096774194\n",
      "0.3709677419354839\n",
      "0.3157894736842105\n",
      "0.09523809523809523\n"
     ]
    },
    {
     "name": "stderr",
     "output_type": "stream",
     "text": [
      "/Users/Drewpearson/anaconda3/lib/python3.6/site-packages/matplotlib/figure.py:98: MatplotlibDeprecationWarning: \n",
      "Adding an axes using the same arguments as a previous axes currently reuses the earlier instance.  In a future version, a new instance will always be created and returned.  Meanwhile, this warning can be suppressed, and the future behavior ensured, by passing a unique label to each axes instance.\n",
      "  \"Adding an axes using the same arguments as a previous axes \"\n"
     ]
    },
    {
     "name": "stdout",
     "output_type": "stream",
     "text": [
      "False\n",
      "UAA\n"
     ]
    },
    {
     "data": {
      "application/vnd.jupyter.widget-view+json": {
       "model_id": "",
       "version_major": 2,
       "version_minor": 0
      },
      "text/plain": [
       "HBox(children=(IntProgress(value=0, description='Optimization Progress', max=60, style=ProgressStyle(descripti…"
      ]
     },
     "metadata": {},
     "output_type": "display_data"
    },
    {
     "name": "stdout",
     "output_type": "stream",
     "text": [
      "Generation 1 - Current best internal CV score: 0.8656894329896907\n",
      "Generation 2 - Current best internal CV score: 0.8656894329896907\n",
      "Generation 3 - Current best internal CV score: 0.8656894329896907\n",
      "Generation 4 - Current best internal CV score: 0.8656894329896907\n",
      "Generation 5 - Current best internal CV score: 0.8656894329896907\n",
      "\n",
      "Best pipeline: GradientBoostingClassifier(CombineDFs(input_matrix, input_matrix), learning_rate=0.1, max_depth=8, max_features=0.6500000000000001, min_samples_leaf=2, min_samples_split=10, n_estimators=100, subsample=0.8)\n"
     ]
    },
    {
     "name": "stderr",
     "output_type": "stream",
     "text": [
      "/Users/Drewpearson/anaconda3/lib/python3.6/site-packages/ipykernel_launcher.py:19: SettingWithCopyWarning: \n",
      "A value is trying to be set on a copy of a slice from a DataFrame.\n",
      "Try using .loc[row_indexer,col_indexer] = value instead\n",
      "\n",
      "See the caveats in the documentation: http://pandas.pydata.org/pandas-docs/stable/indexing.html#indexing-view-versus-copy\n",
      "/Users/Drewpearson/anaconda3/lib/python3.6/site-packages/ipykernel_launcher.py:19: SettingWithCopyWarning: \n",
      "A value is trying to be set on a copy of a slice from a DataFrame.\n",
      "Try using .loc[row_indexer,col_indexer] = value instead\n",
      "\n",
      "See the caveats in the documentation: http://pandas.pydata.org/pandas-docs/stable/indexing.html#indexing-view-versus-copy\n",
      "/Users/Drewpearson/anaconda3/lib/python3.6/site-packages/ipykernel_launcher.py:19: SettingWithCopyWarning: \n",
      "A value is trying to be set on a copy of a slice from a DataFrame.\n",
      "Try using .loc[row_indexer,col_indexer] = value instead\n",
      "\n",
      "See the caveats in the documentation: http://pandas.pydata.org/pandas-docs/stable/indexing.html#indexing-view-versus-copy\n",
      "/Users/Drewpearson/anaconda3/lib/python3.6/site-packages/ipykernel_launcher.py:19: SettingWithCopyWarning: \n",
      "A value is trying to be set on a copy of a slice from a DataFrame.\n",
      "Try using .loc[row_indexer,col_indexer] = value instead\n",
      "\n",
      "See the caveats in the documentation: http://pandas.pydata.org/pandas-docs/stable/indexing.html#indexing-view-versus-copy\n",
      "/Users/Drewpearson/anaconda3/lib/python3.6/site-packages/ipykernel_launcher.py:19: SettingWithCopyWarning: \n",
      "A value is trying to be set on a copy of a slice from a DataFrame.\n",
      "Try using .loc[row_indexer,col_indexer] = value instead\n",
      "\n",
      "See the caveats in the documentation: http://pandas.pydata.org/pandas-docs/stable/indexing.html#indexing-view-versus-copy\n"
     ]
    },
    {
     "name": "stdout",
     "output_type": "stream",
     "text": [
      "0.2914572864321608\n",
      "0.3188405797101449\n",
      "0.3644859813084112\n",
      "0.4\n",
      "0.4\n",
      "0.42857142857142855\n",
      "0.43548387096774194\n",
      "0.4444444444444444\n",
      "0.4489795918367347\n",
      "0.5121951219512195\n",
      "0.5128205128205128\n",
      "0.48484848484848486\n",
      "0.4666666666666667\n",
      "0.5\n",
      "0.5454545454545454\n",
      "0.55\n",
      "0.5882352941176471\n",
      "0.6363636363636364\n"
     ]
    },
    {
     "name": "stderr",
     "output_type": "stream",
     "text": [
      "/Users/Drewpearson/anaconda3/lib/python3.6/site-packages/ipykernel_launcher.py:47: SettingWithCopyWarning: \n",
      "A value is trying to be set on a copy of a slice from a DataFrame.\n",
      "Try using .loc[row_indexer,col_indexer] = value instead\n",
      "\n",
      "See the caveats in the documentation: http://pandas.pydata.org/pandas-docs/stable/indexing.html#indexing-view-versus-copy\n",
      "/Users/Drewpearson/anaconda3/lib/python3.6/site-packages/matplotlib/figure.py:98: MatplotlibDeprecationWarning: \n",
      "Adding an axes using the same arguments as a previous axes currently reuses the earlier instance.  In a future version, a new instance will always be created and returned.  Meanwhile, this warning can be suppressed, and the future behavior ensured, by passing a unique label to each axes instance.\n",
      "  \"Adding an axes using the same arguments as a previous axes \"\n"
     ]
    },
    {
     "name": "stdout",
     "output_type": "stream",
     "text": [
      "False\n",
      "KAR\n"
     ]
    },
    {
     "data": {
      "application/vnd.jupyter.widget-view+json": {
       "model_id": "",
       "version_major": 2,
       "version_minor": 0
      },
      "text/plain": [
       "HBox(children=(IntProgress(value=0, description='Optimization Progress', max=60, style=ProgressStyle(descripti…"
      ]
     },
     "metadata": {},
     "output_type": "display_data"
    },
    {
     "name": "stdout",
     "output_type": "stream",
     "text": [
      "Generation 1 - Current best internal CV score: 0.9638427434431922\n",
      "Generation 2 - Current best internal CV score: 0.9638427434431922\n",
      "Generation 3 - Current best internal CV score: 0.9638427434431922\n",
      "Generation 4 - Current best internal CV score: 0.9638427434431922\n",
      "Generation 5 - Current best internal CV score: 0.9638427434431922\n",
      "\n",
      "Best pipeline: ExtraTreesClassifier(input_matrix, bootstrap=True, criterion=gini, max_features=0.35000000000000003, min_samples_leaf=10, min_samples_split=7, n_estimators=100)\n"
     ]
    },
    {
     "name": "stderr",
     "output_type": "stream",
     "text": [
      "/Users/Drewpearson/anaconda3/lib/python3.6/site-packages/ipykernel_launcher.py:19: SettingWithCopyWarning: \n",
      "A value is trying to be set on a copy of a slice from a DataFrame.\n",
      "Try using .loc[row_indexer,col_indexer] = value instead\n",
      "\n",
      "See the caveats in the documentation: http://pandas.pydata.org/pandas-docs/stable/indexing.html#indexing-view-versus-copy\n",
      "/Users/Drewpearson/anaconda3/lib/python3.6/site-packages/ipykernel_launcher.py:19: SettingWithCopyWarning: \n",
      "A value is trying to be set on a copy of a slice from a DataFrame.\n",
      "Try using .loc[row_indexer,col_indexer] = value instead\n",
      "\n",
      "See the caveats in the documentation: http://pandas.pydata.org/pandas-docs/stable/indexing.html#indexing-view-versus-copy\n",
      "/Users/Drewpearson/anaconda3/lib/python3.6/site-packages/ipykernel_launcher.py:19: SettingWithCopyWarning: \n",
      "A value is trying to be set on a copy of a slice from a DataFrame.\n",
      "Try using .loc[row_indexer,col_indexer] = value instead\n",
      "\n",
      "See the caveats in the documentation: http://pandas.pydata.org/pandas-docs/stable/indexing.html#indexing-view-versus-copy\n",
      "/Users/Drewpearson/anaconda3/lib/python3.6/site-packages/ipykernel_launcher.py:19: SettingWithCopyWarning: \n",
      "A value is trying to be set on a copy of a slice from a DataFrame.\n",
      "Try using .loc[row_indexer,col_indexer] = value instead\n",
      "\n",
      "See the caveats in the documentation: http://pandas.pydata.org/pandas-docs/stable/indexing.html#indexing-view-versus-copy\n",
      "/Users/Drewpearson/anaconda3/lib/python3.6/site-packages/ipykernel_launcher.py:19: SettingWithCopyWarning: \n",
      "A value is trying to be set on a copy of a slice from a DataFrame.\n",
      "Try using .loc[row_indexer,col_indexer] = value instead\n",
      "\n",
      "See the caveats in the documentation: http://pandas.pydata.org/pandas-docs/stable/indexing.html#indexing-view-versus-copy\n"
     ]
    },
    {
     "name": "stdout",
     "output_type": "stream",
     "text": [
      "0.09871244635193133\n",
      "0.13253012048192772\n",
      "0.25925925925925924\n",
      "0.35714285714285715\n"
     ]
    },
    {
     "name": "stderr",
     "output_type": "stream",
     "text": [
      "/Users/Drewpearson/anaconda3/lib/python3.6/site-packages/ipykernel_launcher.py:47: SettingWithCopyWarning: \n",
      "A value is trying to be set on a copy of a slice from a DataFrame.\n",
      "Try using .loc[row_indexer,col_indexer] = value instead\n",
      "\n",
      "See the caveats in the documentation: http://pandas.pydata.org/pandas-docs/stable/indexing.html#indexing-view-versus-copy\n",
      "/Users/Drewpearson/anaconda3/lib/python3.6/site-packages/matplotlib/figure.py:98: MatplotlibDeprecationWarning: \n",
      "Adding an axes using the same arguments as a previous axes currently reuses the earlier instance.  In a future version, a new instance will always be created and returned.  Meanwhile, this warning can be suppressed, and the future behavior ensured, by passing a unique label to each axes instance.\n",
      "  \"Adding an axes using the same arguments as a previous axes \"\n"
     ]
    },
    {
     "name": "stdout",
     "output_type": "stream",
     "text": [
      "False\n",
      "SYF\n"
     ]
    },
    {
     "data": {
      "application/vnd.jupyter.widget-view+json": {
       "model_id": "",
       "version_major": 2,
       "version_minor": 0
      },
      "text/plain": [
       "HBox(children=(IntProgress(value=0, description='Optimization Progress', max=60, style=ProgressStyle(descripti…"
      ]
     },
     "metadata": {},
     "output_type": "display_data"
    },
    {
     "name": "stdout",
     "output_type": "stream",
     "text": [
      "Generation 1 - Current best internal CV score: 0.9483569587628866\n",
      "Generation 2 - Current best internal CV score: 0.9483569587628866\n",
      "Generation 3 - Current best internal CV score: 0.9483569587628866\n",
      "Generation 4 - Current best internal CV score: 0.9483569587628866\n",
      "Generation 5 - Current best internal CV score: 0.9483569587628866\n",
      "\n",
      "Best pipeline: ExtraTreesClassifier(input_matrix, bootstrap=False, criterion=gini, max_features=0.1, min_samples_leaf=8, min_samples_split=7, n_estimators=100)\n"
     ]
    },
    {
     "name": "stderr",
     "output_type": "stream",
     "text": [
      "/Users/Drewpearson/anaconda3/lib/python3.6/site-packages/ipykernel_launcher.py:19: SettingWithCopyWarning: \n",
      "A value is trying to be set on a copy of a slice from a DataFrame.\n",
      "Try using .loc[row_indexer,col_indexer] = value instead\n",
      "\n",
      "See the caveats in the documentation: http://pandas.pydata.org/pandas-docs/stable/indexing.html#indexing-view-versus-copy\n",
      "/Users/Drewpearson/anaconda3/lib/python3.6/site-packages/ipykernel_launcher.py:19: SettingWithCopyWarning: \n",
      "A value is trying to be set on a copy of a slice from a DataFrame.\n",
      "Try using .loc[row_indexer,col_indexer] = value instead\n",
      "\n",
      "See the caveats in the documentation: http://pandas.pydata.org/pandas-docs/stable/indexing.html#indexing-view-versus-copy\n",
      "/Users/Drewpearson/anaconda3/lib/python3.6/site-packages/ipykernel_launcher.py:19: SettingWithCopyWarning: \n",
      "A value is trying to be set on a copy of a slice from a DataFrame.\n",
      "Try using .loc[row_indexer,col_indexer] = value instead\n",
      "\n",
      "See the caveats in the documentation: http://pandas.pydata.org/pandas-docs/stable/indexing.html#indexing-view-versus-copy\n",
      "/Users/Drewpearson/anaconda3/lib/python3.6/site-packages/ipykernel_launcher.py:19: SettingWithCopyWarning: \n",
      "A value is trying to be set on a copy of a slice from a DataFrame.\n",
      "Try using .loc[row_indexer,col_indexer] = value instead\n",
      "\n",
      "See the caveats in the documentation: http://pandas.pydata.org/pandas-docs/stable/indexing.html#indexing-view-versus-copy\n",
      "/Users/Drewpearson/anaconda3/lib/python3.6/site-packages/ipykernel_launcher.py:19: SettingWithCopyWarning: \n",
      "A value is trying to be set on a copy of a slice from a DataFrame.\n",
      "Try using .loc[row_indexer,col_indexer] = value instead\n",
      "\n",
      "See the caveats in the documentation: http://pandas.pydata.org/pandas-docs/stable/indexing.html#indexing-view-versus-copy\n"
     ]
    },
    {
     "name": "stdout",
     "output_type": "stream",
     "text": [
      "0.1441717791411043\n",
      "0.26666666666666666\n",
      "0.39285714285714285\n",
      "0.42857142857142855\n",
      "0.4772727272727273\n",
      "0.45714285714285713\n",
      "0.5172413793103449\n",
      "0.5357142857142857\n",
      "0.6\n",
      "0.6818181818181818\n",
      "0.7058823529411765\n",
      "0.6875\n"
     ]
    },
    {
     "name": "stderr",
     "output_type": "stream",
     "text": [
      "/Users/Drewpearson/anaconda3/lib/python3.6/site-packages/ipykernel_launcher.py:47: SettingWithCopyWarning: \n",
      "A value is trying to be set on a copy of a slice from a DataFrame.\n",
      "Try using .loc[row_indexer,col_indexer] = value instead\n",
      "\n",
      "See the caveats in the documentation: http://pandas.pydata.org/pandas-docs/stable/indexing.html#indexing-view-versus-copy\n",
      "/Users/Drewpearson/anaconda3/lib/python3.6/site-packages/matplotlib/figure.py:98: MatplotlibDeprecationWarning: \n",
      "Adding an axes using the same arguments as a previous axes currently reuses the earlier instance.  In a future version, a new instance will always be created and returned.  Meanwhile, this warning can be suppressed, and the future behavior ensured, by passing a unique label to each axes instance.\n",
      "  \"Adding an axes using the same arguments as a previous axes \"\n"
     ]
    },
    {
     "name": "stdout",
     "output_type": "stream",
     "text": [
      "False\n"
     ]
    }
   ],
   "source": [
    "for ticker in Tickers:\n",
    "    print (ticker)\n",
    "    main(ticker, False, model_version)"
   ]
  },
  {
   "cell_type": "code",
   "execution_count": null,
   "metadata": {},
   "outputs": [],
   "source": []
  }
 ],
 "metadata": {
  "kernelspec": {
   "display_name": "Python 3",
   "language": "python",
   "name": "python3"
  },
  "language_info": {
   "codemirror_mode": {
    "name": "ipython",
    "version": 3
   },
   "file_extension": ".py",
   "mimetype": "text/x-python",
   "name": "python",
   "nbconvert_exporter": "python",
   "pygments_lexer": "ipython3",
   "version": "3.6.8"
  }
 },
 "nbformat": 4,
 "nbformat_minor": 2
}

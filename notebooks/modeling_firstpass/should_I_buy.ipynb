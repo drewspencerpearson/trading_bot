{
 "cells": [
  {
   "cell_type": "code",
   "execution_count": 10,
   "metadata": {},
   "outputs": [],
   "source": [
    "import pandas as pd\n",
    "import pickle\n",
    "import json\n",
    "from sklearn import  metrics\n",
    "from sklearn import svm\n",
    "from datetime import datetime, timedelta\n",
    "import yfinance as yf"
   ]
  },
  {
   "cell_type": "code",
   "execution_count": 72,
   "metadata": {},
   "outputs": [],
   "source": [
    "def company_data(ticker):\n",
    "    days_to_subtract = 90\n",
    "    end_date = (datetime.today())\n",
    "    start_date = end_date-timedelta(days=days_to_subtract)\n",
    "\n",
    "    end_date = end_date.strftime('%Y-%m-%d')\n",
    "    start_date = start_date.strftime('%Y-%m-%d')\n",
    "    \n",
    "    company = yf.Ticker(ticker)\n",
    "    historical_df = company.history(period='1d', interval = '1d', start = start_date)\n",
    "    return historical_df\n",
    "    "
   ]
  },
  {
   "cell_type": "code",
   "execution_count": 73,
   "metadata": {},
   "outputs": [],
   "source": [
    "def data_for_model(ticker):\n",
    "    historical_df = company_data(ticker)\n",
    "    open_prices = historical_df['Open'].values\n",
    "    close_prices = historical_df['Close'].values\n",
    "    high_prices = historical_df['High'].values\n",
    "    low_prices = historical_df['Low'].values\n",
    "    \n",
    "    \n",
    "    prev_closes = close_prices[-45:]\n",
    "    prev_high = high_prices[-45:]\n",
    "    prev_open = open_prices[-45:]\n",
    "    prev_low = low_prices[-45:]\n",
    "    \n",
    "    model_df = pd.DataFrame(prev_closes)\n",
    "    model_df = model_df.T\n",
    "    for index in range(len(prev_closes)):\n",
    "        model_df['open_{}'.format(index)] = prev_open[index]\n",
    "        model_df['high_{}'.format(index)] = prev_high[index]\n",
    "        model_df['low_{}'.format(index)] = prev_low[index]\n",
    "        \n",
    "    return model_df"
   ]
  },
  {
   "cell_type": "code",
   "execution_count": 82,
   "metadata": {},
   "outputs": [],
   "source": [
    "def buy_nobuy(ticker, model_version):\n",
    "    model_df = data_for_model(ticker)\n",
    "    \n",
    "    # Load in the model\n",
    "    clf2 = pickle.load(open('../{}/data/{}/svm_model.sav'.format(model_version, ticker), 'rb'))\n",
    "    with open('../{}/data/{}/meta_data.json'.format(model_version, ticker)) as json_file:\n",
    "                meta = json.load(json_file)\n",
    "    prediction = clf2.predict_proba(model_df)\n",
    "    if prediction[:,1]> meta['threshold']:\n",
    "        return \"buy\"\n",
    "    else:\n",
    "        return \"no_buy\""
   ]
  },
  {
   "cell_type": "code",
   "execution_count": 75,
   "metadata": {},
   "outputs": [
    {
     "name": "stdout",
     "output_type": "stream",
     "text": [
      "no_buy\n"
     ]
    }
   ],
   "source": [
    "buy_nobuy('SFIX', 'test_versioning')"
   ]
  },
  {
   "cell_type": "code",
   "execution_count": 84,
   "metadata": {},
   "outputs": [],
   "source": [
    "def main(model_version):\n",
    "    for pin in os.listdir('../{}/data/'.format(model_version)):\n",
    "        if pin =='.DS_Store':\n",
    "            continue\n",
    "        elif not os.path.exists('../{}/data/{}/svm_model.sav'.format(model_version, pin)):\n",
    "            print ('{} did not have a model'.format(pin))\n",
    "        else:\n",
    "            print (\"{}: \".format(pin) + buy_nobuy(pin, model_version))"
   ]
  },
  {
   "cell_type": "code",
   "execution_count": 85,
   "metadata": {},
   "outputs": [
    {
     "name": "stdout",
     "output_type": "stream",
     "text": [
      "PINS: no_buy\n",
      "SFIX: no_buy\n"
     ]
    }
   ],
   "source": [
    "main('test_versioning')"
   ]
  },
  {
   "cell_type": "code",
   "execution_count": 78,
   "metadata": {},
   "outputs": [
    {
     "data": {
      "text/plain": [
       "['PINS', '.DS_Store', 'SFIX']"
      ]
     },
     "execution_count": 78,
     "metadata": {},
     "output_type": "execute_result"
    }
   ],
   "source": [
    "os.listdir('../test_versioning/data/')"
   ]
  },
  {
   "cell_type": "code",
   "execution_count": 79,
   "metadata": {},
   "outputs": [
    {
     "name": "stdout",
     "output_type": "stream",
     "text": [
      "yes\n"
     ]
    }
   ],
   "source": [
    "if not os.path.exists('../data/{}/svm_model.sav'.format('MAR')):\n",
    "    print ('yes')"
   ]
  },
  {
   "cell_type": "code",
   "execution_count": null,
   "metadata": {},
   "outputs": [],
   "source": []
  }
 ],
 "metadata": {
  "kernelspec": {
   "display_name": "Python 3",
   "language": "python",
   "name": "python3"
  },
  "language_info": {
   "codemirror_mode": {
    "name": "ipython",
    "version": 3
   },
   "file_extension": ".py",
   "mimetype": "text/x-python",
   "name": "python",
   "nbconvert_exporter": "python",
   "pygments_lexer": "ipython3",
   "version": "3.6.8"
  }
 },
 "nbformat": 4,
 "nbformat_minor": 2
}

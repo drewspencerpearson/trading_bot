{
 "cells": [
  {
   "cell_type": "code",
   "execution_count": 4,
   "metadata": {},
   "outputs": [],
   "source": [
    "import pandas as pd\n",
    "import pickle\n",
    "import json\n",
    "from sklearn import  metrics\n",
    "from sklearn import svm\n",
    "from datetime import datetime, timedelta\n",
    "import yfinance as yf\n",
    "import argparse\n",
    "import os\n",
    "import numpy as np"
   ]
  },
  {
   "cell_type": "code",
   "execution_count": 6,
   "metadata": {},
   "outputs": [
    {
     "data": {
      "text/plain": [
       "_StoreAction(option_strings=[], dest='model_version', nargs=None, const=None, default=None, type=<class 'str'>, choices=None, help='what model version is this', metavar=None)"
      ]
     },
     "execution_count": 6,
     "metadata": {},
     "output_type": "execute_result"
    }
   ],
   "source": [
    "parser = argparse.ArgumentParser(description='Evaluate features for ITC')\n",
    "#parser.add_argument('company_ticker', type=str, help='what ticker is this for')\n",
    "parser.add_argument('model_version', type=str, help='what model version is this')\n"
   ]
  },
  {
   "cell_type": "code",
   "execution_count": 5,
   "metadata": {},
   "outputs": [],
   "source": [
    "def calculating_average_crossover(prev_closes):\n",
    "    my_df = pd.DataFrame(prev_closes)\n",
    "    twenty = my_df.T.rolling(window = 20, axis = 1).mean().iloc[:,-26:].values[0]\n",
    "    ten = my_df.T.rolling(window = 10, axis = 1).mean().iloc[:,-26:].values[0]\n",
    "    \n",
    "    twenty_over_ten = []\n",
    "    for i in range(0,26):\n",
    "        if twenty[i]>ten[i]:\n",
    "            twenty_over_ten.append(0)\n",
    "        else:\n",
    "            twenty_over_ten.append(1)\n",
    "    return twenty, ten, twenty_over_ten\n",
    "\n",
    "def company_data(ticker):\n",
    "    days_to_subtract = 90\n",
    "    end_date = (datetime.today())\n",
    "    start_date = end_date-timedelta(days=days_to_subtract)\n",
    "\n",
    "    end_date = end_date.strftime('%Y-%m-%d')\n",
    "    start_date = start_date.strftime('%Y-%m-%d')\n",
    "    print (end_date)\n",
    "    \n",
    "    company = yf.Ticker(ticker)\n",
    "    historical_df = company.history(period='1d', interval = '1d', start = start_date)\n",
    "    return historical_df\n",
    "\n",
    "\n",
    "def data_for_model(ticker):\n",
    "    historical_df = company_data(ticker)\n",
    "    open_prices = historical_df['Open'].values\n",
    "    close_prices = historical_df['Close'].values\n",
    "    high_prices = historical_df['High'].values\n",
    "    low_prices = historical_df['Low'].values\n",
    "    \n",
    "    \n",
    "    prev_closes = close_prices[-45:]\n",
    "    prev_high = high_prices[-45:]\n",
    "    prev_open = open_prices[-45:]\n",
    "    prev_low = low_prices[-45:]\n",
    "    \n",
    "    # get the averages and crossovers\n",
    "    twenty_average, ten_average, cross_over = calculating_average_crossover(prev_closes)\n",
    "    \n",
    "    model_df = pd.DataFrame(prev_closes)\n",
    "    model_df = model_df.T\n",
    "    for index in range(len(prev_closes)):\n",
    "        model_df['open_{}'.format(index)] = prev_open[index]\n",
    "        model_df['high_{}'.format(index)] = prev_high[index]\n",
    "        model_df['low_{}'.format(index)] = prev_low[index]\n",
    "    \n",
    "    for index in range(len(twenty_average)):\n",
    "                model_df['twenty_average_{}'.format(index+19)] = twenty_average[index]\n",
    "                model_df['ten_average_{}'.format(index+19)] = ten_average[index]\n",
    "                model_df['crossover_{}'.format(index+19)] = cross_over[index]\n",
    "        \n",
    "    return model_df\n",
    "\n",
    "\n",
    "def buy_nobuy(ticker, model_version):\n",
    "    # Check to see the model is good\n",
    "    with open('../{}/data/{}/purchase_results.json'.format(model_version, ticker)) as json_file:\n",
    "        results = json.load(json_file)\n",
    "    if 'Purchases' in results:\n",
    "        return \"Test set no purchases\"\n",
    "    elif results['hold_strategy_roi'] < .035:\n",
    "        return \"Bad ROI\"\n",
    "    \n",
    "    print (\"Rate of purchases that had to be holds: {}\".format(len(results['days_held'])/results['purchases']))\n",
    "    print (\"Average number of days held: {}\").format(np.average(results['days_held']))\n",
    "    model_df = data_for_model(ticker)\n",
    "    \n",
    "    # Load in the model\n",
    "    model = pickle.load(open('./{}/data/{}/model.sav'.format(model_version, ticker), 'rb'))\n",
    "    with open('./{}/data/{}/meta_data.json'.format(model_version, ticker)) as json_file:\n",
    "                meta = json.load(json_file)\n",
    "    prediction = model.predict_proba(model_df)\n",
    "    print (prediction)\n",
    "    if prediction[:,1]> meta['threshold']:\n",
    "        return \"buy\"\n",
    "    else:\n",
    "        return \"no_buy\"\n",
    "\n",
    "def main(model_version):\n",
    "    for pin in os.listdir('./{}/data/'.format(model_version)):\n",
    "        if pin == '.DS_Store':\n",
    "            continue\n",
    "        elif not os.path.exists('./{}/data/{}/model.sav'.format(model_version, pin)):\n",
    "            print ('{} did not have a model'.format(pin))\n",
    "        else:\n",
    "            print (\"{}: \".format(pin) + buy_nobuy(pin, model_version))"
   ]
  },
  {
   "cell_type": "code",
   "execution_count": null,
   "metadata": {},
   "outputs": [],
   "source": []
  },
  {
   "cell_type": "code",
   "execution_count": null,
   "metadata": {},
   "outputs": [],
   "source": []
  },
  {
   "cell_type": "code",
   "execution_count": null,
   "metadata": {},
   "outputs": [],
   "source": []
  }
 ],
 "metadata": {
  "kernelspec": {
   "display_name": "Python 3",
   "language": "python",
   "name": "python3"
  },
  "language_info": {
   "codemirror_mode": {
    "name": "ipython",
    "version": 3
   },
   "file_extension": ".py",
   "mimetype": "text/x-python",
   "name": "python",
   "nbconvert_exporter": "python",
   "pygments_lexer": "ipython3",
   "version": "3.6.8"
  }
 },
 "nbformat": 4,
 "nbformat_minor": 2
}
